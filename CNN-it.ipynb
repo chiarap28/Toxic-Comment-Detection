{
 "cells": [
  {
   "cell_type": "code",
   "execution_count": 2,
   "metadata": {},
   "outputs": [
    {
     "name": "stderr",
     "output_type": "stream",
     "text": [
      "Using TensorFlow backend.\n"
     ]
    }
   ],
   "source": [
    "import os, re\n",
    "import pandas as pd\n",
    "import numpy as np\n",
    "import tensorflow as tf\n",
    "import matplotlib.pyplot as plt\n",
    "\n",
    "from keras.layers import Dense, Input, LSTM, Embedding, Dropout, Bidirectional\n",
    "from keras.layers import GlobalMaxPool1D, Conv1D, MaxPooling1D, Flatten, AveragePooling1D\n",
    "from keras.models import Model, Sequential\n",
    "from keras import initializers, regularizers, constraints, optimizers, layers\n",
    "from keras.callbacks.callbacks import EarlyStopping, ModelCheckpoint\n",
    "from keras.wrappers.scikit_learn import KerasClassifier\n",
    "from keras.metrics import AUC\n",
    "from keras.models import load_model"
   ]
  },
  {
   "cell_type": "code",
   "execution_count": 3,
   "metadata": {},
   "outputs": [],
   "source": [
    "physical_devices = tf.config.experimental.list_physical_devices('GPU')\n",
    "tf.config.experimental.set_memory_growth(physical_devices[0], True)"
   ]
  },
  {
   "cell_type": "markdown",
   "metadata": {},
   "source": [
    "# Open and save data and weights"
   ]
  },
  {
   "cell_type": "code",
   "execution_count": 4,
   "metadata": {},
   "outputs": [],
   "source": [
    "x_tr_1 = np.genfromtxt('data_preproc/x_tr_1_it.csv')"
   ]
  },
  {
   "cell_type": "code",
   "execution_count": 5,
   "metadata": {
    "scrolled": true
   },
   "outputs": [
    {
     "data": {
      "text/plain": [
       "(7410, 200)"
      ]
     },
     "execution_count": 5,
     "metadata": {},
     "output_type": "execute_result"
    }
   ],
   "source": [
    "x_tr_1.shape"
   ]
  },
  {
   "cell_type": "code",
   "execution_count": 6,
   "metadata": {},
   "outputs": [],
   "source": [
    "x_ts_1 = np.genfromtxt('data_preproc/x_ts_1_it.csv')"
   ]
  },
  {
   "cell_type": "code",
   "execution_count": 7,
   "metadata": {},
   "outputs": [
    {
     "data": {
      "text/plain": [
       "(1998, 200)"
      ]
     },
     "execution_count": 7,
     "metadata": {},
     "output_type": "execute_result"
    }
   ],
   "source": [
    "x_ts_1.shape"
   ]
  },
  {
   "cell_type": "code",
   "execution_count": 8,
   "metadata": {},
   "outputs": [],
   "source": [
    "x_tr_2 = np.genfromtxt('data_preproc/x_tr_2_it.csv')"
   ]
  },
  {
   "cell_type": "code",
   "execution_count": 9,
   "metadata": {},
   "outputs": [
    {
     "data": {
      "text/plain": [
       "(7410, 200)"
      ]
     },
     "execution_count": 9,
     "metadata": {},
     "output_type": "execute_result"
    }
   ],
   "source": [
    "x_tr_2.shape"
   ]
  },
  {
   "cell_type": "code",
   "execution_count": 10,
   "metadata": {},
   "outputs": [],
   "source": [
    "x_ts_2 = np.genfromtxt('data_preproc/x_ts_2_it.csv')"
   ]
  },
  {
   "cell_type": "code",
   "execution_count": 11,
   "metadata": {},
   "outputs": [
    {
     "data": {
      "text/plain": [
       "(1998, 200)"
      ]
     },
     "execution_count": 11,
     "metadata": {},
     "output_type": "execute_result"
    }
   ],
   "source": [
    "x_ts_2.shape"
   ]
  },
  {
   "cell_type": "code",
   "execution_count": 12,
   "metadata": {},
   "outputs": [],
   "source": [
    "x_tr_3 = np.genfromtxt('data_preproc/x_tr_3_it.csv')"
   ]
  },
  {
   "cell_type": "code",
   "execution_count": 13,
   "metadata": {},
   "outputs": [
    {
     "data": {
      "text/plain": [
       "(7410, 200)"
      ]
     },
     "execution_count": 13,
     "metadata": {},
     "output_type": "execute_result"
    }
   ],
   "source": [
    "x_tr_3.shape"
   ]
  },
  {
   "cell_type": "code",
   "execution_count": 14,
   "metadata": {},
   "outputs": [],
   "source": [
    "x_ts_3 = np.genfromtxt('data_preproc/x_ts_3_it.csv')"
   ]
  },
  {
   "cell_type": "code",
   "execution_count": 15,
   "metadata": {},
   "outputs": [
    {
     "data": {
      "text/plain": [
       "(1998, 200)"
      ]
     },
     "execution_count": 15,
     "metadata": {},
     "output_type": "execute_result"
    }
   ],
   "source": [
    "x_ts_3.shape"
   ]
  },
  {
   "cell_type": "code",
   "execution_count": 16,
   "metadata": {},
   "outputs": [],
   "source": [
    "x_tr_4 = np.genfromtxt('data_preproc/x_tr_4_it.csv')"
   ]
  },
  {
   "cell_type": "code",
   "execution_count": 17,
   "metadata": {},
   "outputs": [
    {
     "data": {
      "text/plain": [
       "(7410, 200)"
      ]
     },
     "execution_count": 17,
     "metadata": {},
     "output_type": "execute_result"
    }
   ],
   "source": [
    "x_tr_4.shape"
   ]
  },
  {
   "cell_type": "code",
   "execution_count": 18,
   "metadata": {},
   "outputs": [],
   "source": [
    "x_ts_4 = np.genfromtxt('data_preproc/x_ts_4_it.csv')"
   ]
  },
  {
   "cell_type": "code",
   "execution_count": 19,
   "metadata": {},
   "outputs": [
    {
     "data": {
      "text/plain": [
       "(1998, 200)"
      ]
     },
     "execution_count": 19,
     "metadata": {},
     "output_type": "execute_result"
    }
   ],
   "source": [
    "x_ts_4.shape"
   ]
  },
  {
   "cell_type": "code",
   "execution_count": 20,
   "metadata": {},
   "outputs": [],
   "source": [
    "emb_matrix_ft = np.genfromtxt('data_preproc/emb_matr_ft_it.csv')"
   ]
  },
  {
   "cell_type": "code",
   "execution_count": 21,
   "metadata": {},
   "outputs": [
    {
     "data": {
      "text/plain": [
       "(30000, 200)"
      ]
     },
     "execution_count": 21,
     "metadata": {},
     "output_type": "execute_result"
    }
   ],
   "source": [
    "emb_matrix_ft.shape"
   ]
  },
  {
   "cell_type": "code",
   "execution_count": 22,
   "metadata": {},
   "outputs": [],
   "source": [
    "train = pd.read_csv('data_it/training_set_sentipolc16.csv/training_set_sentipolc16.csv')\n",
    "col = ['opos', 'oneg']\n",
    "y_tr = train[col].values"
   ]
  },
  {
   "cell_type": "markdown",
   "metadata": {},
   "source": [
    "# Convolutional Neural Network"
   ]
  },
  {
   "cell_type": "code",
   "execution_count": 23,
   "metadata": {},
   "outputs": [],
   "source": [
    "max_len = 200\n",
    "max_feature = 30000"
   ]
  },
  {
   "cell_type": "code",
   "execution_count": 68,
   "metadata": {},
   "outputs": [],
   "source": [
    "from keras import backend as K\n",
    "\n",
    "def recall_m(y_true, y_pred):\n",
    "    true_positives = K.sum(K.round(K.clip(y_true * y_pred, 0, 1)))\n",
    "    possible_positives = K.sum(K.round(K.clip(y_true, 0, 1)))\n",
    "    recall = true_positives / (possible_positives + K.epsilon())\n",
    "    return recall\n",
    "\n",
    "def precision_m(y_true, y_pred):\n",
    "    true_positives = K.sum(K.round(K.clip(y_true * y_pred, 0, 1)))\n",
    "    predicted_positives = K.sum(K.round(K.clip(y_pred, 0, 1)))\n",
    "    precision = true_positives / (predicted_positives + K.epsilon())\n",
    "    return precision\n",
    "\n",
    "def f1_m(y_true, y_pred):\n",
    "    precision = precision_m(y_true, y_pred)\n",
    "    recall = recall_m(y_true, y_pred)\n",
    "    return 2*((precision*recall)/(precision+recall))\n"
   ]
  },
  {
   "cell_type": "code",
   "execution_count": 74,
   "metadata": {},
   "outputs": [],
   "source": [
    "cp = ModelCheckpoint('models_it/best_cnn_IT.h5', monitor='val_accuracy', verbose=1, save_best_only=True, mode='max')\n",
    "es = EarlyStopping(verbose=1, patience=10)\n",
    "callbacks = [cp, es]"
   ]
  },
  {
   "cell_type": "code",
   "execution_count": 75,
   "metadata": {},
   "outputs": [],
   "source": [
    "def build_model(emb_matrix):\n",
    "    \"\"\"\n",
    "    Questa funzione crea la struttura del modello e lo compila\n",
    "    return: il modello\n",
    "    \n",
    "    emb_matrix: matrice che inizializza i pesi dell'Embedding layer\n",
    "    \"\"\"\n",
    "    \n",
    "    model_1 = Sequential()\n",
    "    model_1.add(Embedding(max_feature, 200, input_length=max_len, weights=[emb_matrix]))\n",
    "    model_1.add(Conv1D(filters=128, kernel_size=3, activation='relu', padding='same'))\n",
    "    model_1.add(GlobalMaxPool1D())\n",
    "    model_1.add(Dropout(rate=0.3))\n",
    "    model_1.add(Dense(units=100, activation='relu'))\n",
    "    model_1.add(Dropout(rate=0.1))\n",
    "    model_1.add(Dense(2, activation='sigmoid'))\n",
    "    model_1.compile(optimizer='adam', loss='binary_crossentropy', metrics=['accuracy'])\n",
    "    \n",
    "    return model_1"
   ]
  },
  {
   "cell_type": "code",
   "execution_count": 76,
   "metadata": {
    "scrolled": false
   },
   "outputs": [
    {
     "name": "stderr",
     "output_type": "stream",
     "text": [
      "/home/chiarapower/anaconda3/envs/tensorflow_gpuenv/lib/python3.7/site-packages/tensorflow_core/python/framework/indexed_slices.py:433: UserWarning: Converting sparse IndexedSlices to a dense Tensor of unknown shape. This may consume a large amount of memory.\n",
      "  \"Converting sparse IndexedSlices to a dense Tensor of unknown shape. \"\n"
     ]
    },
    {
     "name": "stdout",
     "output_type": "stream",
     "text": [
      "Train on 6669 samples, validate on 741 samples\n",
      "Epoch 1/50\n",
      "6669/6669 [==============================] - 3s 432us/step - loss: 0.6372 - accuracy: 0.6387 - val_loss: 0.5859 - val_accuracy: 0.7247\n",
      "\n",
      "Epoch 00001: val_accuracy improved from -inf to 0.72470, saving model to models_it/best_cnn_IT.h5\n",
      "Epoch 2/50\n",
      "6669/6669 [==============================] - 3s 404us/step - loss: 0.5762 - accuracy: 0.7025 - val_loss: 0.5339 - val_accuracy: 0.7422\n",
      "\n",
      "Epoch 00002: val_accuracy improved from 0.72470 to 0.74224, saving model to models_it/best_cnn_IT.h5\n",
      "Epoch 3/50\n",
      "6669/6669 [==============================] - 3s 406us/step - loss: 0.4540 - accuracy: 0.7926 - val_loss: 0.5692 - val_accuracy: 0.7200\n",
      "\n",
      "Epoch 00003: val_accuracy did not improve from 0.74224\n",
      "Epoch 4/50\n",
      "6669/6669 [==============================] - 3s 404us/step - loss: 0.2689 - accuracy: 0.8978 - val_loss: 0.5285 - val_accuracy: 0.7699\n",
      "\n",
      "Epoch 00004: val_accuracy improved from 0.74224 to 0.76991, saving model to models_it/best_cnn_IT.h5\n",
      "Epoch 5/50\n",
      "6669/6669 [==============================] - 3s 406us/step - loss: 0.1249 - accuracy: 0.9626 - val_loss: 0.6409 - val_accuracy: 0.7557\n",
      "\n",
      "Epoch 00005: val_accuracy did not improve from 0.76991\n",
      "Epoch 6/50\n",
      "6669/6669 [==============================] - 3s 410us/step - loss: 0.0538 - accuracy: 0.9864 - val_loss: 0.7642 - val_accuracy: 0.7355\n",
      "\n",
      "Epoch 00006: val_accuracy did not improve from 0.76991\n",
      "Epoch 7/50\n",
      "6669/6669 [==============================] - 3s 410us/step - loss: 0.0243 - accuracy: 0.9956 - val_loss: 0.7962 - val_accuracy: 0.7476\n",
      "\n",
      "Epoch 00007: val_accuracy did not improve from 0.76991\n",
      "Epoch 8/50\n",
      "6669/6669 [==============================] - 3s 408us/step - loss: 0.0153 - accuracy: 0.9974 - val_loss: 0.8589 - val_accuracy: 0.7456\n",
      "\n",
      "Epoch 00008: val_accuracy did not improve from 0.76991\n",
      "Epoch 9/50\n",
      "6669/6669 [==============================] - 3s 410us/step - loss: 0.0091 - accuracy: 0.9984 - val_loss: 0.9242 - val_accuracy: 0.7395\n",
      "\n",
      "Epoch 00009: val_accuracy did not improve from 0.76991\n",
      "Epoch 10/50\n",
      "6669/6669 [==============================] - 3s 409us/step - loss: 0.0062 - accuracy: 0.9992 - val_loss: 1.0595 - val_accuracy: 0.7152\n",
      "\n",
      "Epoch 00010: val_accuracy did not improve from 0.76991\n",
      "Epoch 11/50\n",
      "6669/6669 [==============================] - 3s 409us/step - loss: 0.0045 - accuracy: 0.9994 - val_loss: 1.0274 - val_accuracy: 0.7470\n",
      "\n",
      "Epoch 00011: val_accuracy did not improve from 0.76991\n",
      "Epoch 12/50\n",
      "6669/6669 [==============================] - 3s 409us/step - loss: 0.0034 - accuracy: 0.9997 - val_loss: 1.0978 - val_accuracy: 0.7429\n",
      "\n",
      "Epoch 00012: val_accuracy did not improve from 0.76991\n",
      "Epoch 13/50\n",
      "6669/6669 [==============================] - 3s 410us/step - loss: 0.0031 - accuracy: 0.9994 - val_loss: 1.1346 - val_accuracy: 0.7416\n",
      "\n",
      "Epoch 00013: val_accuracy did not improve from 0.76991\n",
      "Epoch 14/50\n",
      "6669/6669 [==============================] - 3s 412us/step - loss: 0.0027 - accuracy: 0.9995 - val_loss: 1.1478 - val_accuracy: 0.7443\n",
      "\n",
      "Epoch 00014: val_accuracy did not improve from 0.76991\n",
      "Epoch 00014: early stopping\n"
     ]
    }
   ],
   "source": [
    "# fit with x_tr_1: training data without digits and punctuation\n",
    "\n",
    "model1 = build_model(emb_matrix_ft)\n",
    "\n",
    "history1_1 = model1.fit(x_tr_1, y_tr, batch_size=128, epochs=50, validation_split=0.1, callbacks=callbacks)"
   ]
  },
  {
   "cell_type": "code",
   "execution_count": 77,
   "metadata": {
    "scrolled": false
   },
   "outputs": [
    {
     "name": "stderr",
     "output_type": "stream",
     "text": [
      "/home/chiarapower/anaconda3/envs/tensorflow_gpuenv/lib/python3.7/site-packages/tensorflow_core/python/framework/indexed_slices.py:433: UserWarning: Converting sparse IndexedSlices to a dense Tensor of unknown shape. This may consume a large amount of memory.\n",
      "  \"Converting sparse IndexedSlices to a dense Tensor of unknown shape. \"\n"
     ]
    },
    {
     "name": "stdout",
     "output_type": "stream",
     "text": [
      "Train on 6669 samples, validate on 741 samples\n",
      "Epoch 1/50\n",
      "6669/6669 [==============================] - 3s 432us/step - loss: 0.6318 - accuracy: 0.6494 - val_loss: 0.5385 - val_accuracy: 0.8178\n",
      "\n",
      "Epoch 00001: val_accuracy improved from 0.76991 to 0.81781, saving model to models_it/best_cnn_IT.h5\n",
      "Epoch 2/50\n",
      "6669/6669 [==============================] - 3s 402us/step - loss: 0.5504 - accuracy: 0.7251 - val_loss: 0.5305 - val_accuracy: 0.7537\n",
      "\n",
      "Epoch 00002: val_accuracy did not improve from 0.81781\n",
      "Epoch 3/50\n",
      "6669/6669 [==============================] - 3s 402us/step - loss: 0.3702 - accuracy: 0.8456 - val_loss: 0.5413 - val_accuracy: 0.7443\n",
      "\n",
      "Epoch 00003: val_accuracy did not improve from 0.81781\n",
      "Epoch 4/50\n",
      "6669/6669 [==============================] - 3s 403us/step - loss: 0.1734 - accuracy: 0.9430 - val_loss: 0.6502 - val_accuracy: 0.7308\n",
      "\n",
      "Epoch 00004: val_accuracy did not improve from 0.81781\n",
      "Epoch 5/50\n",
      "6669/6669 [==============================] - 3s 405us/step - loss: 0.0741 - accuracy: 0.9776 - val_loss: 0.7916 - val_accuracy: 0.7146\n",
      "\n",
      "Epoch 00005: val_accuracy did not improve from 0.81781\n",
      "Epoch 6/50\n",
      "6669/6669 [==============================] - 3s 407us/step - loss: 0.0324 - accuracy: 0.9916 - val_loss: 0.8754 - val_accuracy: 0.7254\n",
      "\n",
      "Epoch 00006: val_accuracy did not improve from 0.81781\n",
      "Epoch 7/50\n",
      "6669/6669 [==============================] - 3s 408us/step - loss: 0.0167 - accuracy: 0.9966 - val_loss: 0.9216 - val_accuracy: 0.7301\n",
      "\n",
      "Epoch 00007: val_accuracy did not improve from 0.81781\n",
      "Epoch 8/50\n",
      "6669/6669 [==============================] - 3s 408us/step - loss: 0.0119 - accuracy: 0.9978 - val_loss: 1.0153 - val_accuracy: 0.7274\n",
      "\n",
      "Epoch 00008: val_accuracy did not improve from 0.81781\n",
      "Epoch 9/50\n",
      "6669/6669 [==============================] - 3s 408us/step - loss: 0.0088 - accuracy: 0.9987 - val_loss: 1.0613 - val_accuracy: 0.7274\n",
      "\n",
      "Epoch 00009: val_accuracy did not improve from 0.81781\n",
      "Epoch 10/50\n",
      "6669/6669 [==============================] - 3s 407us/step - loss: 0.0078 - accuracy: 0.9982 - val_loss: 1.1860 - val_accuracy: 0.7085\n",
      "\n",
      "Epoch 00010: val_accuracy did not improve from 0.81781\n",
      "Epoch 11/50\n",
      "6669/6669 [==============================] - 3s 408us/step - loss: 0.0057 - accuracy: 0.9984 - val_loss: 1.2064 - val_accuracy: 0.7254\n",
      "\n",
      "Epoch 00011: val_accuracy did not improve from 0.81781\n",
      "Epoch 12/50\n",
      "6669/6669 [==============================] - 3s 406us/step - loss: 0.0047 - accuracy: 0.9990 - val_loss: 1.1927 - val_accuracy: 0.7375\n",
      "\n",
      "Epoch 00012: val_accuracy did not improve from 0.81781\n",
      "Epoch 00012: early stopping\n"
     ]
    }
   ],
   "source": [
    "# fit with x_tr_2: without URLs, stopwords and abbreviations\n",
    "\n",
    "model2 = build_model(emb_matrix_ft)\n",
    "\n",
    "history1_2 = model2.fit(x_tr_2, y_tr, batch_size=128, epochs=50, validation_split=0.1, callbacks=callbacks)"
   ]
  },
  {
   "cell_type": "code",
   "execution_count": 78,
   "metadata": {},
   "outputs": [
    {
     "name": "stderr",
     "output_type": "stream",
     "text": [
      "/home/chiarapower/anaconda3/envs/tensorflow_gpuenv/lib/python3.7/site-packages/tensorflow_core/python/framework/indexed_slices.py:433: UserWarning: Converting sparse IndexedSlices to a dense Tensor of unknown shape. This may consume a large amount of memory.\n",
      "  \"Converting sparse IndexedSlices to a dense Tensor of unknown shape. \"\n"
     ]
    },
    {
     "name": "stdout",
     "output_type": "stream",
     "text": [
      "Train on 6669 samples, validate on 741 samples\n",
      "Epoch 1/50\n",
      "6669/6669 [==============================] - 3s 439us/step - loss: 0.6391 - accuracy: 0.6354 - val_loss: 0.5428 - val_accuracy: 0.8212\n",
      "\n",
      "Epoch 00001: val_accuracy improved from 0.81781 to 0.82119, saving model to models_it/best_cnn_IT.h5\n",
      "Epoch 2/50\n",
      "6669/6669 [==============================] - 3s 407us/step - loss: 0.5726 - accuracy: 0.7084 - val_loss: 0.5298 - val_accuracy: 0.7551\n",
      "\n",
      "Epoch 00002: val_accuracy did not improve from 0.82119\n",
      "Epoch 3/50\n",
      "6669/6669 [==============================] - 3s 408us/step - loss: 0.4427 - accuracy: 0.8021 - val_loss: 0.5134 - val_accuracy: 0.7544\n",
      "\n",
      "Epoch 00003: val_accuracy did not improve from 0.82119\n",
      "Epoch 4/50\n",
      "6669/6669 [==============================] - 3s 407us/step - loss: 0.2945 - accuracy: 0.8821 - val_loss: 0.5798 - val_accuracy: 0.7463\n",
      "\n",
      "Epoch 00004: val_accuracy did not improve from 0.82119\n",
      "Epoch 5/50\n",
      "6669/6669 [==============================] - 3s 406us/step - loss: 0.1785 - accuracy: 0.9357 - val_loss: 0.7633 - val_accuracy: 0.7004\n",
      "\n",
      "Epoch 00005: val_accuracy did not improve from 0.82119\n",
      "Epoch 6/50\n",
      "6669/6669 [==============================] - 3s 410us/step - loss: 0.1107 - accuracy: 0.9615 - val_loss: 0.8999 - val_accuracy: 0.6829\n",
      "\n",
      "Epoch 00006: val_accuracy did not improve from 0.82119\n",
      "Epoch 7/50\n",
      "6669/6669 [==============================] - 3s 409us/step - loss: 0.0721 - accuracy: 0.9762 - val_loss: 0.9605 - val_accuracy: 0.7159\n",
      "\n",
      "Epoch 00007: val_accuracy did not improve from 0.82119\n",
      "Epoch 8/50\n",
      "6669/6669 [==============================] - 3s 405us/step - loss: 0.0490 - accuracy: 0.9834 - val_loss: 1.0639 - val_accuracy: 0.7126\n",
      "\n",
      "Epoch 00008: val_accuracy did not improve from 0.82119\n",
      "Epoch 9/50\n",
      "6669/6669 [==============================] - 3s 406us/step - loss: 0.0372 - accuracy: 0.9877 - val_loss: 1.2398 - val_accuracy: 0.6903\n",
      "\n",
      "Epoch 00009: val_accuracy did not improve from 0.82119\n",
      "Epoch 10/50\n",
      "6669/6669 [==============================] - 3s 410us/step - loss: 0.0305 - accuracy: 0.9903 - val_loss: 1.3255 - val_accuracy: 0.6862\n",
      "\n",
      "Epoch 00010: val_accuracy did not improve from 0.82119\n",
      "Epoch 11/50\n",
      "6669/6669 [==============================] - 3s 408us/step - loss: 0.0264 - accuracy: 0.9913 - val_loss: 1.3929 - val_accuracy: 0.6869\n",
      "\n",
      "Epoch 00011: val_accuracy did not improve from 0.82119\n",
      "Epoch 12/50\n",
      "6669/6669 [==============================] - 3s 408us/step - loss: 0.0197 - accuracy: 0.9942 - val_loss: 1.5654 - val_accuracy: 0.6862\n",
      "\n",
      "Epoch 00012: val_accuracy did not improve from 0.82119\n",
      "Epoch 13/50\n",
      "6669/6669 [==============================] - 3s 408us/step - loss: 0.0183 - accuracy: 0.9946 - val_loss: 1.5407 - val_accuracy: 0.6876\n",
      "\n",
      "Epoch 00013: val_accuracy did not improve from 0.82119\n",
      "Epoch 00013: early stopping\n"
     ]
    }
   ],
   "source": [
    "# fit with x_tr_3: with lemmatization\n",
    "\n",
    "model3 = build_model(emb_matrix_ft)\n",
    "\n",
    "history1_3 = model3.fit(x_tr_3, y_tr, batch_size=128, epochs=50, validation_split=0.1, callbacks=callbacks)"
   ]
  },
  {
   "cell_type": "code",
   "execution_count": 79,
   "metadata": {
    "scrolled": false
   },
   "outputs": [
    {
     "name": "stderr",
     "output_type": "stream",
     "text": [
      "/home/chiarapower/anaconda3/envs/tensorflow_gpuenv/lib/python3.7/site-packages/tensorflow_core/python/framework/indexed_slices.py:433: UserWarning: Converting sparse IndexedSlices to a dense Tensor of unknown shape. This may consume a large amount of memory.\n",
      "  \"Converting sparse IndexedSlices to a dense Tensor of unknown shape. \"\n"
     ]
    },
    {
     "name": "stdout",
     "output_type": "stream",
     "text": [
      "Train on 6669 samples, validate on 741 samples\n",
      "Epoch 1/50\n",
      "6669/6669 [==============================] - 3s 432us/step - loss: 0.6412 - accuracy: 0.6373 - val_loss: 0.5650 - val_accuracy: 0.8070\n",
      "\n",
      "Epoch 00001: val_accuracy did not improve from 0.82119\n",
      "Epoch 2/50\n",
      "6669/6669 [==============================] - 3s 402us/step - loss: 0.6035 - accuracy: 0.6820 - val_loss: 0.5473 - val_accuracy: 0.7591\n",
      "\n",
      "Epoch 00002: val_accuracy did not improve from 0.82119\n",
      "Epoch 3/50\n",
      "6669/6669 [==============================] - 3s 403us/step - loss: 0.5664 - accuracy: 0.7182 - val_loss: 0.5493 - val_accuracy: 0.7274\n",
      "\n",
      "Epoch 00003: val_accuracy did not improve from 0.82119\n",
      "Epoch 4/50\n",
      "6669/6669 [==============================] - 3s 404us/step - loss: 0.5281 - accuracy: 0.7407 - val_loss: 0.5529 - val_accuracy: 0.7294\n",
      "\n",
      "Epoch 00004: val_accuracy did not improve from 0.82119\n",
      "Epoch 5/50\n",
      "6669/6669 [==============================] - 3s 404us/step - loss: 0.4826 - accuracy: 0.7719 - val_loss: 0.5715 - val_accuracy: 0.7220\n",
      "\n",
      "Epoch 00005: val_accuracy did not improve from 0.82119\n",
      "Epoch 6/50\n",
      "6669/6669 [==============================] - 3s 408us/step - loss: 0.4451 - accuracy: 0.7940 - val_loss: 0.5755 - val_accuracy: 0.7355\n",
      "\n",
      "Epoch 00006: val_accuracy did not improve from 0.82119\n",
      "Epoch 7/50\n",
      "6669/6669 [==============================] - 3s 408us/step - loss: 0.4076 - accuracy: 0.8105 - val_loss: 0.5875 - val_accuracy: 0.7456\n",
      "\n",
      "Epoch 00007: val_accuracy did not improve from 0.82119\n",
      "Epoch 8/50\n",
      "6669/6669 [==============================] - 3s 407us/step - loss: 0.3687 - accuracy: 0.8315 - val_loss: 0.6607 - val_accuracy: 0.7146\n",
      "\n",
      "Epoch 00008: val_accuracy did not improve from 0.82119\n",
      "Epoch 9/50\n",
      "6669/6669 [==============================] - 3s 409us/step - loss: 0.3513 - accuracy: 0.8357 - val_loss: 0.7065 - val_accuracy: 0.7119\n",
      "\n",
      "Epoch 00009: val_accuracy did not improve from 0.82119\n",
      "Epoch 10/50\n",
      "6669/6669 [==============================] - 3s 408us/step - loss: 0.3293 - accuracy: 0.8476 - val_loss: 0.7073 - val_accuracy: 0.7166\n",
      "\n",
      "Epoch 00010: val_accuracy did not improve from 0.82119\n",
      "Epoch 11/50\n",
      "6669/6669 [==============================] - 3s 408us/step - loss: 0.3159 - accuracy: 0.8489 - val_loss: 0.6983 - val_accuracy: 0.7328\n",
      "\n",
      "Epoch 00011: val_accuracy did not improve from 0.82119\n",
      "Epoch 12/50\n",
      "6669/6669 [==============================] - 3s 407us/step - loss: 0.2980 - accuracy: 0.8599 - val_loss: 0.8018 - val_accuracy: 0.7038\n",
      "\n",
      "Epoch 00012: val_accuracy did not improve from 0.82119\n",
      "Epoch 00012: early stopping\n"
     ]
    }
   ],
   "source": [
    "# fit with x_tr_4: with stemming\n",
    "\n",
    "model4 = build_model(emb_matrix_ft)\n",
    "\n",
    "history1_4 = model4.fit(x_tr_4, y_tr, batch_size=128, epochs=50, validation_split=0.1, callbacks=callbacks)"
   ]
  },
  {
   "cell_type": "code",
   "execution_count": null,
   "metadata": {},
   "outputs": [],
   "source": []
  }
 ],
 "metadata": {
  "kernelspec": {
   "display_name": "Python [conda env:tensorflow_gpuenv] *",
   "language": "python",
   "name": "conda-env-tensorflow_gpuenv-py"
  },
  "language_info": {
   "codemirror_mode": {
    "name": "ipython",
    "version": 3
   },
   "file_extension": ".py",
   "mimetype": "text/x-python",
   "name": "python",
   "nbconvert_exporter": "python",
   "pygments_lexer": "ipython3",
   "version": "3.7.7"
  }
 },
 "nbformat": 4,
 "nbformat_minor": 4
}
