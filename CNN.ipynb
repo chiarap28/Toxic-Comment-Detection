{
 "cells": [
  {
   "cell_type": "code",
   "execution_count": 1,
   "metadata": {},
   "outputs": [
    {
     "name": "stderr",
     "output_type": "stream",
     "text": [
      "Using TensorFlow backend.\n"
     ]
    }
   ],
   "source": [
    "import os, re\n",
    "import pandas as pd\n",
    "import numpy as np\n",
    "import tensorflow as tf\n",
    "import matplotlib.pyplot as plt\n",
    "\n",
    "from keras.layers import Dense, Input, LSTM, Embedding, Dropout, Bidirectional\n",
    "from keras.layers import GlobalMaxPool1D, Conv1D, MaxPooling1D, Flatten, AveragePooling1D\n",
    "from keras.models import Model, Sequential\n",
    "from keras import initializers, regularizers, constraints, optimizers, layers\n",
    "from keras.callbacks.callbacks import EarlyStopping, ModelCheckpoint\n",
    "from keras.metrics import AUC\n",
    "from keras.models import load_model"
   ]
  },
  {
   "cell_type": "code",
   "execution_count": 2,
   "metadata": {},
   "outputs": [],
   "source": [
    "physical_devices = tf.config.experimental.list_physical_devices('GPU')\n",
    "tf.config.experimental.set_memory_growth(physical_devices[0], True)"
   ]
  },
  {
   "cell_type": "markdown",
   "metadata": {},
   "source": [
    "# Open and save data and weights"
   ]
  },
  {
   "cell_type": "code",
   "execution_count": 3,
   "metadata": {},
   "outputs": [],
   "source": [
    "x_tr_1 = np.genfromtxt('data_preproc/x_tr_1.csv')"
   ]
  },
  {
   "cell_type": "code",
   "execution_count": 4,
   "metadata": {
    "scrolled": true
   },
   "outputs": [
    {
     "data": {
      "text/plain": [
       "(159571, 200)"
      ]
     },
     "execution_count": 4,
     "metadata": {},
     "output_type": "execute_result"
    }
   ],
   "source": [
    "x_tr_1.shape"
   ]
  },
  {
   "cell_type": "code",
   "execution_count": 5,
   "metadata": {},
   "outputs": [],
   "source": [
    "x_ts_1 = np.genfromtxt('data_preproc/x_ts_1.csv')"
   ]
  },
  {
   "cell_type": "code",
   "execution_count": 6,
   "metadata": {},
   "outputs": [
    {
     "data": {
      "text/plain": [
       "(153164, 200)"
      ]
     },
     "execution_count": 6,
     "metadata": {},
     "output_type": "execute_result"
    }
   ],
   "source": [
    "x_ts_1.shape"
   ]
  },
  {
   "cell_type": "code",
   "execution_count": 7,
   "metadata": {},
   "outputs": [],
   "source": [
    "x_tr_2 = np.genfromtxt('data_preproc/x_tr_2.csv')"
   ]
  },
  {
   "cell_type": "code",
   "execution_count": 8,
   "metadata": {},
   "outputs": [
    {
     "data": {
      "text/plain": [
       "(159571, 200)"
      ]
     },
     "execution_count": 8,
     "metadata": {},
     "output_type": "execute_result"
    }
   ],
   "source": [
    "x_tr_2.shape"
   ]
  },
  {
   "cell_type": "code",
   "execution_count": 9,
   "metadata": {},
   "outputs": [],
   "source": [
    "x_ts_2 = np.genfromtxt('data_preproc/x_ts_2.csv')"
   ]
  },
  {
   "cell_type": "code",
   "execution_count": 10,
   "metadata": {},
   "outputs": [
    {
     "data": {
      "text/plain": [
       "(153164, 200)"
      ]
     },
     "execution_count": 10,
     "metadata": {},
     "output_type": "execute_result"
    }
   ],
   "source": [
    "x_ts_2.shape"
   ]
  },
  {
   "cell_type": "code",
   "execution_count": 11,
   "metadata": {},
   "outputs": [],
   "source": [
    "x_tr_3 = np.genfromtxt('data_preproc/x_tr_3.csv')"
   ]
  },
  {
   "cell_type": "code",
   "execution_count": 12,
   "metadata": {},
   "outputs": [
    {
     "data": {
      "text/plain": [
       "(159571, 200)"
      ]
     },
     "execution_count": 12,
     "metadata": {},
     "output_type": "execute_result"
    }
   ],
   "source": [
    "x_tr_3.shape"
   ]
  },
  {
   "cell_type": "code",
   "execution_count": 13,
   "metadata": {},
   "outputs": [],
   "source": [
    "x_ts_3 = np.genfromtxt('data_preproc/x_ts_3.csv')"
   ]
  },
  {
   "cell_type": "code",
   "execution_count": 14,
   "metadata": {},
   "outputs": [
    {
     "data": {
      "text/plain": [
       "(153164, 200)"
      ]
     },
     "execution_count": 14,
     "metadata": {},
     "output_type": "execute_result"
    }
   ],
   "source": [
    "x_ts_3.shape"
   ]
  },
  {
   "cell_type": "code",
   "execution_count": 15,
   "metadata": {},
   "outputs": [],
   "source": [
    "x_tr_4 = np.genfromtxt('data_preproc/x_tr_4.csv')"
   ]
  },
  {
   "cell_type": "code",
   "execution_count": 16,
   "metadata": {},
   "outputs": [
    {
     "data": {
      "text/plain": [
       "(159571, 200)"
      ]
     },
     "execution_count": 16,
     "metadata": {},
     "output_type": "execute_result"
    }
   ],
   "source": [
    "x_tr_4.shape"
   ]
  },
  {
   "cell_type": "code",
   "execution_count": 17,
   "metadata": {},
   "outputs": [],
   "source": [
    "x_ts_4 = np.genfromtxt('data_preproc/x_ts_4.csv')"
   ]
  },
  {
   "cell_type": "code",
   "execution_count": 18,
   "metadata": {},
   "outputs": [
    {
     "data": {
      "text/plain": [
       "(153164, 200)"
      ]
     },
     "execution_count": 18,
     "metadata": {},
     "output_type": "execute_result"
    }
   ],
   "source": [
    "x_ts_4.shape"
   ]
  },
  {
   "cell_type": "code",
   "execution_count": 19,
   "metadata": {},
   "outputs": [],
   "source": [
    "emb_matrix_glove = np.genfromtxt('data_preproc/emb_matr_glove.csv')"
   ]
  },
  {
   "cell_type": "code",
   "execution_count": 20,
   "metadata": {},
   "outputs": [
    {
     "data": {
      "text/plain": [
       "(30000, 200)"
      ]
     },
     "execution_count": 20,
     "metadata": {},
     "output_type": "execute_result"
    }
   ],
   "source": [
    "emb_matrix_glove.shape"
   ]
  },
  {
   "cell_type": "code",
   "execution_count": 21,
   "metadata": {},
   "outputs": [],
   "source": [
    "emb_matrix_ft = np.genfromtxt('data_preproc/emb_matr_ft.csv')"
   ]
  },
  {
   "cell_type": "code",
   "execution_count": 22,
   "metadata": {},
   "outputs": [
    {
     "data": {
      "text/plain": [
       "(30000, 200)"
      ]
     },
     "execution_count": 22,
     "metadata": {},
     "output_type": "execute_result"
    }
   ],
   "source": [
    "emb_matrix_ft.shape"
   ]
  },
  {
   "cell_type": "code",
   "execution_count": 23,
   "metadata": {},
   "outputs": [],
   "source": [
    "train = pd.read_csv('data/train.csv/train.csv')\n",
    "col = ['toxic', 'severe_toxic', 'obscene', 'threat', 'insult', 'identity_hate']\n",
    "y_tr = train[col].values"
   ]
  },
  {
   "cell_type": "markdown",
   "metadata": {},
   "source": [
    "# Convolutional Neural Network"
   ]
  },
  {
   "cell_type": "code",
   "execution_count": 24,
   "metadata": {},
   "outputs": [],
   "source": [
    "max_len = 200\n",
    "max_feature = 30000"
   ]
  },
  {
   "cell_type": "code",
   "execution_count": 31,
   "metadata": {},
   "outputs": [],
   "source": [
    "cp = ModelCheckpoint('model_/best_cnn.h5', monitor='val_acc', verbose=1, save_best_only=True)\n",
    "es = EarlyStopping(verbose=1)\n",
    "callbacks = [cp, es]"
   ]
  },
  {
   "cell_type": "code",
   "execution_count": 32,
   "metadata": {},
   "outputs": [],
   "source": [
    "def build_model(emb_matrix):\n",
    "    \"\"\"\n",
    "    Questa funzione crea la struttura del modello e lo compila\n",
    "    return: il modello\n",
    "    \n",
    "    emb_matrix: matrice che inizializza i pesi dell'Embedding layer\n",
    "   \n",
    "    \"\"\"\n",
    "    \n",
    "    inp = Input(shape=(None,))\n",
    "    emb = Embedding(max_feature, 200, input_length=max_len, weights=[emb_matrix])(inp)\n",
    "    conv = Conv1D(filters=128, kernel_size=3, activation='relu', padding='same')(emb)\n",
    "    glbm = GlobalMaxPool1D()(conv)\n",
    "    drp1 = Dropout(rate=0.3)(glbm)\n",
    "    d1 = Dense(units=100, activation='relu')(drp1)\n",
    "    drp2 = Dropout(rate=0.1)(d1)\n",
    "    out = Dense(6, activation='sigmoid')(drp2)\n",
    "    model = Model(inputs=inp, outputs=out)\n",
    "    model.compile(optimizer='adam', loss='binary_crossentropy', metrics=[AUC(name='acc')])\n",
    "    \n",
    "    return model"
   ]
  },
  {
   "cell_type": "code",
   "execution_count": 33,
   "metadata": {},
   "outputs": [
    {
     "name": "stderr",
     "output_type": "stream",
     "text": [
      "/home/chiarapower/anaconda3/envs/tensorflow_gpuenv/lib/python3.7/site-packages/tensorflow_core/python/framework/indexed_slices.py:433: UserWarning: Converting sparse IndexedSlices to a dense Tensor of unknown shape. This may consume a large amount of memory.\n",
      "  \"Converting sparse IndexedSlices to a dense Tensor of unknown shape. \"\n"
     ]
    },
    {
     "name": "stdout",
     "output_type": "stream",
     "text": [
      "Train on 143613 samples, validate on 15958 samples\n",
      "Epoch 1/3\n",
      "143613/143613 [==============================] - 59s 410us/step - loss: 0.0643 - acc: 0.9645 - val_loss: 0.0489 - val_acc: 0.9819\n",
      "\n",
      "Epoch 00001: val_acc improved from -inf to 0.98194, saving model to model_/best_cnn.h5\n",
      "Epoch 2/3\n",
      "143613/143613 [==============================] - 59s 409us/step - loss: 0.0458 - acc: 0.9840 - val_loss: 0.0465 - val_acc: 0.9820\n",
      "\n",
      "Epoch 00002: val_acc improved from 0.98194 to 0.98199, saving model to model_/best_cnn.h5\n",
      "Epoch 3/3\n",
      "143613/143613 [==============================] - 59s 410us/step - loss: 0.0397 - acc: 0.9886 - val_loss: 0.0477 - val_acc: 0.9767\n",
      "\n",
      "Epoch 00003: val_acc did not improve from 0.98199\n",
      "Epoch 00003: early stopping\n"
     ]
    }
   ],
   "source": [
    "# fit with x_tr_1: training data without digits and punctuation\n",
    "\n",
    "model1 = build_model(emb_matrix_glove)\n",
    "\n",
    "history1_1 = model1.fit(x_tr_1, y_tr, batch_size=128, epochs=3, validation_split=0.1, callbacks=callbacks)"
   ]
  },
  {
   "cell_type": "code",
   "execution_count": 34,
   "metadata": {},
   "outputs": [
    {
     "name": "stderr",
     "output_type": "stream",
     "text": [
      "/home/chiarapower/anaconda3/envs/tensorflow_gpuenv/lib/python3.7/site-packages/tensorflow_core/python/framework/indexed_slices.py:433: UserWarning: Converting sparse IndexedSlices to a dense Tensor of unknown shape. This may consume a large amount of memory.\n",
      "  \"Converting sparse IndexedSlices to a dense Tensor of unknown shape. \"\n"
     ]
    },
    {
     "name": "stdout",
     "output_type": "stream",
     "text": [
      "Train on 143613 samples, validate on 15958 samples\n",
      "Epoch 1/3\n",
      "143613/143613 [==============================] - 59s 412us/step - loss: 0.0628 - acc: 0.9664 - val_loss: 0.0495 - val_acc: 0.9822\n",
      "\n",
      "Epoch 00001: val_acc improved from 0.98199 to 0.98216, saving model to model_/best_cnn.h5\n",
      "Epoch 2/3\n",
      "143613/143613 [==============================] - 59s 410us/step - loss: 0.0458 - acc: 0.9838 - val_loss: 0.0484 - val_acc: 0.9791\n",
      "\n",
      "Epoch 00002: val_acc did not improve from 0.98216\n",
      "Epoch 3/3\n",
      "143613/143613 [==============================] - 59s 411us/step - loss: 0.0392 - acc: 0.9886 - val_loss: 0.0492 - val_acc: 0.9761\n",
      "\n",
      "Epoch 00003: val_acc did not improve from 0.98216\n",
      "Epoch 00003: early stopping\n"
     ]
    }
   ],
   "source": [
    "# fit with x_tr_2: without URLs, stopwords and abbreviations\n",
    "\n",
    "model2 = build_model(emb_matrix_glove)\n",
    "\n",
    "history1_2 = model2.fit(x_tr_2, y_tr, batch_size=128, epochs=3, validation_split=0.1, callbacks=callbacks)"
   ]
  },
  {
   "cell_type": "code",
   "execution_count": 35,
   "metadata": {},
   "outputs": [
    {
     "name": "stderr",
     "output_type": "stream",
     "text": [
      "/home/chiarapower/anaconda3/envs/tensorflow_gpuenv/lib/python3.7/site-packages/tensorflow_core/python/framework/indexed_slices.py:433: UserWarning: Converting sparse IndexedSlices to a dense Tensor of unknown shape. This may consume a large amount of memory.\n",
      "  \"Converting sparse IndexedSlices to a dense Tensor of unknown shape. \"\n"
     ]
    },
    {
     "name": "stdout",
     "output_type": "stream",
     "text": [
      "Train on 143613 samples, validate on 15958 samples\n",
      "Epoch 1/3\n",
      "143613/143613 [==============================] - 70s 487us/step - loss: 0.0659 - acc: 0.9623 - val_loss: 0.0517 - val_acc: 0.9788\n",
      "\n",
      "Epoch 00001: val_acc did not improve from 0.98216\n",
      "Epoch 2/3\n",
      "143613/143613 [==============================] - 69s 484us/step - loss: 0.0473 - acc: 0.9824 - val_loss: 0.0499 - val_acc: 0.9792\n",
      "\n",
      "Epoch 00002: val_acc did not improve from 0.98216\n",
      "Epoch 3/3\n",
      "143613/143613 [==============================] - 69s 482us/step - loss: 0.0413 - acc: 0.9871 - val_loss: 0.0498 - val_acc: 0.9777\n",
      "\n",
      "Epoch 00003: val_acc did not improve from 0.98216\n"
     ]
    }
   ],
   "source": [
    "# fit with x_tr_3: with lemmatization\n",
    "\n",
    "model3 = build_model(emb_matrix_glove)\n",
    "\n",
    "history1_3 = model3.fit(x_tr_3, y_tr, batch_size=128, epochs=3, validation_split=0.1, callbacks=callbacks)"
   ]
  },
  {
   "cell_type": "code",
   "execution_count": 36,
   "metadata": {},
   "outputs": [
    {
     "name": "stderr",
     "output_type": "stream",
     "text": [
      "/home/chiarapower/anaconda3/envs/tensorflow_gpuenv/lib/python3.7/site-packages/tensorflow_core/python/framework/indexed_slices.py:433: UserWarning: Converting sparse IndexedSlices to a dense Tensor of unknown shape. This may consume a large amount of memory.\n",
      "  \"Converting sparse IndexedSlices to a dense Tensor of unknown shape. \"\n"
     ]
    },
    {
     "name": "stdout",
     "output_type": "stream",
     "text": [
      "Train on 143613 samples, validate on 15958 samples\n",
      "Epoch 1/3\n",
      "143613/143613 [==============================] - 70s 491us/step - loss: 0.0720 - acc: 0.9515 - val_loss: 0.0586 - val_acc: 0.9689\n",
      "\n",
      "Epoch 00001: val_acc did not improve from 0.98216\n",
      "Epoch 2/3\n",
      "143613/143613 [==============================] - 70s 485us/step - loss: 0.0552 - acc: 0.9734 - val_loss: 0.0563 - val_acc: 0.9724\n",
      "\n",
      "Epoch 00002: val_acc did not improve from 0.98216\n",
      "Epoch 3/3\n",
      "143613/143613 [==============================] - 69s 483us/step - loss: 0.0510 - acc: 0.9781 - val_loss: 0.0559 - val_acc: 0.9723\n",
      "\n",
      "Epoch 00003: val_acc did not improve from 0.98216\n"
     ]
    }
   ],
   "source": [
    "# fit with x_tr_4: with stemming\n",
    "\n",
    "model4 = build_model(emb_matrix_glove)\n",
    "\n",
    "history1_4 = model4.fit(x_tr_4, y_tr, batch_size=128, epochs=3, validation_split=0.1, callbacks=callbacks)"
   ]
  },
  {
   "cell_type": "code",
   "execution_count": 37,
   "metadata": {},
   "outputs": [
    {
     "name": "stderr",
     "output_type": "stream",
     "text": [
      "/home/chiarapower/anaconda3/envs/tensorflow_gpuenv/lib/python3.7/site-packages/tensorflow_core/python/framework/indexed_slices.py:433: UserWarning: Converting sparse IndexedSlices to a dense Tensor of unknown shape. This may consume a large amount of memory.\n",
      "  \"Converting sparse IndexedSlices to a dense Tensor of unknown shape. \"\n"
     ]
    },
    {
     "name": "stdout",
     "output_type": "stream",
     "text": [
      "Train on 143613 samples, validate on 15958 samples\n",
      "Epoch 1/3\n",
      "143613/143613 [==============================] - 70s 490us/step - loss: 0.0683 - acc: 0.9617 - val_loss: 0.0499 - val_acc: 0.9794\n",
      "\n",
      "Epoch 00001: val_acc did not improve from 0.98216\n",
      "Epoch 2/3\n",
      "143613/143613 [==============================] - 72s 500us/step - loss: 0.0447 - acc: 0.9849 - val_loss: 0.0458 - val_acc: 0.9842\n",
      "\n",
      "Epoch 00002: val_acc improved from 0.98216 to 0.98421, saving model to model_/best_cnn.h5\n",
      "Epoch 3/3\n",
      "143613/143613 [==============================] - 82s 573us/step - loss: 0.0383 - acc: 0.9891 - val_loss: 0.0468 - val_acc: 0.9793\n",
      "\n",
      "Epoch 00003: val_acc did not improve from 0.98421\n",
      "Epoch 00003: early stopping\n"
     ]
    }
   ],
   "source": [
    "# training with x_tr_1: without digits and punctuation\n",
    "\n",
    "model1_2 = build_model(emb_matrix_ft)\n",
    "\n",
    "history2_1 = model1_2.fit(x_tr_1, y_tr, batch_size=128, epochs=3, validation_split=0.1, callbacks=callbacks)"
   ]
  },
  {
   "cell_type": "code",
   "execution_count": 38,
   "metadata": {},
   "outputs": [
    {
     "name": "stderr",
     "output_type": "stream",
     "text": [
      "/home/chiarapower/anaconda3/envs/tensorflow_gpuenv/lib/python3.7/site-packages/tensorflow_core/python/framework/indexed_slices.py:433: UserWarning: Converting sparse IndexedSlices to a dense Tensor of unknown shape. This may consume a large amount of memory.\n",
      "  \"Converting sparse IndexedSlices to a dense Tensor of unknown shape. \"\n"
     ]
    },
    {
     "name": "stdout",
     "output_type": "stream",
     "text": [
      "Train on 143613 samples, validate on 15958 samples\n",
      "Epoch 1/3\n",
      "143613/143613 [==============================] - 70s 485us/step - loss: 0.0673 - acc: 0.9631 - val_loss: 0.0503 - val_acc: 0.9835\n",
      "\n",
      "Epoch 00001: val_acc did not improve from 0.98421\n",
      "Epoch 2/3\n",
      "143613/143613 [==============================] - 69s 483us/step - loss: 0.0437 - acc: 0.9856 - val_loss: 0.0475 - val_acc: 0.9794\n",
      "\n",
      "Epoch 00002: val_acc did not improve from 0.98421\n",
      "Epoch 3/3\n",
      "143613/143613 [==============================] - 81s 565us/step - loss: 0.0367 - acc: 0.9903 - val_loss: 0.0501 - val_acc: 0.9745\n",
      "\n",
      "Epoch 00003: val_acc did not improve from 0.98421\n",
      "Epoch 00003: early stopping\n"
     ]
    }
   ],
   "source": [
    "# training with x_tr_2: without URLs, stopswords and abbreviation\n",
    "\n",
    "model2_2 = build_model(emb_matrix_ft)\n",
    "\n",
    "history2_2 = model2_2.fit(x_tr_2, y_tr, batch_size=128, epochs=3, validation_split=0.1, callbacks=callbacks)"
   ]
  },
  {
   "cell_type": "code",
   "execution_count": 39,
   "metadata": {},
   "outputs": [
    {
     "name": "stderr",
     "output_type": "stream",
     "text": [
      "/home/chiarapower/anaconda3/envs/tensorflow_gpuenv/lib/python3.7/site-packages/tensorflow_core/python/framework/indexed_slices.py:433: UserWarning: Converting sparse IndexedSlices to a dense Tensor of unknown shape. This may consume a large amount of memory.\n",
      "  \"Converting sparse IndexedSlices to a dense Tensor of unknown shape. \"\n"
     ]
    },
    {
     "name": "stdout",
     "output_type": "stream",
     "text": [
      "Train on 143613 samples, validate on 15958 samples\n",
      "Epoch 1/3\n",
      "143613/143613 [==============================] - 70s 487us/step - loss: 0.0652 - acc: 0.9647 - val_loss: 0.0499 - val_acc: 0.9798\n",
      "\n",
      "Epoch 00001: val_acc did not improve from 0.98421\n",
      "Epoch 2/3\n",
      "143613/143613 [==============================] - 70s 485us/step - loss: 0.0456 - acc: 0.9836 - val_loss: 0.0503 - val_acc: 0.9773\n",
      "\n",
      "Epoch 00002: val_acc did not improve from 0.98421\n",
      "Epoch 00002: early stopping\n"
     ]
    }
   ],
   "source": [
    "# training with x_tr_3: with lemamtization\n",
    "\n",
    "model3_2 = build_model(emb_matrix_ft)\n",
    "\n",
    "history2_3 = model3_2.fit(x_tr_3, y_tr, batch_size=128, epochs=3, validation_split=0.1, callbacks=callbacks)"
   ]
  },
  {
   "cell_type": "code",
   "execution_count": 40,
   "metadata": {},
   "outputs": [
    {
     "name": "stderr",
     "output_type": "stream",
     "text": [
      "/home/chiarapower/anaconda3/envs/tensorflow_gpuenv/lib/python3.7/site-packages/tensorflow_core/python/framework/indexed_slices.py:433: UserWarning: Converting sparse IndexedSlices to a dense Tensor of unknown shape. This may consume a large amount of memory.\n",
      "  \"Converting sparse IndexedSlices to a dense Tensor of unknown shape. \"\n"
     ]
    },
    {
     "name": "stdout",
     "output_type": "stream",
     "text": [
      "Train on 143613 samples, validate on 15958 samples\n",
      "Epoch 1/3\n",
      "143613/143613 [==============================] - 70s 487us/step - loss: 0.0731 - acc: 0.9514 - val_loss: 0.0601 - val_acc: 0.9655\n",
      "\n",
      "Epoch 00001: val_acc did not improve from 0.98421\n",
      "Epoch 2/3\n",
      "143613/143613 [==============================] - 69s 484us/step - loss: 0.0548 - acc: 0.9739 - val_loss: 0.0564 - val_acc: 0.9721\n",
      "\n",
      "Epoch 00002: val_acc did not improve from 0.98421\n",
      "Epoch 3/3\n",
      "143613/143613 [==============================] - 69s 484us/step - loss: 0.0502 - acc: 0.9791 - val_loss: 0.0562 - val_acc: 0.9706\n",
      "\n",
      "Epoch 00003: val_acc did not improve from 0.98421\n"
     ]
    }
   ],
   "source": [
    "# fit with x_tr_4: with stemming\n",
    "\n",
    "model4_2 = build_model(emb_matrix_ft)\n",
    "\n",
    "history2_4 = model4_2.fit(x_tr_4, y_tr, batch_size=128, epochs=3, validation_split=0.1, callbacks=callbacks)"
   ]
  },
  {
   "cell_type": "markdown",
   "metadata": {},
   "source": [
    "# Model without embedding weights initialization"
   ]
  },
  {
   "cell_type": "code",
   "execution_count": 41,
   "metadata": {},
   "outputs": [],
   "source": [
    "def build_model_():\n",
    "    \n",
    "    inp = Input(shape=(None,))\n",
    "    emb = Embedding(max_feature, 200, input_length=max_len)(inp)\n",
    "    conv = Conv1D(filters=128, kernel_size=3, activation='relu', padding='same')(emb)\n",
    "    glbm = GlobalMaxPool1D()(conv)\n",
    "    drp1 = Dropout(rate=0.3)(glbm)\n",
    "    d1 = Dense(units=100, activation='relu')(drp1)\n",
    "    drp2 = Dropout(rate=0.1)(d1)\n",
    "    out = Dense(6, activation='sigmoid')(drp2)\n",
    "    model = Model(inputs=inp, outputs=out)\n",
    "    model.compile(optimizer='adam', loss='binary_crossentropy', metrics=[AUC(name='acc')])\n",
    "    \n",
    "    return model"
   ]
  },
  {
   "cell_type": "code",
   "execution_count": 42,
   "metadata": {},
   "outputs": [
    {
     "name": "stderr",
     "output_type": "stream",
     "text": [
      "/home/chiarapower/anaconda3/envs/tensorflow_gpuenv/lib/python3.7/site-packages/tensorflow_core/python/framework/indexed_slices.py:433: UserWarning: Converting sparse IndexedSlices to a dense Tensor of unknown shape. This may consume a large amount of memory.\n",
      "  \"Converting sparse IndexedSlices to a dense Tensor of unknown shape. \"\n"
     ]
    },
    {
     "name": "stdout",
     "output_type": "stream",
     "text": [
      "Train on 143613 samples, validate on 15958 samples\n",
      "Epoch 1/3\n",
      "143613/143613 [==============================] - 69s 482us/step - loss: 0.0722 - acc: 0.9581 - val_loss: 0.0524 - val_acc: 0.9751\n",
      "\n",
      "Epoch 00001: val_acc did not improve from 0.98421\n",
      "Epoch 2/3\n",
      "143613/143613 [==============================] - 69s 482us/step - loss: 0.0464 - acc: 0.9835 - val_loss: 0.0495 - val_acc: 0.9796\n",
      "\n",
      "Epoch 00002: val_acc did not improve from 0.98421\n",
      "Epoch 3/3\n",
      "143613/143613 [==============================] - 69s 479us/step - loss: 0.0391 - acc: 0.9892 - val_loss: 0.0501 - val_acc: 0.9770\n",
      "\n",
      "Epoch 00003: val_acc did not improve from 0.98421\n",
      "Epoch 00003: early stopping\n"
     ]
    }
   ],
   "source": [
    "# training with x_tr_1: without digits and punctuation\n",
    "\n",
    "model1_3 = build_model_()\n",
    "\n",
    "history3_1 = model1_3.fit(x_tr_1, y_tr, batch_size=128, epochs=3, validation_split=0.1, callbacks=callbacks)"
   ]
  },
  {
   "cell_type": "code",
   "execution_count": 43,
   "metadata": {},
   "outputs": [
    {
     "name": "stderr",
     "output_type": "stream",
     "text": [
      "/home/chiarapower/anaconda3/envs/tensorflow_gpuenv/lib/python3.7/site-packages/tensorflow_core/python/framework/indexed_slices.py:433: UserWarning: Converting sparse IndexedSlices to a dense Tensor of unknown shape. This may consume a large amount of memory.\n",
      "  \"Converting sparse IndexedSlices to a dense Tensor of unknown shape. \"\n"
     ]
    },
    {
     "name": "stdout",
     "output_type": "stream",
     "text": [
      "Train on 143613 samples, validate on 15958 samples\n",
      "Epoch 1/3\n",
      "143613/143613 [==============================] - 70s 488us/step - loss: 0.0741 - acc: 0.9565 - val_loss: 0.0533 - val_acc: 0.9773\n",
      "\n",
      "Epoch 00001: val_acc did not improve from 0.98421\n",
      "Epoch 2/3\n",
      "143613/143613 [==============================] - 69s 484us/step - loss: 0.0468 - acc: 0.9832 - val_loss: 0.0523 - val_acc: 0.9758\n",
      "\n",
      "Epoch 00002: val_acc did not improve from 0.98421\n",
      "Epoch 3/3\n",
      "143613/143613 [==============================] - 69s 484us/step - loss: 0.0394 - acc: 0.9892 - val_loss: 0.0536 - val_acc: 0.9716\n",
      "\n",
      "Epoch 00003: val_acc did not improve from 0.98421\n",
      "Epoch 00003: early stopping\n"
     ]
    }
   ],
   "source": [
    "# training with x_tr_1: without digits and punctuation\n",
    "\n",
    "model2_3 = build_model_()\n",
    "\n",
    "history3_2 = model2_3.fit(x_tr_2, y_tr, batch_size=128, epochs=3, validation_split=0.1, callbacks=callbacks)"
   ]
  },
  {
   "cell_type": "code",
   "execution_count": 44,
   "metadata": {},
   "outputs": [
    {
     "name": "stderr",
     "output_type": "stream",
     "text": [
      "/home/chiarapower/anaconda3/envs/tensorflow_gpuenv/lib/python3.7/site-packages/tensorflow_core/python/framework/indexed_slices.py:433: UserWarning: Converting sparse IndexedSlices to a dense Tensor of unknown shape. This may consume a large amount of memory.\n",
      "  \"Converting sparse IndexedSlices to a dense Tensor of unknown shape. \"\n"
     ]
    },
    {
     "name": "stdout",
     "output_type": "stream",
     "text": [
      "Train on 143613 samples, validate on 15958 samples\n",
      "Epoch 1/3\n",
      "143613/143613 [==============================] - 81s 564us/step - loss: 0.0737 - acc: 0.9566 - val_loss: 0.0563 - val_acc: 0.9717\n",
      "\n",
      "Epoch 00001: val_acc did not improve from 0.98421\n",
      "Epoch 2/3\n",
      "143613/143613 [==============================] - 81s 564us/step - loss: 0.0487 - acc: 0.9814 - val_loss: 0.0543 - val_acc: 0.9747\n",
      "\n",
      "Epoch 00002: val_acc did not improve from 0.98421\n",
      "Epoch 3/3\n",
      "143613/143613 [==============================] - 81s 564us/step - loss: 0.0414 - acc: 0.9875 - val_loss: 0.0574 - val_acc: 0.9628\n",
      "\n",
      "Epoch 00003: val_acc did not improve from 0.98421\n",
      "Epoch 00003: early stopping\n"
     ]
    }
   ],
   "source": [
    "# training with x_tr_1: without digits and punctuation\n",
    "\n",
    "model3_3 = build_model_()\n",
    "\n",
    "history3_3 = model3_3.fit(x_tr_3, y_tr, batch_size=128, epochs=3, validation_split=0.1, callbacks=callbacks)"
   ]
  },
  {
   "cell_type": "code",
   "execution_count": 45,
   "metadata": {},
   "outputs": [
    {
     "name": "stderr",
     "output_type": "stream",
     "text": [
      "/home/chiarapower/anaconda3/envs/tensorflow_gpuenv/lib/python3.7/site-packages/tensorflow_core/python/framework/indexed_slices.py:433: UserWarning: Converting sparse IndexedSlices to a dense Tensor of unknown shape. This may consume a large amount of memory.\n",
      "  \"Converting sparse IndexedSlices to a dense Tensor of unknown shape. \"\n"
     ]
    },
    {
     "name": "stdout",
     "output_type": "stream",
     "text": [
      "Train on 143613 samples, validate on 15958 samples\n",
      "Epoch 1/3\n",
      "143613/143613 [==============================] - 70s 484us/step - loss: 0.0768 - acc: 0.9490 - val_loss: 0.0600 - val_acc: 0.9691\n",
      "\n",
      "Epoch 00001: val_acc did not improve from 0.98421\n",
      "Epoch 2/3\n",
      "143613/143613 [==============================] - 75s 524us/step - loss: 0.0560 - acc: 0.9729 - val_loss: 0.0598 - val_acc: 0.9682\n",
      "\n",
      "Epoch 00002: val_acc did not improve from 0.98421\n",
      "Epoch 3/3\n",
      "143613/143613 [==============================] - 82s 571us/step - loss: 0.0510 - acc: 0.9785 - val_loss: 0.0588 - val_acc: 0.9648\n",
      "\n",
      "Epoch 00003: val_acc did not improve from 0.98421\n"
     ]
    }
   ],
   "source": [
    "# training with x_tr_1: without digits and punctuation\n",
    "\n",
    "model4_3 = build_model_()\n",
    "\n",
    "history3_4 = model4_3.fit(x_tr_4, y_tr, batch_size=128, epochs=3, validation_split=0.1, callbacks=callbacks)"
   ]
  },
  {
   "cell_type": "code",
   "execution_count": null,
   "metadata": {},
   "outputs": [],
   "source": []
  }
 ],
 "metadata": {
  "kernelspec": {
   "display_name": "Python [conda env:tensorflow_gpuenv] *",
   "language": "python",
   "name": "conda-env-tensorflow_gpuenv-py"
  },
  "language_info": {
   "codemirror_mode": {
    "name": "ipython",
    "version": 3
   },
   "file_extension": ".py",
   "mimetype": "text/x-python",
   "name": "python",
   "nbconvert_exporter": "python",
   "pygments_lexer": "ipython3",
   "version": "3.7.7"
  }
 },
 "nbformat": 4,
 "nbformat_minor": 4
}
