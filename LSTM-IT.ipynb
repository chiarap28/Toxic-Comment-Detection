{
 "cells": [
  {
   "cell_type": "code",
   "execution_count": 1,
   "metadata": {},
   "outputs": [
    {
     "name": "stderr",
     "output_type": "stream",
     "text": [
      "Using TensorFlow backend.\n"
     ]
    }
   ],
   "source": [
    "import os, re\n",
    "import pandas as pd\n",
    "import numpy as np\n",
    "import tensorflow as tf\n",
    "import matplotlib.pyplot as plt\n",
    "\n",
    "from sklearn.model_selection import GridSearchCV\n",
    "from keras.layers import Dense, Input, LSTM, Embedding, Dropout, Bidirectional\n",
    "from keras.layers import GlobalMaxPool1D, Conv1D, MaxPooling1D, Flatten, GRU\n",
    "from keras.models import Model, Sequential\n",
    "from keras import initializers, regularizers, constraints, optimizers, layers\n",
    "from keras.callbacks.callbacks import EarlyStopping, ModelCheckpoint\n",
    "from keras.wrappers.scikit_learn import KerasClassifier\n",
    "from keras.metrics import AUC\n",
    "from keras.models import load_model"
   ]
  },
  {
   "cell_type": "markdown",
   "metadata": {},
   "source": [
    "# Open and save data and weights"
   ]
  },
  {
   "cell_type": "code",
   "execution_count": 2,
   "metadata": {},
   "outputs": [],
   "source": [
    "x_tr_1 = np.genfromtxt('data_preproc/x_tr_1_it.csv')"
   ]
  },
  {
   "cell_type": "code",
   "execution_count": 3,
   "metadata": {},
   "outputs": [
    {
     "data": {
      "text/plain": [
       "(7410, 200)"
      ]
     },
     "execution_count": 3,
     "metadata": {},
     "output_type": "execute_result"
    }
   ],
   "source": [
    "x_tr_1.shape"
   ]
  },
  {
   "cell_type": "code",
   "execution_count": 4,
   "metadata": {},
   "outputs": [],
   "source": [
    "x_ts_1 = np.genfromtxt('data_preproc/x_ts_1_it.csv')"
   ]
  },
  {
   "cell_type": "code",
   "execution_count": 5,
   "metadata": {},
   "outputs": [
    {
     "data": {
      "text/plain": [
       "(1998, 200)"
      ]
     },
     "execution_count": 5,
     "metadata": {},
     "output_type": "execute_result"
    }
   ],
   "source": [
    "x_ts_1.shape"
   ]
  },
  {
   "cell_type": "code",
   "execution_count": 6,
   "metadata": {},
   "outputs": [],
   "source": [
    "x_tr_2 = np.genfromtxt('data_preproc/x_tr_2_it.csv')"
   ]
  },
  {
   "cell_type": "code",
   "execution_count": 7,
   "metadata": {},
   "outputs": [
    {
     "data": {
      "text/plain": [
       "(7410, 200)"
      ]
     },
     "execution_count": 7,
     "metadata": {},
     "output_type": "execute_result"
    }
   ],
   "source": [
    "x_tr_2.shape"
   ]
  },
  {
   "cell_type": "code",
   "execution_count": 8,
   "metadata": {},
   "outputs": [],
   "source": [
    "x_ts_2 = np.genfromtxt('data_preproc/x_ts_2_it.csv')"
   ]
  },
  {
   "cell_type": "code",
   "execution_count": 9,
   "metadata": {},
   "outputs": [
    {
     "data": {
      "text/plain": [
       "(1998, 200)"
      ]
     },
     "execution_count": 9,
     "metadata": {},
     "output_type": "execute_result"
    }
   ],
   "source": [
    "x_ts_2.shape"
   ]
  },
  {
   "cell_type": "code",
   "execution_count": 10,
   "metadata": {},
   "outputs": [],
   "source": [
    "x_tr_3 = np.genfromtxt('data_preproc/x_tr_3_it.csv')"
   ]
  },
  {
   "cell_type": "code",
   "execution_count": 11,
   "metadata": {},
   "outputs": [
    {
     "data": {
      "text/plain": [
       "(7410, 200)"
      ]
     },
     "execution_count": 11,
     "metadata": {},
     "output_type": "execute_result"
    }
   ],
   "source": [
    "x_tr_3.shape"
   ]
  },
  {
   "cell_type": "code",
   "execution_count": 12,
   "metadata": {},
   "outputs": [],
   "source": [
    "x_ts_3 = np.genfromtxt('data_preproc/x_ts_3_it.csv')"
   ]
  },
  {
   "cell_type": "code",
   "execution_count": 13,
   "metadata": {},
   "outputs": [
    {
     "data": {
      "text/plain": [
       "(1998, 200)"
      ]
     },
     "execution_count": 13,
     "metadata": {},
     "output_type": "execute_result"
    }
   ],
   "source": [
    "x_ts_3.shape"
   ]
  },
  {
   "cell_type": "code",
   "execution_count": 14,
   "metadata": {},
   "outputs": [],
   "source": [
    "x_tr_4 = np.genfromtxt('data_preproc/x_tr_4_it.csv')"
   ]
  },
  {
   "cell_type": "code",
   "execution_count": 15,
   "metadata": {},
   "outputs": [
    {
     "data": {
      "text/plain": [
       "(7410, 200)"
      ]
     },
     "execution_count": 15,
     "metadata": {},
     "output_type": "execute_result"
    }
   ],
   "source": [
    "x_tr_4.shape"
   ]
  },
  {
   "cell_type": "code",
   "execution_count": 16,
   "metadata": {},
   "outputs": [],
   "source": [
    "x_ts_4 = np.genfromtxt('data_preproc/x_ts_4_it.csv')"
   ]
  },
  {
   "cell_type": "code",
   "execution_count": 17,
   "metadata": {},
   "outputs": [
    {
     "data": {
      "text/plain": [
       "(1998, 200)"
      ]
     },
     "execution_count": 17,
     "metadata": {},
     "output_type": "execute_result"
    }
   ],
   "source": [
    "x_ts_4.shape"
   ]
  },
  {
   "cell_type": "code",
   "execution_count": 18,
   "metadata": {},
   "outputs": [],
   "source": [
    "emb_matrix_ft = np.genfromtxt('data_preproc/emb_matr_ft_it.csv')"
   ]
  },
  {
   "cell_type": "code",
   "execution_count": 19,
   "metadata": {},
   "outputs": [
    {
     "data": {
      "text/plain": [
       "(30000, 200)"
      ]
     },
     "execution_count": 19,
     "metadata": {},
     "output_type": "execute_result"
    }
   ],
   "source": [
    "emb_matrix_ft.shape"
   ]
  },
  {
   "cell_type": "code",
   "execution_count": 20,
   "metadata": {},
   "outputs": [],
   "source": [
    "train = pd.read_csv('data_it/training_set_sentipolc16.csv/training_set_sentipolc16.csv')\n",
    "col = ['opos', 'oneg']\n",
    "y_tr = train[col].values"
   ]
  },
  {
   "cell_type": "markdown",
   "metadata": {},
   "source": [
    "# Build the model"
   ]
  },
  {
   "cell_type": "code",
   "execution_count": 21,
   "metadata": {},
   "outputs": [],
   "source": [
    "max_len = 200\n",
    "max_feature = 30000"
   ]
  },
  {
   "cell_type": "code",
   "execution_count": 22,
   "metadata": {},
   "outputs": [],
   "source": [
    "def build_model(emb_matrix):\n",
    "    \"\"\"\n",
    "    Questa funzione crea il modello e lo compila\n",
    "    return: a model\n",
    "    \n",
    "    emb_matrix: matrice che inizializza i pesi dell'Embedding layer\n",
    "    \"\"\"\n",
    "        \n",
    "    inp = Input(shape=(None,))\n",
    "    emb = Embedding(max_feature, 200, input_length=max_len, weights=[emb_matrix])(inp)\n",
    "    lstm = LSTM(units=60, dropout=0.3, recurrent_dropout=0.3, return_sequences=True)(emb)\n",
    "    fl = Flatten()(lstm)\n",
    "    d1 = Dense(100, activation='relu')(fl)\n",
    "    out = Dense(2, activation='sigmoid')(d1)\n",
    "    model = Model(inputs=inp, outputs=out)\n",
    "    model.compile(optimizer='adam', loss='binary_crossentropy', metrics=['accuracy'])\n",
    "\n",
    "    return model"
   ]
  },
  {
   "cell_type": "code",
   "execution_count": 23,
   "metadata": {},
   "outputs": [],
   "source": [
    "cp = ModelCheckpoint('models_it/best_lstm_IT_pos.h5', monitor='val_accuracy', verbose=1, save_best_only=True, mode='max')\n",
    "es = EarlyStopping(patience=10, verbose=1)\n",
    "callbacks = [es,cp]"
   ]
  },
  {
   "cell_type": "code",
   "execution_count": 25,
   "metadata": {
    "scrolled": false
   },
   "outputs": [
    {
     "name": "stderr",
     "output_type": "stream",
     "text": [
      "/home/chiarapower/anaconda3/envs/tensorflow_gpuenv/lib/python3.7/site-packages/tensorflow_core/python/framework/indexed_slices.py:433: UserWarning: Converting sparse IndexedSlices to a dense Tensor of unknown shape. This may consume a large amount of memory.\n",
      "  \"Converting sparse IndexedSlices to a dense Tensor of unknown shape. \"\n"
     ]
    },
    {
     "name": "stdout",
     "output_type": "stream",
     "text": [
      "Train on 6669 samples, validate on 741 samples\n",
      "Epoch 1/50\n",
      "6669/6669 [==============================] - 8s 1ms/step - loss: 0.6331 - accuracy: 0.6560 - val_loss: 0.5822 - val_accuracy: 0.7092\n",
      "\n",
      "Epoch 00001: val_accuracy improved from -inf to 0.70918, saving model to models_it/best_lstm_IT_pos.h5\n",
      "Epoch 2/50\n",
      "6669/6669 [==============================] - 11s 2ms/step - loss: 0.5613 - accuracy: 0.7084 - val_loss: 0.5547 - val_accuracy: 0.7092\n",
      "\n",
      "Epoch 00002: val_accuracy did not improve from 0.70918\n",
      "Epoch 3/50\n",
      "6669/6669 [==============================] - 10s 2ms/step - loss: 0.4067 - accuracy: 0.8202 - val_loss: 0.6149 - val_accuracy: 0.6950\n",
      "\n",
      "Epoch 00003: val_accuracy did not improve from 0.70918\n",
      "Epoch 4/50\n",
      "6669/6669 [==============================] - 10s 2ms/step - loss: 0.2417 - accuracy: 0.9013 - val_loss: 0.6468 - val_accuracy: 0.7159\n",
      "\n",
      "Epoch 00004: val_accuracy improved from 0.70918 to 0.71592, saving model to models_it/best_lstm_IT_pos.h5\n",
      "Epoch 5/50\n",
      "6669/6669 [==============================] - 10s 2ms/step - loss: 0.1274 - accuracy: 0.9534 - val_loss: 0.7740 - val_accuracy: 0.7308\n",
      "\n",
      "Epoch 00005: val_accuracy improved from 0.71592 to 0.73077, saving model to models_it/best_lstm_IT_pos.h5\n",
      "Epoch 6/50\n",
      "6669/6669 [==============================] - 10s 2ms/step - loss: 0.0713 - accuracy: 0.9766 - val_loss: 0.9453 - val_accuracy: 0.7159\n",
      "\n",
      "Epoch 00006: val_accuracy did not improve from 0.73077\n",
      "Epoch 7/50\n",
      "6669/6669 [==============================] - 10s 2ms/step - loss: 0.0407 - accuracy: 0.9864 - val_loss: 1.0125 - val_accuracy: 0.7260\n",
      "\n",
      "Epoch 00007: val_accuracy did not improve from 0.73077\n",
      "Epoch 8/50\n",
      "6669/6669 [==============================] - 10s 2ms/step - loss: 0.0284 - accuracy: 0.9909 - val_loss: 1.2132 - val_accuracy: 0.6997\n",
      "\n",
      "Epoch 00008: val_accuracy did not improve from 0.73077\n",
      "Epoch 9/50\n",
      "6669/6669 [==============================] - 12s 2ms/step - loss: 0.0147 - accuracy: 0.9956 - val_loss: 1.2829 - val_accuracy: 0.7193\n",
      "\n",
      "Epoch 00009: val_accuracy did not improve from 0.73077\n",
      "Epoch 10/50\n",
      "6669/6669 [==============================] - 12s 2ms/step - loss: 0.0125 - accuracy: 0.9965 - val_loss: 1.3245 - val_accuracy: 0.7112\n",
      "\n",
      "Epoch 00010: val_accuracy did not improve from 0.73077\n",
      "Epoch 11/50\n",
      "6669/6669 [==============================] - 10s 2ms/step - loss: 0.0105 - accuracy: 0.9973 - val_loss: 1.4249 - val_accuracy: 0.7078\n",
      "\n",
      "Epoch 00011: val_accuracy did not improve from 0.73077\n",
      "Epoch 12/50\n",
      "6669/6669 [==============================] - 10s 2ms/step - loss: 0.0100 - accuracy: 0.9966 - val_loss: 1.3911 - val_accuracy: 0.7294\n",
      "\n",
      "Epoch 00012: val_accuracy did not improve from 0.73077\n",
      "Epoch 00012: early stopping\n"
     ]
    }
   ],
   "source": [
    "# training with x_1: without punctuation and digits\n",
    "\n",
    "model1 = build_model(emb_matrix_ft)\n",
    "history1_1 = model1.fit(x_tr_1, y_tr, batch_size=128, epochs=50, validation_split=0.1, callbacks=callbacks)"
   ]
  },
  {
   "cell_type": "code",
   "execution_count": 26,
   "metadata": {},
   "outputs": [
    {
     "name": "stderr",
     "output_type": "stream",
     "text": [
      "/home/chiarapower/anaconda3/envs/tensorflow_gpuenv/lib/python3.7/site-packages/tensorflow_core/python/framework/indexed_slices.py:433: UserWarning: Converting sparse IndexedSlices to a dense Tensor of unknown shape. This may consume a large amount of memory.\n",
      "  \"Converting sparse IndexedSlices to a dense Tensor of unknown shape. \"\n"
     ]
    },
    {
     "name": "stdout",
     "output_type": "stream",
     "text": [
      "Train on 6669 samples, validate on 741 samples\n",
      "Epoch 1/50\n",
      "6669/6669 [==============================] - 11s 2ms/step - loss: 0.6395 - accuracy: 0.6455 - val_loss: 0.5755 - val_accuracy: 0.7598\n",
      "\n",
      "Epoch 00001: val_accuracy improved from 0.73077 to 0.75978, saving model to models_it/best_lstm_IT_pos.h5\n",
      "Epoch 2/50\n",
      "6669/6669 [==============================] - 10s 1ms/step - loss: 0.5470 - accuracy: 0.7237 - val_loss: 0.5470 - val_accuracy: 0.7274\n",
      "\n",
      "Epoch 00002: val_accuracy did not improve from 0.75978\n",
      "Epoch 3/50\n",
      "6669/6669 [==============================] - 10s 1ms/step - loss: 0.3549 - accuracy: 0.8465 - val_loss: 0.6308 - val_accuracy: 0.7065\n",
      "\n",
      "Epoch 00003: val_accuracy did not improve from 0.75978\n",
      "Epoch 4/50\n",
      "6669/6669 [==============================] - 10s 2ms/step - loss: 0.2028 - accuracy: 0.9199 - val_loss: 0.7702 - val_accuracy: 0.7045\n",
      "\n",
      "Epoch 00004: val_accuracy did not improve from 0.75978\n",
      "Epoch 5/50\n",
      "6669/6669 [==============================] - 11s 2ms/step - loss: 0.1068 - accuracy: 0.9608 - val_loss: 0.9230 - val_accuracy: 0.7206\n",
      "\n",
      "Epoch 00005: val_accuracy did not improve from 0.75978\n",
      "Epoch 6/50\n",
      "6669/6669 [==============================] - 10s 2ms/step - loss: 0.0671 - accuracy: 0.9771 - val_loss: 1.0135 - val_accuracy: 0.7132\n",
      "\n",
      "Epoch 00006: val_accuracy did not improve from 0.75978\n",
      "Epoch 7/50\n",
      "6669/6669 [==============================] - 11s 2ms/step - loss: 0.0378 - accuracy: 0.9880 - val_loss: 1.2836 - val_accuracy: 0.6937\n",
      "\n",
      "Epoch 00007: val_accuracy did not improve from 0.75978\n",
      "Epoch 8/50\n",
      "6669/6669 [==============================] - 12s 2ms/step - loss: 0.0300 - accuracy: 0.9893 - val_loss: 1.3433 - val_accuracy: 0.6943\n",
      "\n",
      "Epoch 00008: val_accuracy did not improve from 0.75978\n",
      "Epoch 9/50\n",
      "6669/6669 [==============================] - 11s 2ms/step - loss: 0.0193 - accuracy: 0.9937 - val_loss: 1.3427 - val_accuracy: 0.7152\n",
      "\n",
      "Epoch 00009: val_accuracy did not improve from 0.75978\n",
      "Epoch 10/50\n",
      "6669/6669 [==============================] - 11s 2ms/step - loss: 0.0146 - accuracy: 0.9959 - val_loss: 1.4731 - val_accuracy: 0.7119\n",
      "\n",
      "Epoch 00010: val_accuracy did not improve from 0.75978\n",
      "Epoch 11/50\n",
      "6669/6669 [==============================] - 10s 2ms/step - loss: 0.0123 - accuracy: 0.9963 - val_loss: 1.5392 - val_accuracy: 0.6964\n",
      "\n",
      "Epoch 00011: val_accuracy did not improve from 0.75978\n",
      "Epoch 12/50\n",
      "6669/6669 [==============================] - 11s 2ms/step - loss: 0.0124 - accuracy: 0.9967 - val_loss: 1.5816 - val_accuracy: 0.6964\n",
      "\n",
      "Epoch 00012: val_accuracy did not improve from 0.75978\n",
      "Epoch 00012: early stopping\n"
     ]
    }
   ],
   "source": [
    "# training with x_2: without URLs, abbreviations and tags\n",
    "\n",
    "model2 = build_model(emb_matrix_ft)\n",
    "\n",
    "history1_2 = model2.fit(x_tr_2, y_tr, batch_size=128, epochs=50, validation_split=0.1, callbacks=callbacks)"
   ]
  },
  {
   "cell_type": "code",
   "execution_count": 27,
   "metadata": {},
   "outputs": [
    {
     "name": "stderr",
     "output_type": "stream",
     "text": [
      "/home/chiarapower/anaconda3/envs/tensorflow_gpuenv/lib/python3.7/site-packages/tensorflow_core/python/framework/indexed_slices.py:433: UserWarning: Converting sparse IndexedSlices to a dense Tensor of unknown shape. This may consume a large amount of memory.\n",
      "  \"Converting sparse IndexedSlices to a dense Tensor of unknown shape. \"\n"
     ]
    },
    {
     "name": "stdout",
     "output_type": "stream",
     "text": [
      "Train on 6669 samples, validate on 741 samples\n",
      "Epoch 1/50\n",
      "6669/6669 [==============================] - 11s 2ms/step - loss: 0.6479 - accuracy: 0.6354 - val_loss: 0.5554 - val_accuracy: 0.8232\n",
      "\n",
      "Epoch 00001: val_accuracy improved from 0.75978 to 0.82321, saving model to models_it/best_lstm_IT_pos.h5\n",
      "Epoch 2/50\n",
      "6669/6669 [==============================] - 11s 2ms/step - loss: 0.5793 - accuracy: 0.6988 - val_loss: 0.5332 - val_accuracy: 0.7564\n",
      "\n",
      "Epoch 00002: val_accuracy did not improve from 0.82321\n",
      "Epoch 3/50\n",
      "6669/6669 [==============================] - 12s 2ms/step - loss: 0.4499 - accuracy: 0.7889 - val_loss: 0.5440 - val_accuracy: 0.7375\n",
      "\n",
      "Epoch 00003: val_accuracy did not improve from 0.82321\n",
      "Epoch 4/50\n",
      "6669/6669 [==============================] - 11s 2ms/step - loss: 0.3383 - accuracy: 0.8540 - val_loss: 0.6410 - val_accuracy: 0.7045\n",
      "\n",
      "Epoch 00004: val_accuracy did not improve from 0.82321\n",
      "Epoch 5/50\n",
      "6669/6669 [==============================] - 11s 2ms/step - loss: 0.2524 - accuracy: 0.8981 - val_loss: 0.6631 - val_accuracy: 0.7240\n",
      "\n",
      "Epoch 00005: val_accuracy did not improve from 0.82321\n",
      "Epoch 6/50\n",
      "6669/6669 [==============================] - 11s 2ms/step - loss: 0.1949 - accuracy: 0.9224 - val_loss: 0.7747 - val_accuracy: 0.7186\n",
      "\n",
      "Epoch 00006: val_accuracy did not improve from 0.82321\n",
      "Epoch 7/50\n",
      "6669/6669 [==============================] - 11s 2ms/step - loss: 0.1545 - accuracy: 0.9399 - val_loss: 0.8254 - val_accuracy: 0.7220\n",
      "\n",
      "Epoch 00007: val_accuracy did not improve from 0.82321\n",
      "Epoch 8/50\n",
      "6669/6669 [==============================] - 13s 2ms/step - loss: 0.1296 - accuracy: 0.9506 - val_loss: 0.8842 - val_accuracy: 0.7152\n",
      "\n",
      "Epoch 00008: val_accuracy did not improve from 0.82321\n",
      "Epoch 9/50\n",
      "6669/6669 [==============================] - 12s 2ms/step - loss: 0.1157 - accuracy: 0.9568 - val_loss: 0.9706 - val_accuracy: 0.7166\n",
      "\n",
      "Epoch 00009: val_accuracy did not improve from 0.82321\n",
      "Epoch 10/50\n",
      "6669/6669 [==============================] - 11s 2ms/step - loss: 0.0937 - accuracy: 0.9646 - val_loss: 1.0816 - val_accuracy: 0.6984\n",
      "\n",
      "Epoch 00010: val_accuracy did not improve from 0.82321\n",
      "Epoch 11/50\n",
      "6669/6669 [==============================] - 11s 2ms/step - loss: 0.0829 - accuracy: 0.9673 - val_loss: 1.1418 - val_accuracy: 0.7078\n",
      "\n",
      "Epoch 00011: val_accuracy did not improve from 0.82321\n",
      "Epoch 12/50\n",
      "6669/6669 [==============================] - 11s 2ms/step - loss: 0.0692 - accuracy: 0.9738 - val_loss: 1.2835 - val_accuracy: 0.6619\n",
      "\n",
      "Epoch 00012: val_accuracy did not improve from 0.82321\n",
      "Epoch 00012: early stopping\n"
     ]
    }
   ],
   "source": [
    "# training with x_3: with lemmatization\n",
    "\n",
    "model3 = build_model(emb_matrix_ft)\n",
    "\n",
    "history1_3 = model3.fit(x_tr_3, y_tr, batch_size=128, epochs=50, validation_split=0.1, callbacks=callbacks)"
   ]
  },
  {
   "cell_type": "code",
   "execution_count": 28,
   "metadata": {},
   "outputs": [
    {
     "name": "stderr",
     "output_type": "stream",
     "text": [
      "/home/chiarapower/anaconda3/envs/tensorflow_gpuenv/lib/python3.7/site-packages/tensorflow_core/python/framework/indexed_slices.py:433: UserWarning: Converting sparse IndexedSlices to a dense Tensor of unknown shape. This may consume a large amount of memory.\n",
      "  \"Converting sparse IndexedSlices to a dense Tensor of unknown shape. \"\n"
     ]
    },
    {
     "name": "stdout",
     "output_type": "stream",
     "text": [
      "Train on 6669 samples, validate on 741 samples\n",
      "Epoch 1/50\n",
      "6669/6669 [==============================] - 12s 2ms/step - loss: 0.6484 - accuracy: 0.6317 - val_loss: 0.5925 - val_accuracy: 0.7874\n",
      "\n",
      "Epoch 00001: val_accuracy did not improve from 0.82321\n",
      "Epoch 2/50\n",
      "6669/6669 [==============================] - 12s 2ms/step - loss: 0.6301 - accuracy: 0.6580 - val_loss: 0.5010 - val_accuracy: 0.8178\n",
      "\n",
      "Epoch 00002: val_accuracy did not improve from 0.82321\n",
      "Epoch 3/50\n",
      "6669/6669 [==============================] - 11s 2ms/step - loss: 0.5979 - accuracy: 0.6870 - val_loss: 0.5363 - val_accuracy: 0.7800\n",
      "\n",
      "Epoch 00003: val_accuracy did not improve from 0.82321\n",
      "Epoch 4/50\n",
      "6669/6669 [==============================] - 12s 2ms/step - loss: 0.5723 - accuracy: 0.7050 - val_loss: 0.5058 - val_accuracy: 0.7672\n",
      "\n",
      "Epoch 00004: val_accuracy did not improve from 0.82321\n",
      "Epoch 5/50\n",
      "6669/6669 [==============================] - 11s 2ms/step - loss: 0.5421 - accuracy: 0.7287 - val_loss: 0.5519 - val_accuracy: 0.7274\n",
      "\n",
      "Epoch 00005: val_accuracy did not improve from 0.82321\n",
      "Epoch 6/50\n",
      "6669/6669 [==============================] - 11s 2ms/step - loss: 0.5147 - accuracy: 0.7455 - val_loss: 0.5553 - val_accuracy: 0.7355\n",
      "\n",
      "Epoch 00006: val_accuracy did not improve from 0.82321\n",
      "Epoch 7/50\n",
      "6669/6669 [==============================] - 11s 2ms/step - loss: 0.4959 - accuracy: 0.7591 - val_loss: 0.6139 - val_accuracy: 0.7004\n",
      "\n",
      "Epoch 00007: val_accuracy did not improve from 0.82321\n",
      "Epoch 8/50\n",
      "6669/6669 [==============================] - 11s 2ms/step - loss: 0.4740 - accuracy: 0.7748 - val_loss: 0.5854 - val_accuracy: 0.7254\n",
      "\n",
      "Epoch 00008: val_accuracy did not improve from 0.82321\n",
      "Epoch 9/50\n",
      "6669/6669 [==============================] - 11s 2ms/step - loss: 0.4566 - accuracy: 0.7808 - val_loss: 0.5863 - val_accuracy: 0.7254\n",
      "\n",
      "Epoch 00009: val_accuracy did not improve from 0.82321\n",
      "Epoch 10/50\n",
      "6669/6669 [==============================] - 12s 2ms/step - loss: 0.4438 - accuracy: 0.7834 - val_loss: 0.6425 - val_accuracy: 0.7031\n",
      "\n",
      "Epoch 00010: val_accuracy did not improve from 0.82321\n",
      "Epoch 11/50\n",
      "6669/6669 [==============================] - 11s 2ms/step - loss: 0.4315 - accuracy: 0.7907 - val_loss: 0.6399 - val_accuracy: 0.7139\n",
      "\n",
      "Epoch 00011: val_accuracy did not improve from 0.82321\n",
      "Epoch 12/50\n",
      "6669/6669 [==============================] - 11s 2ms/step - loss: 0.4262 - accuracy: 0.7880 - val_loss: 0.6734 - val_accuracy: 0.6883\n",
      "\n",
      "Epoch 00012: val_accuracy did not improve from 0.82321\n",
      "Epoch 00012: early stopping\n"
     ]
    }
   ],
   "source": [
    "# training with x_4: with stemming\n",
    "\n",
    "model4 = build_model(emb_matrix_ft)\n",
    "\n",
    "history1_4 = model4.fit(x_tr_4, y_tr, batch_size=128, epochs=50, validation_split=0.1, callbacks=callbacks)"
   ]
  },
  {
   "cell_type": "code",
   "execution_count": null,
   "metadata": {},
   "outputs": [],
   "source": []
  },
  {
   "cell_type": "code",
   "execution_count": null,
   "metadata": {},
   "outputs": [],
   "source": []
  }
 ],
 "metadata": {
  "kernelspec": {
   "display_name": "Python [conda env:tensorflow_gpuenv] *",
   "language": "python",
   "name": "conda-env-tensorflow_gpuenv-py"
  },
  "language_info": {
   "codemirror_mode": {
    "name": "ipython",
    "version": 3
   },
   "file_extension": ".py",
   "mimetype": "text/x-python",
   "name": "python",
   "nbconvert_exporter": "python",
   "pygments_lexer": "ipython3",
   "version": "3.7.7"
  }
 },
 "nbformat": 4,
 "nbformat_minor": 4
}
