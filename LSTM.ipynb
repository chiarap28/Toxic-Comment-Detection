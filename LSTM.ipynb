{
 "cells": [
  {
   "cell_type": "code",
   "execution_count": 1,
   "metadata": {},
   "outputs": [
    {
     "name": "stderr",
     "output_type": "stream",
     "text": [
      "Using TensorFlow backend.\n"
     ]
    }
   ],
   "source": [
    "import os, re\n",
    "import pandas as pd\n",
    "import numpy as np\n",
    "import tensorflow as tf\n",
    "import matplotlib.pyplot as plt\n",
    "\n",
    "from sklearn.model_selection import GridSearchCV\n",
    "from keras.layers import Dense, Input, LSTM, Embedding, Dropout, Bidirectional\n",
    "from keras.layers import GlobalMaxPool1D, Conv1D, MaxPooling1D, Flatten, GRU\n",
    "from keras.models import Model, Sequential\n",
    "from keras import initializers, regularizers, constraints, optimizers, layers\n",
    "from keras.callbacks.callbacks import EarlyStopping, ModelCheckpoint\n",
    "from keras.metrics import AUC\n",
    "from keras.models import load_model"
   ]
  },
  {
   "cell_type": "markdown",
   "metadata": {},
   "source": [
    "# Open and save data and weights"
   ]
  },
  {
   "cell_type": "code",
   "execution_count": 2,
   "metadata": {},
   "outputs": [],
   "source": [
    "x_tr_1 = np.genfromtxt('data_preproc/x_tr_1.csv')"
   ]
  },
  {
   "cell_type": "code",
   "execution_count": 3,
   "metadata": {},
   "outputs": [
    {
     "data": {
      "text/plain": [
       "(159571, 200)"
      ]
     },
     "execution_count": 3,
     "metadata": {},
     "output_type": "execute_result"
    }
   ],
   "source": [
    "x_tr_1.shape"
   ]
  },
  {
   "cell_type": "code",
   "execution_count": 4,
   "metadata": {},
   "outputs": [],
   "source": [
    "x_ts_1 = np.genfromtxt('data_preproc/x_ts_1.csv')"
   ]
  },
  {
   "cell_type": "code",
   "execution_count": 5,
   "metadata": {},
   "outputs": [
    {
     "data": {
      "text/plain": [
       "(153164, 200)"
      ]
     },
     "execution_count": 5,
     "metadata": {},
     "output_type": "execute_result"
    }
   ],
   "source": [
    "x_ts_1.shape"
   ]
  },
  {
   "cell_type": "code",
   "execution_count": 6,
   "metadata": {},
   "outputs": [],
   "source": [
    "x_tr_2 = np.genfromtxt('data_preproc/x_tr_2.csv')"
   ]
  },
  {
   "cell_type": "code",
   "execution_count": 7,
   "metadata": {},
   "outputs": [
    {
     "data": {
      "text/plain": [
       "(159571, 200)"
      ]
     },
     "execution_count": 7,
     "metadata": {},
     "output_type": "execute_result"
    }
   ],
   "source": [
    "x_tr_2.shape"
   ]
  },
  {
   "cell_type": "code",
   "execution_count": 8,
   "metadata": {},
   "outputs": [],
   "source": [
    "x_ts_2 = np.genfromtxt('data_preproc/x_ts_2.csv')"
   ]
  },
  {
   "cell_type": "code",
   "execution_count": 9,
   "metadata": {},
   "outputs": [
    {
     "data": {
      "text/plain": [
       "(153164, 200)"
      ]
     },
     "execution_count": 9,
     "metadata": {},
     "output_type": "execute_result"
    }
   ],
   "source": [
    "x_ts_2.shape"
   ]
  },
  {
   "cell_type": "code",
   "execution_count": 10,
   "metadata": {},
   "outputs": [],
   "source": [
    "x_tr_3 = np.genfromtxt('data_preproc/x_tr_3.csv')"
   ]
  },
  {
   "cell_type": "code",
   "execution_count": 11,
   "metadata": {},
   "outputs": [
    {
     "data": {
      "text/plain": [
       "(159571, 200)"
      ]
     },
     "execution_count": 11,
     "metadata": {},
     "output_type": "execute_result"
    }
   ],
   "source": [
    "x_tr_3.shape"
   ]
  },
  {
   "cell_type": "code",
   "execution_count": 12,
   "metadata": {},
   "outputs": [],
   "source": [
    "x_ts_3 = np.genfromtxt('data_preproc/x_ts_3.csv')"
   ]
  },
  {
   "cell_type": "code",
   "execution_count": 13,
   "metadata": {},
   "outputs": [
    {
     "data": {
      "text/plain": [
       "(153164, 200)"
      ]
     },
     "execution_count": 13,
     "metadata": {},
     "output_type": "execute_result"
    }
   ],
   "source": [
    "x_ts_3.shape"
   ]
  },
  {
   "cell_type": "code",
   "execution_count": 14,
   "metadata": {},
   "outputs": [],
   "source": [
    "x_tr_4 = np.genfromtxt('data_preproc/x_tr_4.csv')"
   ]
  },
  {
   "cell_type": "code",
   "execution_count": 15,
   "metadata": {},
   "outputs": [
    {
     "data": {
      "text/plain": [
       "(159571, 200)"
      ]
     },
     "execution_count": 15,
     "metadata": {},
     "output_type": "execute_result"
    }
   ],
   "source": [
    "x_tr_4.shape"
   ]
  },
  {
   "cell_type": "code",
   "execution_count": 16,
   "metadata": {},
   "outputs": [],
   "source": [
    "x_ts_4 = np.genfromtxt('data_preproc/x_ts_4.csv')"
   ]
  },
  {
   "cell_type": "code",
   "execution_count": 17,
   "metadata": {},
   "outputs": [
    {
     "data": {
      "text/plain": [
       "(153164, 200)"
      ]
     },
     "execution_count": 17,
     "metadata": {},
     "output_type": "execute_result"
    }
   ],
   "source": [
    "x_ts_4.shape"
   ]
  },
  {
   "cell_type": "code",
   "execution_count": 18,
   "metadata": {},
   "outputs": [],
   "source": [
    "emb_matrix_glove = np.genfromtxt('data_preproc/emb_matr_glove.csv')"
   ]
  },
  {
   "cell_type": "code",
   "execution_count": 19,
   "metadata": {},
   "outputs": [
    {
     "data": {
      "text/plain": [
       "(30000, 200)"
      ]
     },
     "execution_count": 19,
     "metadata": {},
     "output_type": "execute_result"
    }
   ],
   "source": [
    "emb_matrix_glove.shape"
   ]
  },
  {
   "cell_type": "code",
   "execution_count": 20,
   "metadata": {},
   "outputs": [],
   "source": [
    "emb_matrix_ft = np.genfromtxt('data_preproc/emb_matr_ft.csv')"
   ]
  },
  {
   "cell_type": "code",
   "execution_count": 21,
   "metadata": {},
   "outputs": [
    {
     "data": {
      "text/plain": [
       "(30000, 200)"
      ]
     },
     "execution_count": 21,
     "metadata": {},
     "output_type": "execute_result"
    }
   ],
   "source": [
    "emb_matrix_ft.shape"
   ]
  },
  {
   "cell_type": "code",
   "execution_count": 22,
   "metadata": {},
   "outputs": [],
   "source": [
    "train = pd.read_csv('data/train.csv/train.csv')\n",
    "col = ['toxic', 'severe_toxic', 'obscene', 'threat', 'insult', 'identity_hate']\n",
    "y_tr = train[col].values"
   ]
  },
  {
   "cell_type": "markdown",
   "metadata": {},
   "source": [
    "# Build the model"
   ]
  },
  {
   "cell_type": "code",
   "execution_count": 23,
   "metadata": {},
   "outputs": [],
   "source": [
    "max_len = 200\n",
    "max_feature = 30000"
   ]
  },
  {
   "cell_type": "code",
   "execution_count": 24,
   "metadata": {},
   "outputs": [],
   "source": [
    "def build_model(emb_matrix):\n",
    "    \"\"\"\n",
    "    Questa funzione crea il modello e lo compila\n",
    "    return: a model\n",
    "    \n",
    "    emb_matrix: matrice che inizializza i pesi dell'Embedding layer\n",
    "    \n",
    "    \"\"\"\n",
    "    \n",
    "    inp = Input(shape=(None,))\n",
    "    emb = Embedding(max_feature, 200, input_length=max_len, weights=[emb_matrix])(inp)\n",
    "    lstm = LSTM(units=60, dropout=0.3, recurrent_dropout=0.3, return_sequences=True)(emb)\n",
    "    fl = Flatten()(lstm)\n",
    "    d1 = Dense(100, activation='relu')(fl)\n",
    "    out = Dense(6, activation='sigmoid')(d1)\n",
    "    model = Model(inputs=inp, outputs=out)\n",
    "    model.compile(optimizer='adam', loss='binary_crossentropy', metrics=[AUC(name='acc')])\n",
    "    \n",
    "    return model "
   ]
  },
  {
   "cell_type": "code",
   "execution_count": 25,
   "metadata": {},
   "outputs": [],
   "source": [
    "cp = ModelCheckpoint('model_/best_lstm.h5', monitor='val_acc', verbose=1, save_best_only=True)\n",
    "es = EarlyStopping(verbose=1)\n",
    "callbacks = [cp, es]"
   ]
  },
  {
   "cell_type": "code",
   "execution_count": 26,
   "metadata": {},
   "outputs": [
    {
     "name": "stderr",
     "output_type": "stream",
     "text": [
      "/home/chiarapower/anaconda3/envs/tensorflow_gpuenv/lib/python3.7/site-packages/tensorflow_core/python/framework/indexed_slices.py:433: UserWarning: Converting sparse IndexedSlices to a dense Tensor of unknown shape. This may consume a large amount of memory.\n",
      "  \"Converting sparse IndexedSlices to a dense Tensor of unknown shape. \"\n"
     ]
    },
    {
     "name": "stdout",
     "output_type": "stream",
     "text": [
      "Train on 143613 samples, validate on 15958 samples\n",
      "Epoch 1/3\n",
      "143613/143613 [==============================] - 253s 2ms/step - loss: 0.0672 - acc: 0.9617 - val_loss: 0.0519 - val_acc: 0.9797\n",
      "\n",
      "Epoch 00001: val_acc improved from -inf to 0.97971, saving model to model_/best_lstm.h5\n",
      "Epoch 2/3\n",
      "143613/143613 [==============================] - 252s 2ms/step - loss: 0.0465 - acc: 0.9832 - val_loss: 0.0472 - val_acc: 0.9814\n",
      "\n",
      "Epoch 00002: val_acc improved from 0.97971 to 0.98144, saving model to model_/best_lstm.h5\n",
      "Epoch 3/3\n",
      "143613/143613 [==============================] - 244s 2ms/step - loss: 0.0403 - acc: 0.9880 - val_loss: 0.0476 - val_acc: 0.9775\n",
      "\n",
      "Epoch 00003: val_acc did not improve from 0.98144\n",
      "Epoch 00003: early stopping\n"
     ]
    }
   ],
   "source": [
    "# training with x_1: without punctuation and digits\n",
    "\n",
    "model1 = build_model(emb_matrix_glove)\n",
    "\n",
    "history1_1 = model1.fit(x_tr_1, y_tr, batch_size=128, epochs=3, validation_split=0.1, callbacks=callbacks)"
   ]
  },
  {
   "cell_type": "code",
   "execution_count": 27,
   "metadata": {},
   "outputs": [
    {
     "name": "stderr",
     "output_type": "stream",
     "text": [
      "/home/chiarapower/anaconda3/envs/tensorflow_gpuenv/lib/python3.7/site-packages/tensorflow_core/python/framework/indexed_slices.py:433: UserWarning: Converting sparse IndexedSlices to a dense Tensor of unknown shape. This may consume a large amount of memory.\n",
      "  \"Converting sparse IndexedSlices to a dense Tensor of unknown shape. \"\n"
     ]
    },
    {
     "name": "stdout",
     "output_type": "stream",
     "text": [
      "Train on 143613 samples, validate on 15958 samples\n",
      "Epoch 1/3\n",
      "143613/143613 [==============================] - 216s 2ms/step - loss: 0.0667 - acc: 0.9621 - val_loss: 0.0525 - val_acc: 0.9782\n",
      "\n",
      "Epoch 00001: val_acc did not improve from 0.98144\n",
      "Epoch 2/3\n",
      "143613/143613 [==============================] - 216s 2ms/step - loss: 0.0469 - acc: 0.9832 - val_loss: 0.0496 - val_acc: 0.9787\n",
      "\n",
      "Epoch 00002: val_acc did not improve from 0.98144\n",
      "Epoch 3/3\n",
      "143613/143613 [==============================] - 231s 2ms/step - loss: 0.0414 - acc: 0.9876 - val_loss: 0.0515 - val_acc: 0.9725\n",
      "\n",
      "Epoch 00003: val_acc did not improve from 0.98144\n",
      "Epoch 00003: early stopping\n"
     ]
    }
   ],
   "source": [
    "# training with x_2: without URLs, abbreviations and tags\n",
    "\n",
    "model2 = build_model(emb_matrix_glove)\n",
    "\n",
    "history1_2 = model2.fit(x_tr_2, y_tr, batch_size=128, epochs=3, validation_split=0.1, callbacks=callbacks)"
   ]
  },
  {
   "cell_type": "code",
   "execution_count": 28,
   "metadata": {},
   "outputs": [
    {
     "name": "stderr",
     "output_type": "stream",
     "text": [
      "/home/chiarapower/anaconda3/envs/tensorflow_gpuenv/lib/python3.7/site-packages/tensorflow_core/python/framework/indexed_slices.py:433: UserWarning: Converting sparse IndexedSlices to a dense Tensor of unknown shape. This may consume a large amount of memory.\n",
      "  \"Converting sparse IndexedSlices to a dense Tensor of unknown shape. \"\n"
     ]
    },
    {
     "name": "stdout",
     "output_type": "stream",
     "text": [
      "Train on 143613 samples, validate on 15958 samples\n",
      "Epoch 1/3\n",
      "143613/143613 [==============================] - 244s 2ms/step - loss: 0.0661 - acc: 0.9630 - val_loss: 0.0528 - val_acc: 0.9777\n",
      "\n",
      "Epoch 00001: val_acc did not improve from 0.98144\n",
      "Epoch 2/3\n",
      "143613/143613 [==============================] - 249s 2ms/step - loss: 0.0479 - acc: 0.9822 - val_loss: 0.0511 - val_acc: 0.9774\n",
      "\n",
      "Epoch 00002: val_acc did not improve from 0.98144\n",
      "Epoch 3/3\n",
      "143613/143613 [==============================] - 249s 2ms/step - loss: 0.0429 - acc: 0.9859 - val_loss: 0.0501 - val_acc: 0.9789\n",
      "\n",
      "Epoch 00003: val_acc did not improve from 0.98144\n"
     ]
    }
   ],
   "source": [
    "# training with x_3: with lemmatization\n",
    "\n",
    "model3 = build_model(emb_matrix_glove)\n",
    "\n",
    "history1_3 = model3.fit(x_tr_3, y_tr, batch_size=128, epochs=3, validation_split=0.1, callbacks=callbacks)"
   ]
  },
  {
   "cell_type": "code",
   "execution_count": 29,
   "metadata": {},
   "outputs": [
    {
     "name": "stderr",
     "output_type": "stream",
     "text": [
      "/home/chiarapower/anaconda3/envs/tensorflow_gpuenv/lib/python3.7/site-packages/tensorflow_core/python/framework/indexed_slices.py:433: UserWarning: Converting sparse IndexedSlices to a dense Tensor of unknown shape. This may consume a large amount of memory.\n",
      "  \"Converting sparse IndexedSlices to a dense Tensor of unknown shape. \"\n"
     ]
    },
    {
     "name": "stdout",
     "output_type": "stream",
     "text": [
      "Train on 143613 samples, validate on 15958 samples\n",
      "Epoch 1/3\n",
      "143613/143613 [==============================] - 233s 2ms/step - loss: 0.0728 - acc: 0.9499 - val_loss: 0.0610 - val_acc: 0.9655\n",
      "\n",
      "Epoch 00001: val_acc did not improve from 0.98144\n",
      "Epoch 2/3\n",
      "143613/143613 [==============================] - 250s 2ms/step - loss: 0.0558 - acc: 0.9728 - val_loss: 0.0571 - val_acc: 0.9715\n",
      "\n",
      "Epoch 00002: val_acc did not improve from 0.98144\n",
      "Epoch 3/3\n",
      "143613/143613 [==============================] - 254s 2ms/step - loss: 0.0516 - acc: 0.9771 - val_loss: 0.0578 - val_acc: 0.9687\n",
      "\n",
      "Epoch 00003: val_acc did not improve from 0.98144\n",
      "Epoch 00003: early stopping\n"
     ]
    }
   ],
   "source": [
    "# training with x_4: with stemming\n",
    "\n",
    "model4 = build_model(emb_matrix_glove)\n",
    "\n",
    "history1_4 = model4.fit(x_tr_4, y_tr, batch_size=128, epochs=3, validation_split=0.1, callbacks=callbacks)"
   ]
  },
  {
   "cell_type": "code",
   "execution_count": 30,
   "metadata": {},
   "outputs": [
    {
     "name": "stderr",
     "output_type": "stream",
     "text": [
      "/home/chiarapower/anaconda3/envs/tensorflow_gpuenv/lib/python3.7/site-packages/tensorflow_core/python/framework/indexed_slices.py:433: UserWarning: Converting sparse IndexedSlices to a dense Tensor of unknown shape. This may consume a large amount of memory.\n",
      "  \"Converting sparse IndexedSlices to a dense Tensor of unknown shape. \"\n"
     ]
    },
    {
     "name": "stdout",
     "output_type": "stream",
     "text": [
      "Train on 143613 samples, validate on 15958 samples\n",
      "Epoch 1/3\n",
      "143613/143613 [==============================] - 255s 2ms/step - loss: 0.0657 - acc: 0.9628 - val_loss: 0.0503 - val_acc: 0.9833\n",
      "\n",
      "Epoch 00001: val_acc improved from 0.98144 to 0.98328, saving model to model_/best_lstm.h5\n",
      "Epoch 2/3\n",
      "143613/143613 [==============================] - 259s 2ms/step - loss: 0.0455 - acc: 0.9840 - val_loss: 0.0466 - val_acc: 0.9820\n",
      "\n",
      "Epoch 00002: val_acc did not improve from 0.98328\n",
      "Epoch 3/3\n",
      "143613/143613 [==============================] - 234s 2ms/step - loss: 0.0397 - acc: 0.9886 - val_loss: 0.0478 - val_acc: 0.9790\n",
      "\n",
      "Epoch 00003: val_acc did not improve from 0.98328\n",
      "Epoch 00003: early stopping\n"
     ]
    }
   ],
   "source": [
    "# training with x_1: without punctuations and digits\n",
    "\n",
    "model1_2 = build_model(emb_matrix_ft)\n",
    "\n",
    "history_1 = model1_2.fit(x_tr_1, y_tr, batch_size=128, epochs=3, validation_split=0.1, callbacks=callbacks)"
   ]
  },
  {
   "cell_type": "code",
   "execution_count": 31,
   "metadata": {},
   "outputs": [
    {
     "name": "stderr",
     "output_type": "stream",
     "text": [
      "/home/chiarapower/anaconda3/envs/tensorflow_gpuenv/lib/python3.7/site-packages/tensorflow_core/python/framework/indexed_slices.py:433: UserWarning: Converting sparse IndexedSlices to a dense Tensor of unknown shape. This may consume a large amount of memory.\n",
      "  \"Converting sparse IndexedSlices to a dense Tensor of unknown shape. \"\n"
     ]
    },
    {
     "name": "stdout",
     "output_type": "stream",
     "text": [
      "Train on 143613 samples, validate on 15958 samples\n",
      "Epoch 1/3\n",
      "143613/143613 [==============================] - 239s 2ms/step - loss: 0.0647 - acc: 0.9641 - val_loss: 0.0513 - val_acc: 0.9776\n",
      "\n",
      "Epoch 00001: val_acc did not improve from 0.98328\n",
      "Epoch 2/3\n",
      "143613/143613 [==============================] - 234s 2ms/step - loss: 0.0456 - acc: 0.9842 - val_loss: 0.0481 - val_acc: 0.9803\n",
      "\n",
      "Epoch 00002: val_acc did not improve from 0.98328\n",
      "Epoch 3/3\n",
      "143613/143613 [==============================] - 233s 2ms/step - loss: 0.0396 - acc: 0.9887 - val_loss: 0.0477 - val_acc: 0.9798\n",
      "\n",
      "Epoch 00003: val_acc did not improve from 0.98328\n"
     ]
    }
   ],
   "source": [
    "# training with x_2: without URLs, abbreviations and tags\n",
    "\n",
    "model2_2 = build_model(emb_matrix_ft)\n",
    "\n",
    "history_2 = model2_2.fit(x_tr_2, y_tr, batch_size=128, epochs=3, validation_split=0.1, callbacks=callbacks)"
   ]
  },
  {
   "cell_type": "code",
   "execution_count": 32,
   "metadata": {},
   "outputs": [
    {
     "name": "stderr",
     "output_type": "stream",
     "text": [
      "/home/chiarapower/anaconda3/envs/tensorflow_gpuenv/lib/python3.7/site-packages/tensorflow_core/python/framework/indexed_slices.py:433: UserWarning: Converting sparse IndexedSlices to a dense Tensor of unknown shape. This may consume a large amount of memory.\n",
      "  \"Converting sparse IndexedSlices to a dense Tensor of unknown shape. \"\n"
     ]
    },
    {
     "name": "stdout",
     "output_type": "stream",
     "text": [
      "Train on 143613 samples, validate on 15958 samples\n",
      "Epoch 1/3\n",
      "143613/143613 [==============================] - 238s 2ms/step - loss: 0.0662 - acc: 0.9616 - val_loss: 0.0531 - val_acc: 0.9751\n",
      "\n",
      "Epoch 00001: val_acc did not improve from 0.98328\n",
      "Epoch 2/3\n",
      "143613/143613 [==============================] - 257s 2ms/step - loss: 0.0470 - acc: 0.9826 - val_loss: 0.0500 - val_acc: 0.9794\n",
      "\n",
      "Epoch 00002: val_acc did not improve from 0.98328\n",
      "Epoch 3/3\n",
      "143613/143613 [==============================] - 261s 2ms/step - loss: 0.0416 - acc: 0.9871 - val_loss: 0.0511 - val_acc: 0.9779\n",
      "\n",
      "Epoch 00003: val_acc did not improve from 0.98328\n",
      "Epoch 00003: early stopping\n"
     ]
    }
   ],
   "source": [
    "# training with x_3: with lemmatization\n",
    "\n",
    "model3_2 = build_model(emb_matrix_ft)\n",
    "\n",
    "history_3 = model3_2.fit(x_tr_3, y_tr, batch_size=128, epochs=3, validation_split=0.1, callbacks=callbacks)"
   ]
  },
  {
   "cell_type": "code",
   "execution_count": 33,
   "metadata": {},
   "outputs": [
    {
     "name": "stderr",
     "output_type": "stream",
     "text": [
      "/home/chiarapower/anaconda3/envs/tensorflow_gpuenv/lib/python3.7/site-packages/tensorflow_core/python/framework/indexed_slices.py:433: UserWarning: Converting sparse IndexedSlices to a dense Tensor of unknown shape. This may consume a large amount of memory.\n",
      "  \"Converting sparse IndexedSlices to a dense Tensor of unknown shape. \"\n"
     ]
    },
    {
     "name": "stdout",
     "output_type": "stream",
     "text": [
      "Train on 143613 samples, validate on 15958 samples\n",
      "Epoch 1/3\n",
      "143613/143613 [==============================] - 260s 2ms/step - loss: 0.0715 - acc: 0.9530 - val_loss: 0.0631 - val_acc: 0.9641\n",
      "\n",
      "Epoch 00001: val_acc did not improve from 0.98328\n",
      "Epoch 2/3\n",
      "143613/143613 [==============================] - 260s 2ms/step - loss: 0.0550 - acc: 0.9738 - val_loss: 0.0572 - val_acc: 0.9705\n",
      "\n",
      "Epoch 00002: val_acc did not improve from 0.98328\n",
      "Epoch 3/3\n",
      "143613/143613 [==============================] - 260s 2ms/step - loss: 0.0512 - acc: 0.9775 - val_loss: 0.0560 - val_acc: 0.9716\n",
      "\n",
      "Epoch 00003: val_acc did not improve from 0.98328\n"
     ]
    }
   ],
   "source": [
    "# training with x_4: with stemming\n",
    "\n",
    "model4_2 = build_model(emb_matrix_ft)\n",
    "\n",
    "history_4 = model4_2.fit(x_tr_4, y_tr, batch_size=128, epochs=3, validation_split=0.1, callbacks=callbacks)"
   ]
  },
  {
   "cell_type": "markdown",
   "metadata": {},
   "source": [
    "# Model without embedding matrix"
   ]
  },
  {
   "cell_type": "code",
   "execution_count": 34,
   "metadata": {},
   "outputs": [],
   "source": [
    "def build_model_():\n",
    "    \n",
    "    inp = Input(shape=(None,))\n",
    "    emb = Embedding(max_feature, 200, input_length=max_len)(inp)\n",
    "    lstm = LSTM(units=60, dropout=0.3, recurrent_dropout=0.3, return_sequences=True)(emb)\n",
    "    fl = Flatten()(lstm)\n",
    "    d1 = Dense(100, activation='relu')(fl)\n",
    "    out = Dense(6, activation='sigmoid')(d1)\n",
    "    \n",
    "    model = Model(inputs=inp, outputs=out)\n",
    "    model.compile(optimizer='adam', loss='binary_crossentropy', metrics=[AUC(name='acc')])\n",
    "    \n",
    "    return model"
   ]
  },
  {
   "cell_type": "code",
   "execution_count": 35,
   "metadata": {},
   "outputs": [
    {
     "name": "stderr",
     "output_type": "stream",
     "text": [
      "/home/chiarapower/anaconda3/envs/tensorflow_gpuenv/lib/python3.7/site-packages/tensorflow_core/python/framework/indexed_slices.py:433: UserWarning: Converting sparse IndexedSlices to a dense Tensor of unknown shape. This may consume a large amount of memory.\n",
      "  \"Converting sparse IndexedSlices to a dense Tensor of unknown shape. \"\n"
     ]
    },
    {
     "name": "stdout",
     "output_type": "stream",
     "text": [
      "Train on 143613 samples, validate on 15958 samples\n",
      "Epoch 1/3\n",
      "143613/143613 [==============================] - 254s 2ms/step - loss: 0.0645 - acc: 0.9640 - val_loss: 0.0508 - val_acc: 0.9777\n",
      "\n",
      "Epoch 00001: val_acc did not improve from 0.98328\n",
      "Epoch 2/3\n",
      "143613/143613 [==============================] - 256s 2ms/step - loss: 0.0446 - acc: 0.9848 - val_loss: 0.0493 - val_acc: 0.9810\n",
      "\n",
      "Epoch 00002: val_acc did not improve from 0.98328\n",
      "Epoch 3/3\n",
      "143613/143613 [==============================] - 220s 2ms/step - loss: 0.0378 - acc: 0.9899 - val_loss: 0.0526 - val_acc: 0.9710\n",
      "\n",
      "Epoch 00003: val_acc did not improve from 0.98328\n",
      "Epoch 00003: early stopping\n"
     ]
    }
   ],
   "source": [
    "model1_3 = build_model_()\n",
    "\n",
    "history3_1 = model1_3.fit(x_tr_1, y_tr, batch_size=128, epochs=3, validation_split=0.1, callbacks=callbacks)"
   ]
  },
  {
   "cell_type": "code",
   "execution_count": 36,
   "metadata": {},
   "outputs": [
    {
     "name": "stderr",
     "output_type": "stream",
     "text": [
      "/home/chiarapower/anaconda3/envs/tensorflow_gpuenv/lib/python3.7/site-packages/tensorflow_core/python/framework/indexed_slices.py:433: UserWarning: Converting sparse IndexedSlices to a dense Tensor of unknown shape. This may consume a large amount of memory.\n",
      "  \"Converting sparse IndexedSlices to a dense Tensor of unknown shape. \"\n"
     ]
    },
    {
     "name": "stdout",
     "output_type": "stream",
     "text": [
      "Train on 143613 samples, validate on 15958 samples\n",
      "Epoch 1/3\n",
      "143613/143613 [==============================] - 217s 2ms/step - loss: 0.0665 - acc: 0.9607 - val_loss: 0.0536 - val_acc: 0.9751\n",
      "\n",
      "Epoch 00001: val_acc did not improve from 0.98328\n",
      "Epoch 2/3\n",
      "143613/143613 [==============================] - 216s 2ms/step - loss: 0.0451 - acc: 0.9845 - val_loss: 0.0515 - val_acc: 0.9757\n",
      "\n",
      "Epoch 00002: val_acc did not improve from 0.98328\n",
      "Epoch 3/3\n",
      "143613/143613 [==============================] - 215s 1ms/step - loss: 0.0375 - acc: 0.9899 - val_loss: 0.0540 - val_acc: 0.9718\n",
      "\n",
      "Epoch 00003: val_acc did not improve from 0.98328\n",
      "Epoch 00003: early stopping\n"
     ]
    }
   ],
   "source": [
    "model2_3 = build_model_()\n",
    "\n",
    "history3_2 = model2_3.fit(x_tr_2, y_tr, batch_size=128, epochs=3, validation_split=0.1, callbacks=callbacks)"
   ]
  },
  {
   "cell_type": "code",
   "execution_count": 37,
   "metadata": {},
   "outputs": [
    {
     "name": "stderr",
     "output_type": "stream",
     "text": [
      "/home/chiarapower/anaconda3/envs/tensorflow_gpuenv/lib/python3.7/site-packages/tensorflow_core/python/framework/indexed_slices.py:433: UserWarning: Converting sparse IndexedSlices to a dense Tensor of unknown shape. This may consume a large amount of memory.\n",
      "  \"Converting sparse IndexedSlices to a dense Tensor of unknown shape. \"\n"
     ]
    },
    {
     "name": "stdout",
     "output_type": "stream",
     "text": [
      "Train on 143613 samples, validate on 15958 samples\n",
      "Epoch 1/3\n",
      "143613/143613 [==============================] - 220s 2ms/step - loss: 0.0669 - acc: 0.9602 - val_loss: 0.0542 - val_acc: 0.9764\n",
      "\n",
      "Epoch 00001: val_acc did not improve from 0.98328\n",
      "Epoch 2/3\n",
      "143613/143613 [==============================] - 230s 2ms/step - loss: 0.0465 - acc: 0.9831 - val_loss: 0.0517 - val_acc: 0.9765\n",
      "\n",
      "Epoch 00002: val_acc did not improve from 0.98328\n",
      "Epoch 3/3\n",
      "143613/143613 [==============================] - 217s 2ms/step - loss: 0.0395 - acc: 0.9885 - val_loss: 0.0553 - val_acc: 0.9697\n",
      "\n",
      "Epoch 00003: val_acc did not improve from 0.98328\n",
      "Epoch 00003: early stopping\n"
     ]
    }
   ],
   "source": [
    "model3_3 = build_model_()\n",
    "\n",
    "history3_3 = model3_3.fit(x_tr_3, y_tr, batch_size=128, epochs=3, validation_split=0.1, callbacks=callbacks)"
   ]
  },
  {
   "cell_type": "code",
   "execution_count": 38,
   "metadata": {},
   "outputs": [
    {
     "name": "stderr",
     "output_type": "stream",
     "text": [
      "/home/chiarapower/anaconda3/envs/tensorflow_gpuenv/lib/python3.7/site-packages/tensorflow_core/python/framework/indexed_slices.py:433: UserWarning: Converting sparse IndexedSlices to a dense Tensor of unknown shape. This may consume a large amount of memory.\n",
      "  \"Converting sparse IndexedSlices to a dense Tensor of unknown shape. \"\n"
     ]
    },
    {
     "name": "stdout",
     "output_type": "stream",
     "text": [
      "Train on 143613 samples, validate on 15958 samples\n",
      "Epoch 1/3\n",
      "143613/143613 [==============================] - 843s 6ms/step - loss: 0.0662 - acc: 0.9603 - val_loss: 0.0581 - val_acc: 0.9715\n",
      "\n",
      "Epoch 00001: val_acc did not improve from 0.98328\n",
      "Epoch 2/3\n",
      "143613/143613 [==============================] - 901s 6ms/step - loss: 0.0537 - acc: 0.9749 - val_loss: 0.0591 - val_acc: 0.9700\n",
      "\n",
      "Epoch 00002: val_acc did not improve from 0.98328\n",
      "Epoch 00002: early stopping\n"
     ]
    }
   ],
   "source": [
    "model4_3 = build_model_()\n",
    "\n",
    "history3_4 = model4_3.fit(x_tr_4, y_tr, batch_size=32, epochs=3, validation_split=0.1, callbacks=callbacks)"
   ]
  },
  {
   "cell_type": "code",
   "execution_count": null,
   "metadata": {},
   "outputs": [],
   "source": []
  }
 ],
 "metadata": {
  "kernelspec": {
   "display_name": "Python [conda env:tensorflow_gpuenv] *",
   "language": "python",
   "name": "conda-env-tensorflow_gpuenv-py"
  },
  "language_info": {
   "codemirror_mode": {
    "name": "ipython",
    "version": 3
   },
   "file_extension": ".py",
   "mimetype": "text/x-python",
   "name": "python",
   "nbconvert_exporter": "python",
   "pygments_lexer": "ipython3",
   "version": "3.7.7"
  }
 },
 "nbformat": 4,
 "nbformat_minor": 4
}
