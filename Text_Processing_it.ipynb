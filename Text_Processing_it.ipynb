{
 "cells": [
  {
   "cell_type": "code",
   "execution_count": 1,
   "metadata": {},
   "outputs": [
    {
     "name": "stderr",
     "output_type": "stream",
     "text": [
      "Using TensorFlow backend.\n"
     ]
    }
   ],
   "source": [
    "import os, re\n",
    "import pandas as pd\n",
    "import numpy as np\n",
    "import tensorflow as tf\n",
    "import matplotlib.pyplot as plt\n",
    "import nltk\n",
    "\n",
    "from string import digits, punctuation\n",
    "\n",
    "from keras.preprocessing.text import Tokenizer \n",
    "from nltk.tokenize.casual import reduce_lengthening\n",
    "from nltk.corpus import stopwords, wordnet\n",
    "from nltk.tokenize import WhitespaceTokenizer\n",
    "from nltk.tokenize import word_tokenize\n",
    "from nltk.stem import WordNetLemmatizer, PorterStemmer, LancasterStemmer\n",
    "from keras.preprocessing.sequence import pad_sequences"
   ]
  },
  {
   "cell_type": "code",
   "execution_count": 2,
   "metadata": {},
   "outputs": [
    {
     "data": {
      "text/html": [
       "<div>\n",
       "<style scoped>\n",
       "    .dataframe tbody tr th:only-of-type {\n",
       "        vertical-align: middle;\n",
       "    }\n",
       "\n",
       "    .dataframe tbody tr th {\n",
       "        vertical-align: top;\n",
       "    }\n",
       "\n",
       "    .dataframe thead th {\n",
       "        text-align: right;\n",
       "    }\n",
       "</style>\n",
       "<table border=\"1\" class=\"dataframe\">\n",
       "  <thead>\n",
       "    <tr style=\"text-align: right;\">\n",
       "      <th></th>\n",
       "      <th>idtwitter</th>\n",
       "      <th>subj</th>\n",
       "      <th>opos</th>\n",
       "      <th>oneg</th>\n",
       "      <th>iro</th>\n",
       "      <th>lpos</th>\n",
       "      <th>lneg</th>\n",
       "      <th>top</th>\n",
       "      <th>text</th>\n",
       "    </tr>\n",
       "  </thead>\n",
       "  <tbody>\n",
       "    <tr>\n",
       "      <th>0</th>\n",
       "      <td>122449983151669248</td>\n",
       "      <td>1</td>\n",
       "      <td>0</td>\n",
       "      <td>1</td>\n",
       "      <td>0</td>\n",
       "      <td>0</td>\n",
       "      <td>1</td>\n",
       "      <td>1</td>\n",
       "      <td>Intanto la partita per Via Nazionale si compli...</td>\n",
       "    </tr>\n",
       "    <tr>\n",
       "      <th>1</th>\n",
       "      <td>125485104863780865</td>\n",
       "      <td>1</td>\n",
       "      <td>0</td>\n",
       "      <td>1</td>\n",
       "      <td>0</td>\n",
       "      <td>0</td>\n",
       "      <td>1</td>\n",
       "      <td>1</td>\n",
       "      <td>False illusioni, sgradevoli realtà Mario Monti...</td>\n",
       "    </tr>\n",
       "    <tr>\n",
       "      <th>2</th>\n",
       "      <td>125513454315507712</td>\n",
       "      <td>1</td>\n",
       "      <td>0</td>\n",
       "      <td>1</td>\n",
       "      <td>0</td>\n",
       "      <td>0</td>\n",
       "      <td>1</td>\n",
       "      <td>1</td>\n",
       "      <td>False illusioni, sgradevoli realtà #editoriale...</td>\n",
       "    </tr>\n",
       "    <tr>\n",
       "      <th>3</th>\n",
       "      <td>125524238290522113</td>\n",
       "      <td>1</td>\n",
       "      <td>0</td>\n",
       "      <td>1</td>\n",
       "      <td>0</td>\n",
       "      <td>0</td>\n",
       "      <td>1</td>\n",
       "      <td>1</td>\n",
       "      <td>Mario Monti: Berlusconi risparmi all'Italia il...</td>\n",
       "    </tr>\n",
       "    <tr>\n",
       "      <th>4</th>\n",
       "      <td>125527933224886272</td>\n",
       "      <td>1</td>\n",
       "      <td>0</td>\n",
       "      <td>1</td>\n",
       "      <td>0</td>\n",
       "      <td>0</td>\n",
       "      <td>1</td>\n",
       "      <td>1</td>\n",
       "      <td>Mario Monti: Berlusconi risparmi all'Italia il...</td>\n",
       "    </tr>\n",
       "  </tbody>\n",
       "</table>\n",
       "</div>"
      ],
      "text/plain": [
       "            idtwitter  subj  opos  oneg  iro  lpos  lneg  top  \\\n",
       "0  122449983151669248     1     0     1    0     0     1    1   \n",
       "1  125485104863780865     1     0     1    0     0     1    1   \n",
       "2  125513454315507712     1     0     1    0     0     1    1   \n",
       "3  125524238290522113     1     0     1    0     0     1    1   \n",
       "4  125527933224886272     1     0     1    0     0     1    1   \n",
       "\n",
       "                                                text  \n",
       "0  Intanto la partita per Via Nazionale si compli...  \n",
       "1  False illusioni, sgradevoli realtà Mario Monti...  \n",
       "2  False illusioni, sgradevoli realtà #editoriale...  \n",
       "3  Mario Monti: Berlusconi risparmi all'Italia il...  \n",
       "4  Mario Monti: Berlusconi risparmi all'Italia il...  "
      ]
     },
     "execution_count": 2,
     "metadata": {},
     "output_type": "execute_result"
    }
   ],
   "source": [
    "# Open and save data\n",
    "\n",
    "train = pd.read_csv('data_it/training_set_sentipolc16.csv/training_set_sentipolc16.csv')\n",
    "\n",
    "train.head()"
   ]
  },
  {
   "cell_type": "code",
   "execution_count": 3,
   "metadata": {},
   "outputs": [
    {
     "data": {
      "text/html": [
       "<div>\n",
       "<style scoped>\n",
       "    .dataframe tbody tr th:only-of-type {\n",
       "        vertical-align: middle;\n",
       "    }\n",
       "\n",
       "    .dataframe tbody tr th {\n",
       "        vertical-align: top;\n",
       "    }\n",
       "\n",
       "    .dataframe thead th {\n",
       "        text-align: right;\n",
       "    }\n",
       "</style>\n",
       "<table border=\"1\" class=\"dataframe\">\n",
       "  <thead>\n",
       "    <tr style=\"text-align: right;\">\n",
       "      <th></th>\n",
       "      <th>idtwitter</th>\n",
       "      <th>text</th>\n",
       "    </tr>\n",
       "  </thead>\n",
       "  <tbody>\n",
       "    <tr>\n",
       "      <th>0</th>\n",
       "      <td>507074506880712705</td>\n",
       "      <td>Tra 5 minuti presentazione piano scuola del go...</td>\n",
       "    </tr>\n",
       "    <tr>\n",
       "      <th>1</th>\n",
       "      <td>507075789456961536</td>\n",
       "      <td>\\@matteorenzi: Alle 10 appuntamento su http://...</td>\n",
       "    </tr>\n",
       "    <tr>\n",
       "      <th>2</th>\n",
       "      <td>507077511902425088</td>\n",
       "      <td>#labuonascuola gli #evangelisti #digitali non ...</td>\n",
       "    </tr>\n",
       "    <tr>\n",
       "      <th>3</th>\n",
       "      <td>507079183315787777</td>\n",
       "      <td>Riforma scuola Tutto il discorso di  Renzi su ...</td>\n",
       "    </tr>\n",
       "    <tr>\n",
       "      <th>4</th>\n",
       "      <td>507080190225563648</td>\n",
       "      <td>.@matteorenzi @MiurSocial #labuonascuola basta...</td>\n",
       "    </tr>\n",
       "  </tbody>\n",
       "</table>\n",
       "</div>"
      ],
      "text/plain": [
       "            idtwitter                                               text\n",
       "0  507074506880712705  Tra 5 minuti presentazione piano scuola del go...\n",
       "1  507075789456961536  \\@matteorenzi: Alle 10 appuntamento su http://...\n",
       "2  507077511902425088  #labuonascuola gli #evangelisti #digitali non ...\n",
       "3  507079183315787777  Riforma scuola Tutto il discorso di  Renzi su ...\n",
       "4  507080190225563648  .@matteorenzi @MiurSocial #labuonascuola basta..."
      ]
     },
     "execution_count": 3,
     "metadata": {},
     "output_type": "execute_result"
    }
   ],
   "source": [
    "test = pd.read_csv('data_it/test_set_sentipolc16_gold2000.csv/test_set_sentipolc16_gold2000.csv', usecols=[0, 8], header=None, )\n",
    "test.columns = ['idtwitter','text']\n",
    "test.head()"
   ]
  },
  {
   "cell_type": "code",
   "execution_count": 4,
   "metadata": {},
   "outputs": [
    {
     "data": {
      "text/plain": [
       "7410"
      ]
     },
     "execution_count": 4,
     "metadata": {},
     "output_type": "execute_result"
    }
   ],
   "source": [
    "len(train)"
   ]
  },
  {
   "cell_type": "code",
   "execution_count": 5,
   "metadata": {},
   "outputs": [
    {
     "data": {
      "text/plain": [
       "1998"
      ]
     },
     "execution_count": 5,
     "metadata": {},
     "output_type": "execute_result"
    }
   ],
   "source": [
    "len(test)"
   ]
  },
  {
   "cell_type": "code",
   "execution_count": 6,
   "metadata": {},
   "outputs": [
    {
     "data": {
      "text/plain": [
       "idtwitter    False\n",
       "subj         False\n",
       "opos         False\n",
       "oneg         False\n",
       "iro          False\n",
       "lpos         False\n",
       "lneg         False\n",
       "top          False\n",
       "text         False\n",
       "dtype: bool"
      ]
     },
     "execution_count": 6,
     "metadata": {},
     "output_type": "execute_result"
    }
   ],
   "source": [
    "# control of null elements\n",
    "\n",
    "train.isnull().any()"
   ]
  },
  {
   "cell_type": "code",
   "execution_count": 7,
   "metadata": {},
   "outputs": [
    {
     "data": {
      "text/plain": [
       "idtwitter    False\n",
       "subj         False\n",
       "opos         False\n",
       "oneg         False\n",
       "iro          False\n",
       "lpos         False\n",
       "lneg         False\n",
       "top          False\n",
       "text         False\n",
       "dtype: bool"
      ]
     },
     "execution_count": 7,
     "metadata": {},
     "output_type": "execute_result"
    }
   ],
   "source": [
    "train.isna().any()"
   ]
  },
  {
   "cell_type": "code",
   "execution_count": 8,
   "metadata": {},
   "outputs": [
    {
     "data": {
      "text/plain": [
       "idtwitter    False\n",
       "text         False\n",
       "dtype: bool"
      ]
     },
     "execution_count": 8,
     "metadata": {},
     "output_type": "execute_result"
    }
   ],
   "source": [
    "test.isnull().any()"
   ]
  },
  {
   "cell_type": "code",
   "execution_count": 9,
   "metadata": {},
   "outputs": [
    {
     "data": {
      "text/plain": [
       "idtwitter    False\n",
       "text         False\n",
       "dtype: bool"
      ]
     },
     "execution_count": 9,
     "metadata": {},
     "output_type": "execute_result"
    }
   ],
   "source": [
    "test.isna().any()"
   ]
  },
  {
   "cell_type": "code",
   "execution_count": 10,
   "metadata": {},
   "outputs": [],
   "source": [
    "x_tr = train['text']"
   ]
  },
  {
   "cell_type": "code",
   "execution_count": 11,
   "metadata": {},
   "outputs": [],
   "source": [
    "x_ts = test['text']"
   ]
  },
  {
   "cell_type": "markdown",
   "metadata": {},
   "source": [
    "# Text normalization: x_1 -> without punctuation and digits"
   ]
  },
  {
   "cell_type": "code",
   "execution_count": 12,
   "metadata": {},
   "outputs": [],
   "source": [
    "# removing punctuation\n",
    "\n",
    "x_tr_1 = x_tr.str.translate(str.maketrans(' ', ' ', punctuation))\n",
    "x_ts_1 = x_ts.str.translate(str.maketrans(' ', ' ', punctuation))"
   ]
  },
  {
   "cell_type": "code",
   "execution_count": 13,
   "metadata": {},
   "outputs": [
    {
     "data": {
      "text/plain": [
       "0    Intanto la partita per Via Nazionale si compli...\n",
       "1    False illusioni sgradevoli realtà Mario Monti ...\n",
       "Name: text, dtype: object"
      ]
     },
     "execution_count": 13,
     "metadata": {},
     "output_type": "execute_result"
    }
   ],
   "source": [
    "x_tr_1[:2]"
   ]
  },
  {
   "cell_type": "code",
   "execution_count": 14,
   "metadata": {},
   "outputs": [],
   "source": [
    "#removing digits\n",
    "\n",
    "x_tr_1 = x_tr_1.str.translate(str.maketrans(' ', ' ', digits))\n",
    "x_ts_1 = x_ts_1.str.translate(str.maketrans(' ', ' ', digits))"
   ]
  },
  {
   "cell_type": "code",
   "execution_count": 15,
   "metadata": {},
   "outputs": [
    {
     "data": {
      "text/plain": [
       "0    Intanto la partita per Via Nazionale si compli...\n",
       "1    False illusioni sgradevoli realtà Mario Monti ...\n",
       "2    False illusioni sgradevoli realtà editoriale d...\n",
       "3    Mario Monti Berlusconi risparmi allItalia il b...\n",
       "4    Mario Monti Berlusconi risparmi allItalia il b...\n",
       "Name: text, dtype: object"
      ]
     },
     "execution_count": 15,
     "metadata": {},
     "output_type": "execute_result"
    }
   ],
   "source": [
    "x_tr_1[:5]"
   ]
  },
  {
   "cell_type": "markdown",
   "metadata": {},
   "source": [
    "# Tokenization"
   ]
  },
  {
   "cell_type": "code",
   "execution_count": 16,
   "metadata": {},
   "outputs": [],
   "source": [
    "max_features = 30000\n",
    "\n",
    "tokenizer = Tokenizer(num_words=max_features)\n",
    "\n",
    "tokenizer.fit_on_texts(list(x_tr_1))"
   ]
  },
  {
   "cell_type": "code",
   "execution_count": 17,
   "metadata": {},
   "outputs": [],
   "source": [
    "x_tr_tokenized = tokenizer.texts_to_sequences(x_tr_1)\n",
    "x_ts_tokenized = tokenizer.texts_to_sequences(x_ts_1)"
   ]
  },
  {
   "cell_type": "code",
   "execution_count": 18,
   "metadata": {},
   "outputs": [],
   "source": [
    "# pad sequences: every sample with the same length\n",
    "\n",
    "max_len = 200\n",
    "X_tr_1 = pad_sequences(x_tr_tokenized, maxlen=max_len)\n",
    "X_ts_1 = pad_sequences(x_ts_tokenized, maxlen=max_len)"
   ]
  },
  {
   "cell_type": "code",
   "execution_count": 19,
   "metadata": {},
   "outputs": [
    {
     "data": {
      "text/plain": [
       "array([[   0,    0,    0,    0,    0,    0,    0,    0,    0,    0,    0,\n",
       "           0,    0,    0,    0,    0,    0,    0,    0,    0,    0,    0,\n",
       "           0,    0,    0,    0,    0,    0,    0,    0,    0,    0,    0,\n",
       "           0,    0,    0,    0,    0,    0,    0,    0,    0,    0,    0,\n",
       "           0,    0,    0,    0,    0,    0,    0,    0,    0,    0,    0,\n",
       "           0,    0,    0,    0,    0,    0,    0,    0,    0,    0,    0,\n",
       "           0,    0,    0,    0,    0,    0,    0,    0,    0,    0,    0,\n",
       "           0,    0,    0,    0,    0,    0,    0,    0,    0,    0,    0,\n",
       "           0,    0,    0,    0,    0,    0,    0,    0,    0,    0,    0,\n",
       "           0,    0,    0,    0,    0,    0,    0,    0,    0,    0,    0,\n",
       "           0,    0,    0,    0,    0,    0,    0,    0,    0,    0,    0,\n",
       "           0,    0,    0,    0,    0,    0,    0,    0,    0,    0,    0,\n",
       "           0,    0,    0,    0,    0,    0,    0,    0,    0,    0,    0,\n",
       "           0,    0,    0,    0,    0,    0,    0,    0,    0,    0,    0,\n",
       "           0,    0,    0,    0,    0,    0,    0,    0,    0,    0,    0,\n",
       "           0,    0,    0,    0,    0,    0,    0,    0,    0,    0,    0,\n",
       "           0,    0,    0,    0,    0,  573,    8, 1109,   12,   43,  602,\n",
       "          20, 6175, 3878,  105,    7,  838,   31,   30,   11,    1, 6176,\n",
       "          43,  915],\n",
       "       [   0,    0,    0,    0,    0,    0,    0,    0,    0,    0,    0,\n",
       "           0,    0,    0,    0,    0,    0,    0,    0,    0,    0,    0,\n",
       "           0,    0,    0,    0,    0,    0,    0,    0,    0,    0,    0,\n",
       "           0,    0,    0,    0,    0,    0,    0,    0,    0,    0,    0,\n",
       "           0,    0,    0,    0,    0,    0,    0,    0,    0,    0,    0,\n",
       "           0,    0,    0,    0,    0,    0,    0,    0,    0,    0,    0,\n",
       "           0,    0,    0,    0,    0,    0,    0,    0,    0,    0,    0,\n",
       "           0,    0,    0,    0,    0,    0,    0,    0,    0,    0,    0,\n",
       "           0,    0,    0,    0,    0,    0,    0,    0,    0,    0,    0,\n",
       "           0,    0,    0,    0,    0,    0,    0,    0,    0,    0,    0,\n",
       "           0,    0,    0,    0,    0,    0,    0,    0,    0,    0,    0,\n",
       "           0,    0,    0,    0,    0,    0,    0,    0,    0,    0,    0,\n",
       "           0,    0,    0,    0,    0,    0,    0,    0,    0,    0,    0,\n",
       "           0,    0,    0,    0,    0,    0,    0,    0,    0,    0,    0,\n",
       "           0,    0,    0,    0,    0,    0,    0,    0,    0,    0,    0,\n",
       "           0,    0,    0,    0,    0,    0,    0,    0,    0,    0,    0,\n",
       "           0,    0,    0,    0,    0,    0,    0,    0,    0,    0,    0,\n",
       "           0,    0,    0,    0, 1110, 1419, 1420,  494,   11,    1, 6177,\n",
       "          43, 3879],\n",
       "       [   0,    0,    0,    0,    0,    0,    0,    0,    0,    0,    0,\n",
       "           0,    0,    0,    0,    0,    0,    0,    0,    0,    0,    0,\n",
       "           0,    0,    0,    0,    0,    0,    0,    0,    0,    0,    0,\n",
       "           0,    0,    0,    0,    0,    0,    0,    0,    0,    0,    0,\n",
       "           0,    0,    0,    0,    0,    0,    0,    0,    0,    0,    0,\n",
       "           0,    0,    0,    0,    0,    0,    0,    0,    0,    0,    0,\n",
       "           0,    0,    0,    0,    0,    0,    0,    0,    0,    0,    0,\n",
       "           0,    0,    0,    0,    0,    0,    0,    0,    0,    0,    0,\n",
       "           0,    0,    0,    0,    0,    0,    0,    0,    0,    0,    0,\n",
       "           0,    0,    0,    0,    0,    0,    0,    0,    0,    0,    0,\n",
       "           0,    0,    0,    0,    0,    0,    0,    0,    0,    0,    0,\n",
       "           0,    0,    0,    0,    0,    0,    0,    0,    0,    0,    0,\n",
       "           0,    0,    0,    0,    0,    0,    0,    0,    0,    0,    0,\n",
       "           0,    0,    0,    0,    0,    0,    0,    0,    0,    0,    0,\n",
       "           0,    0,    0,    0,    0,    0,    0,    0,    0,    0,    0,\n",
       "           0,    0,    0,    0,    0,    0,    0,    0,    0,    0,    0,\n",
       "           0,    0,    0,    0,    0,    0,    0,    0,    0, 1110, 1419,\n",
       "        1420,  494, 3880,    3,   11,    1,   57,  372,   21,  196, 6178,\n",
       "        3881,  312],\n",
       "       [   0,    0,    0,    0,    0,    0,    0,    0,    0,    0,    0,\n",
       "           0,    0,    0,    0,    0,    0,    0,    0,    0,    0,    0,\n",
       "           0,    0,    0,    0,    0,    0,    0,    0,    0,    0,    0,\n",
       "           0,    0,    0,    0,    0,    0,    0,    0,    0,    0,    0,\n",
       "           0,    0,    0,    0,    0,    0,    0,    0,    0,    0,    0,\n",
       "           0,    0,    0,    0,    0,    0,    0,    0,    0,    0,    0,\n",
       "           0,    0,    0,    0,    0,    0,    0,    0,    0,    0,    0,\n",
       "           0,    0,    0,    0,    0,    0,    0,    0,    0,    0,    0,\n",
       "           0,    0,    0,    0,    0,    0,    0,    0,    0,    0,    0,\n",
       "           0,    0,    0,    0,    0,    0,    0,    0,    0,    0,    0,\n",
       "           0,    0,    0,    0,    0,    0,    0,    0,    0,    0,    0,\n",
       "           0,    0,    0,    0,    0,    0,    0,    0,    0,    0,    0,\n",
       "           0,    0,    0,    0,    0,    0,    0,    0,    0,    0,    0,\n",
       "           0,    0,    0,    0,    0,    0,    0,    0,    0,    0,    0,\n",
       "           0,    0,    0,    0,    0,    0,    0,    0,    0,    0,    0,\n",
       "           0,    0,    0,    0,    0,    0,    0,    0,    0,    0,    0,\n",
       "           0,    0,    0,    0,    0,    0,    0,    0,    0,    0,    0,\n",
       "          11,    1,   64, 2843,  719,    2, 3882,   12,  255, 3883,   13,\n",
       "        1004, 6179],\n",
       "       [   0,    0,    0,    0,    0,    0,    0,    0,    0,    0,    0,\n",
       "           0,    0,    0,    0,    0,    0,    0,    0,    0,    0,    0,\n",
       "           0,    0,    0,    0,    0,    0,    0,    0,    0,    0,    0,\n",
       "           0,    0,    0,    0,    0,    0,    0,    0,    0,    0,    0,\n",
       "           0,    0,    0,    0,    0,    0,    0,    0,    0,    0,    0,\n",
       "           0,    0,    0,    0,    0,    0,    0,    0,    0,    0,    0,\n",
       "           0,    0,    0,    0,    0,    0,    0,    0,    0,    0,    0,\n",
       "           0,    0,    0,    0,    0,    0,    0,    0,    0,    0,    0,\n",
       "           0,    0,    0,    0,    0,    0,    0,    0,    0,    0,    0,\n",
       "           0,    0,    0,    0,    0,    0,    0,    0,    0,    0,    0,\n",
       "           0,    0,    0,    0,    0,    0,    0,    0,    0,    0,    0,\n",
       "           0,    0,    0,    0,    0,    0,    0,    0,    0,    0,    0,\n",
       "           0,    0,    0,    0,    0,    0,    0,    0,    0,    0,    0,\n",
       "           0,    0,    0,    0,    0,    0,    0,    0,    0,    0,    0,\n",
       "           0,    0,    0,    0,    0,    0,    0,    0,    0,    0,    0,\n",
       "           0,    0,    0,    0,    0,    0,    0,    0,    0,    0,    0,\n",
       "           0,    0,    0,    0,    0,   11,    1,   64, 2843,  719,    2,\n",
       "        3882,   12,  255, 3883,   13, 1004,   17, 2269,    3, 1243,    5,\n",
       "         603, 6180]], dtype=int32)"
      ]
     },
     "execution_count": 19,
     "metadata": {},
     "output_type": "execute_result"
    }
   ],
   "source": [
    "X_tr_1[:5]"
   ]
  },
  {
   "cell_type": "markdown",
   "metadata": {},
   "source": [
    "# Text normalization: x_2 -> without URLs, abbreviations, stop words"
   ]
  },
  {
   "cell_type": "code",
   "execution_count": 20,
   "metadata": {},
   "outputs": [],
   "source": [
    "# removing abbreviation, tag and urls\n",
    "\n",
    "abbr = [ # list of abbreviation and URLs\n",
    "    (r'(\\w*|\\W*)\\n(\\w*|\\W*)', r'\\g<1> \\g<2>'),\n",
    "    (r'(\\w*|\\W*)\\t(\\w*|\\W*)', r'\\g<1> \\g<2>'),\n",
    "    (r'(\\w*|\\W*)xch[èeé](\\w*|\\W*)', r'\\g<1> perché \\g<2>'),\n",
    "    (r'(\\w*|\\W*)xk[éeè]*(\\w*|\\W*)', r'\\g<1> perché \\g<2>'),\n",
    "    (r'(\\w*|\\W*)ank[e](\\w*|\\W*)', r'\\g<1> anche \\g<2>'),\n",
    "    (r'(\\w*|\\W*)[kc]m(\\w*|\\W*)', r'\\g<1> come \\g<2>'),\n",
    "    (r'http\\S+', r' '),\n",
    "    (r'www\\S+', r' '),\n",
    "    (r'c\\*\\*\\*o', r'cazzo'), \n",
    "    (r'ca\\*\\*o', r'cazzo'), \n",
    "    (r'caz\\*o', r'cazzo'), \n",
    "    (r'c\\*\\*\\*\\*', r'cazzo'), \n",
    "    (r'f\\*\\*\\*\\*\\*o', r'fanculo'),\n",
    "    (r'vaf*\\*\\*\\*\\*\\*o', r'vaffanculo'),\n",
    "] # list of atericks words from https://www.kaggle.com/tunguz/bi-gru-lstm-dual-embedding-new-test-cleaned-5"
   ]
  },
  {
   "cell_type": "code",
   "execution_count": 21,
   "metadata": {},
   "outputs": [],
   "source": [
    "def clean_comment(comment):\n",
    "    \"\"\"\n",
    "    Questa funzione normalizza i commenti \n",
    "    \n",
    "    \n",
    "    comment: a string\n",
    "    \"\"\"\n",
    "    \n",
    "    for (pattern, repl) in patterns:\n",
    "        \n",
    "        comment = re.sub(pattern, repl, comment)\n",
    "        \n",
    "    return comment"
   ]
  },
  {
   "cell_type": "code",
   "execution_count": 22,
   "metadata": {},
   "outputs": [],
   "source": [
    "patterns = [(re.compile(regex), repl) for (regex, repl) in abbr]"
   ]
  },
  {
   "cell_type": "code",
   "execution_count": 23,
   "metadata": {},
   "outputs": [],
   "source": [
    "x_tr_abbr = x_tr.apply(lambda x :clean_comment(x))\n",
    "x_ts_abbr = x_ts.apply(lambda x :clean_comment(x))"
   ]
  },
  {
   "cell_type": "code",
   "execution_count": 24,
   "metadata": {},
   "outputs": [
    {
     "data": {
      "text/plain": [
       "0    Intanto la partita per Via Nazionale si compli...\n",
       "1    False illusioni, sgradevoli realtà Mario Monti...\n",
       "2    False illusioni, sgradevoli realtà #editoriale...\n",
       "3    Mario Monti: Berlusconi risparmi all'Italia il...\n",
       "4    Mario Monti: Berlusconi risparmi all'Italia il...\n",
       "Name: text, dtype: object"
      ]
     },
     "execution_count": 24,
     "metadata": {},
     "output_type": "execute_result"
    }
   ],
   "source": [
    "x_tr_abbr[:5]"
   ]
  },
  {
   "cell_type": "code",
   "execution_count": 25,
   "metadata": {},
   "outputs": [],
   "source": [
    "# everything in lowercase\n",
    "\n",
    "x_tr_clean = x_tr_abbr.apply(lambda x: x.lower())\n",
    "x_ts_clean = x_ts_abbr.apply(lambda x: x.lower())"
   ]
  },
  {
   "cell_type": "code",
   "execution_count": 26,
   "metadata": {},
   "outputs": [
    {
     "data": {
      "text/plain": [
       "0    intanto la partita per via nazionale si compli...\n",
       "1    false illusioni, sgradevoli realtà mario monti...\n",
       "2    false illusioni, sgradevoli realtà #editoriale...\n",
       "3    mario monti: berlusconi risparmi all'italia il...\n",
       "4    mario monti: berlusconi risparmi all'italia il...\n",
       "Name: text, dtype: object"
      ]
     },
     "execution_count": 26,
     "metadata": {},
     "output_type": "execute_result"
    }
   ],
   "source": [
    "x_tr_clean[:5]"
   ]
  },
  {
   "cell_type": "code",
   "execution_count": 27,
   "metadata": {},
   "outputs": [],
   "source": [
    "# removing stop words\n",
    "\n",
    "list_sw = list(stopwords.words('italian'))"
   ]
  },
  {
   "cell_type": "code",
   "execution_count": 28,
   "metadata": {},
   "outputs": [
    {
     "data": {
      "text/plain": [
       "['ad',\n",
       " 'al',\n",
       " 'allo',\n",
       " 'ai',\n",
       " 'agli',\n",
       " 'all',\n",
       " 'agl',\n",
       " 'alla',\n",
       " 'alle',\n",
       " 'con',\n",
       " 'col',\n",
       " 'coi',\n",
       " 'da',\n",
       " 'dal',\n",
       " 'dallo',\n",
       " 'dai',\n",
       " 'dagli',\n",
       " 'dall',\n",
       " 'dagl',\n",
       " 'dalla',\n",
       " 'dalle',\n",
       " 'di',\n",
       " 'del',\n",
       " 'dello',\n",
       " 'dei',\n",
       " 'degli',\n",
       " 'dell',\n",
       " 'degl',\n",
       " 'della',\n",
       " 'delle',\n",
       " 'in',\n",
       " 'nel',\n",
       " 'nello',\n",
       " 'nei',\n",
       " 'negli',\n",
       " 'nell',\n",
       " 'negl',\n",
       " 'nella',\n",
       " 'nelle',\n",
       " 'su',\n",
       " 'sul',\n",
       " 'sullo',\n",
       " 'sui',\n",
       " 'sugli',\n",
       " 'sull',\n",
       " 'sugl',\n",
       " 'sulla',\n",
       " 'sulle',\n",
       " 'per',\n",
       " 'tra',\n",
       " 'contro',\n",
       " 'io',\n",
       " 'tu',\n",
       " 'lui',\n",
       " 'lei',\n",
       " 'noi',\n",
       " 'voi',\n",
       " 'loro',\n",
       " 'mio',\n",
       " 'mia',\n",
       " 'miei',\n",
       " 'mie',\n",
       " 'tuo',\n",
       " 'tua',\n",
       " 'tuoi',\n",
       " 'tue',\n",
       " 'suo',\n",
       " 'sua',\n",
       " 'suoi',\n",
       " 'sue',\n",
       " 'nostro',\n",
       " 'nostra',\n",
       " 'nostri',\n",
       " 'nostre',\n",
       " 'vostro',\n",
       " 'vostra',\n",
       " 'vostri',\n",
       " 'vostre',\n",
       " 'mi',\n",
       " 'ti',\n",
       " 'ci',\n",
       " 'vi',\n",
       " 'lo',\n",
       " 'la',\n",
       " 'li',\n",
       " 'le',\n",
       " 'gli',\n",
       " 'ne',\n",
       " 'il',\n",
       " 'un',\n",
       " 'uno',\n",
       " 'una',\n",
       " 'ma',\n",
       " 'ed',\n",
       " 'se',\n",
       " 'perché',\n",
       " 'anche',\n",
       " 'come',\n",
       " 'dov',\n",
       " 'dove',\n",
       " 'che',\n",
       " 'chi',\n",
       " 'cui',\n",
       " 'non',\n",
       " 'più',\n",
       " 'quale',\n",
       " 'quanto',\n",
       " 'quanti',\n",
       " 'quanta',\n",
       " 'quante',\n",
       " 'quello',\n",
       " 'quelli',\n",
       " 'quella',\n",
       " 'quelle',\n",
       " 'questo',\n",
       " 'questi',\n",
       " 'questa',\n",
       " 'queste',\n",
       " 'si',\n",
       " 'tutto',\n",
       " 'tutti',\n",
       " 'a',\n",
       " 'c',\n",
       " 'e',\n",
       " 'i',\n",
       " 'l',\n",
       " 'o',\n",
       " 'ho',\n",
       " 'hai',\n",
       " 'ha',\n",
       " 'abbiamo',\n",
       " 'avete',\n",
       " 'hanno',\n",
       " 'abbia',\n",
       " 'abbiate',\n",
       " 'abbiano',\n",
       " 'avrò',\n",
       " 'avrai',\n",
       " 'avrà',\n",
       " 'avremo',\n",
       " 'avrete',\n",
       " 'avranno',\n",
       " 'avrei',\n",
       " 'avresti',\n",
       " 'avrebbe',\n",
       " 'avremmo',\n",
       " 'avreste',\n",
       " 'avrebbero',\n",
       " 'avevo',\n",
       " 'avevi',\n",
       " 'aveva',\n",
       " 'avevamo',\n",
       " 'avevate',\n",
       " 'avevano',\n",
       " 'ebbi',\n",
       " 'avesti',\n",
       " 'ebbe',\n",
       " 'avemmo',\n",
       " 'aveste',\n",
       " 'ebbero',\n",
       " 'avessi',\n",
       " 'avesse',\n",
       " 'avessimo',\n",
       " 'avessero',\n",
       " 'avendo',\n",
       " 'avuto',\n",
       " 'avuta',\n",
       " 'avuti',\n",
       " 'avute',\n",
       " 'sono',\n",
       " 'sei',\n",
       " 'è',\n",
       " 'siamo',\n",
       " 'siete',\n",
       " 'sia',\n",
       " 'siate',\n",
       " 'siano',\n",
       " 'sarò',\n",
       " 'sarai',\n",
       " 'sarà',\n",
       " 'saremo',\n",
       " 'sarete',\n",
       " 'saranno',\n",
       " 'sarei',\n",
       " 'saresti',\n",
       " 'sarebbe',\n",
       " 'saremmo',\n",
       " 'sareste',\n",
       " 'sarebbero',\n",
       " 'ero',\n",
       " 'eri',\n",
       " 'era',\n",
       " 'eravamo',\n",
       " 'eravate',\n",
       " 'erano',\n",
       " 'fui',\n",
       " 'fosti',\n",
       " 'fu',\n",
       " 'fummo',\n",
       " 'foste',\n",
       " 'furono',\n",
       " 'fossi',\n",
       " 'fosse',\n",
       " 'fossimo',\n",
       " 'fossero',\n",
       " 'essendo',\n",
       " 'faccio',\n",
       " 'fai',\n",
       " 'facciamo',\n",
       " 'fanno',\n",
       " 'faccia',\n",
       " 'facciate',\n",
       " 'facciano',\n",
       " 'farò',\n",
       " 'farai',\n",
       " 'farà',\n",
       " 'faremo',\n",
       " 'farete',\n",
       " 'faranno',\n",
       " 'farei',\n",
       " 'faresti',\n",
       " 'farebbe',\n",
       " 'faremmo',\n",
       " 'fareste',\n",
       " 'farebbero',\n",
       " 'facevo',\n",
       " 'facevi',\n",
       " 'faceva',\n",
       " 'facevamo',\n",
       " 'facevate',\n",
       " 'facevano',\n",
       " 'feci',\n",
       " 'facesti',\n",
       " 'fece',\n",
       " 'facemmo',\n",
       " 'faceste',\n",
       " 'fecero',\n",
       " 'facessi',\n",
       " 'facesse',\n",
       " 'facessimo',\n",
       " 'facessero',\n",
       " 'facendo',\n",
       " 'sto',\n",
       " 'stai',\n",
       " 'sta',\n",
       " 'stiamo',\n",
       " 'stanno',\n",
       " 'stia',\n",
       " 'stiate',\n",
       " 'stiano',\n",
       " 'starò',\n",
       " 'starai',\n",
       " 'starà',\n",
       " 'staremo',\n",
       " 'starete',\n",
       " 'staranno',\n",
       " 'starei',\n",
       " 'staresti',\n",
       " 'starebbe',\n",
       " 'staremmo',\n",
       " 'stareste',\n",
       " 'starebbero',\n",
       " 'stavo',\n",
       " 'stavi',\n",
       " 'stava',\n",
       " 'stavamo',\n",
       " 'stavate',\n",
       " 'stavano',\n",
       " 'stetti',\n",
       " 'stesti',\n",
       " 'stette',\n",
       " 'stemmo',\n",
       " 'steste',\n",
       " 'stettero',\n",
       " 'stessi',\n",
       " 'stesse',\n",
       " 'stessimo',\n",
       " 'stessero',\n",
       " 'stando']"
      ]
     },
     "execution_count": 28,
     "metadata": {},
     "output_type": "execute_result"
    }
   ],
   "source": [
    "list_sw"
   ]
  },
  {
   "cell_type": "code",
   "execution_count": 29,
   "metadata": {},
   "outputs": [],
   "source": [
    "x_tr_clean = x_tr_clean.apply(lambda x: ' '.join([w for w in x.split() if w not in (list_sw)]))\n",
    "x_ts_clean = x_ts_clean.apply(lambda x: ' '.join([w for w in x.split() if w not in (list_sw)]))"
   ]
  },
  {
   "cell_type": "code",
   "execution_count": 30,
   "metadata": {},
   "outputs": [
    {
     "data": {
      "text/plain": [
       "0    intanto partita via nazionale complica. #sacco...\n",
       "1    false illusioni, sgradevoli realtà mario monti...\n",
       "2    false illusioni, sgradevoli realtà #editoriale...\n",
       "3    mario monti: berlusconi risparmi all'italia bi...\n",
       "4    mario monti: berlusconi risparmi all'italia bi...\n",
       "Name: text, dtype: object"
      ]
     },
     "execution_count": 30,
     "metadata": {},
     "output_type": "execute_result"
    }
   ],
   "source": [
    "x_tr_clean[:5]"
   ]
  },
  {
   "cell_type": "code",
   "execution_count": 31,
   "metadata": {},
   "outputs": [],
   "source": [
    "# reduce repeat character sequences of length 3 or greater\n",
    "\n",
    "x_tr_clean = x_tr_clean.apply(lambda x: reduce_lengthening(x))\n",
    "x_ts_clean = x_ts_clean.apply(lambda x: reduce_lengthening(x))"
   ]
  },
  {
   "cell_type": "code",
   "execution_count": 32,
   "metadata": {},
   "outputs": [],
   "source": [
    "# removing digits and punctuation\n",
    "x_tr_clean = x_tr_clean.str.translate(str.maketrans(' ', ' ', punctuation))\n",
    "x_ts_clean = x_ts_clean.str.translate(str.maketrans(' ', ' ', punctuation))\n",
    "x_tr_clean = x_tr_clean.str.translate(str.maketrans(' ', ' ', digits))\n",
    "x_ts_clean = x_ts_clean.str.translate(str.maketrans(' ', ' ', digits))"
   ]
  },
  {
   "cell_type": "code",
   "execution_count": 33,
   "metadata": {},
   "outputs": [
    {
     "data": {
      "text/plain": [
       "0    intanto partita via nazionale complica saccoma...\n",
       "1    false illusioni sgradevoli realtà mario monti ...\n",
       "2    false illusioni sgradevoli realtà editoriale m...\n",
       "3    mario monti berlusconi risparmi allitalia bias...\n",
       "4    mario monti berlusconi risparmi allitalia bias...\n",
       "Name: text, dtype: object"
      ]
     },
     "execution_count": 33,
     "metadata": {},
     "output_type": "execute_result"
    }
   ],
   "source": [
    "x_tr_clean[:5]"
   ]
  },
  {
   "cell_type": "code",
   "execution_count": 34,
   "metadata": {},
   "outputs": [],
   "source": [
    "x_tr_tokenized = tokenizer.texts_to_sequences(x_tr_clean)\n",
    "x_ts_tokenized = tokenizer.texts_to_sequences(x_ts_clean)"
   ]
  },
  {
   "cell_type": "code",
   "execution_count": 35,
   "metadata": {},
   "outputs": [],
   "source": [
    "# pad sequences: every sample with the same length\n",
    "\n",
    "X_tr_2 = pad_sequences(x_tr_tokenized, maxlen=max_len)\n",
    "X_ts_2 = pad_sequences(x_ts_tokenized, maxlen=max_len)"
   ]
  },
  {
   "cell_type": "code",
   "execution_count": 36,
   "metadata": {},
   "outputs": [
    {
     "data": {
      "text/plain": [
       "array([[   0,    0,    0,    0,    0,    0,    0,    0,    0,    0,    0,\n",
       "           0,    0,    0,    0,    0,    0,    0,    0,    0,    0,    0,\n",
       "           0,    0,    0,    0,    0,    0,    0,    0,    0,    0,    0,\n",
       "           0,    0,    0,    0,    0,    0,    0,    0,    0,    0,    0,\n",
       "           0,    0,    0,    0,    0,    0,    0,    0,    0,    0,    0,\n",
       "           0,    0,    0,    0,    0,    0,    0,    0,    0,    0,    0,\n",
       "           0,    0,    0,    0,    0,    0,    0,    0,    0,    0,    0,\n",
       "           0,    0,    0,    0,    0,    0,    0,    0,    0,    0,    0,\n",
       "           0,    0,    0,    0,    0,    0,    0,    0,    0,    0,    0,\n",
       "           0,    0,    0,    0,    0,    0,    0,    0,    0,    0,    0,\n",
       "           0,    0,    0,    0,    0,    0,    0,    0,    0,    0,    0,\n",
       "           0,    0,    0,    0,    0,    0,    0,    0,    0,    0,    0,\n",
       "           0,    0,    0,    0,    0,    0,    0,    0,    0,    0,    0,\n",
       "           0,    0,    0,    0,    0,    0,    0,    0,    0,    0,    0,\n",
       "           0,    0,    0,    0,    0,    0,    0,    0,    0,    0,    0,\n",
       "           0,    0,    0,    0,    0,    0,    0,    0,    0,    0,    0,\n",
       "           0,    0,    0,    0,    0,    0,    0,    0,    0,    0,    0,\n",
       "           0,  573, 1109,   43,  602, 6175, 3878,  105,  838,   11,    1,\n",
       "          43,  915],\n",
       "       [   0,    0,    0,    0,    0,    0,    0,    0,    0,    0,    0,\n",
       "           0,    0,    0,    0,    0,    0,    0,    0,    0,    0,    0,\n",
       "           0,    0,    0,    0,    0,    0,    0,    0,    0,    0,    0,\n",
       "           0,    0,    0,    0,    0,    0,    0,    0,    0,    0,    0,\n",
       "           0,    0,    0,    0,    0,    0,    0,    0,    0,    0,    0,\n",
       "           0,    0,    0,    0,    0,    0,    0,    0,    0,    0,    0,\n",
       "           0,    0,    0,    0,    0,    0,    0,    0,    0,    0,    0,\n",
       "           0,    0,    0,    0,    0,    0,    0,    0,    0,    0,    0,\n",
       "           0,    0,    0,    0,    0,    0,    0,    0,    0,    0,    0,\n",
       "           0,    0,    0,    0,    0,    0,    0,    0,    0,    0,    0,\n",
       "           0,    0,    0,    0,    0,    0,    0,    0,    0,    0,    0,\n",
       "           0,    0,    0,    0,    0,    0,    0,    0,    0,    0,    0,\n",
       "           0,    0,    0,    0,    0,    0,    0,    0,    0,    0,    0,\n",
       "           0,    0,    0,    0,    0,    0,    0,    0,    0,    0,    0,\n",
       "           0,    0,    0,    0,    0,    0,    0,    0,    0,    0,    0,\n",
       "           0,    0,    0,    0,    0,    0,    0,    0,    0,    0,    0,\n",
       "           0,    0,    0,    0,    0,    0,    0,    0,    0,    0,    0,\n",
       "           0,    0,    0,    0,    0, 1110, 1419, 1420,  494,   11,    1,\n",
       "          43, 3879],\n",
       "       [   0,    0,    0,    0,    0,    0,    0,    0,    0,    0,    0,\n",
       "           0,    0,    0,    0,    0,    0,    0,    0,    0,    0,    0,\n",
       "           0,    0,    0,    0,    0,    0,    0,    0,    0,    0,    0,\n",
       "           0,    0,    0,    0,    0,    0,    0,    0,    0,    0,    0,\n",
       "           0,    0,    0,    0,    0,    0,    0,    0,    0,    0,    0,\n",
       "           0,    0,    0,    0,    0,    0,    0,    0,    0,    0,    0,\n",
       "           0,    0,    0,    0,    0,    0,    0,    0,    0,    0,    0,\n",
       "           0,    0,    0,    0,    0,    0,    0,    0,    0,    0,    0,\n",
       "           0,    0,    0,    0,    0,    0,    0,    0,    0,    0,    0,\n",
       "           0,    0,    0,    0,    0,    0,    0,    0,    0,    0,    0,\n",
       "           0,    0,    0,    0,    0,    0,    0,    0,    0,    0,    0,\n",
       "           0,    0,    0,    0,    0,    0,    0,    0,    0,    0,    0,\n",
       "           0,    0,    0,    0,    0,    0,    0,    0,    0,    0,    0,\n",
       "           0,    0,    0,    0,    0,    0,    0,    0,    0,    0,    0,\n",
       "           0,    0,    0,    0,    0,    0,    0,    0,    0,    0,    0,\n",
       "           0,    0,    0,    0,    0,    0,    0,    0,    0,    0,    0,\n",
       "           0,    0,    0,    0,    0,    0,    0,    0,    0,    0,    0,\n",
       "           0,    0, 1110, 1419, 1420,  494, 3880,   11,    1,  372,  196,\n",
       "        3881,  312],\n",
       "       [   0,    0,    0,    0,    0,    0,    0,    0,    0,    0,    0,\n",
       "           0,    0,    0,    0,    0,    0,    0,    0,    0,    0,    0,\n",
       "           0,    0,    0,    0,    0,    0,    0,    0,    0,    0,    0,\n",
       "           0,    0,    0,    0,    0,    0,    0,    0,    0,    0,    0,\n",
       "           0,    0,    0,    0,    0,    0,    0,    0,    0,    0,    0,\n",
       "           0,    0,    0,    0,    0,    0,    0,    0,    0,    0,    0,\n",
       "           0,    0,    0,    0,    0,    0,    0,    0,    0,    0,    0,\n",
       "           0,    0,    0,    0,    0,    0,    0,    0,    0,    0,    0,\n",
       "           0,    0,    0,    0,    0,    0,    0,    0,    0,    0,    0,\n",
       "           0,    0,    0,    0,    0,    0,    0,    0,    0,    0,    0,\n",
       "           0,    0,    0,    0,    0,    0,    0,    0,    0,    0,    0,\n",
       "           0,    0,    0,    0,    0,    0,    0,    0,    0,    0,    0,\n",
       "           0,    0,    0,    0,    0,    0,    0,    0,    0,    0,    0,\n",
       "           0,    0,    0,    0,    0,    0,    0,    0,    0,    0,    0,\n",
       "           0,    0,    0,    0,    0,    0,    0,    0,    0,    0,    0,\n",
       "           0,    0,    0,    0,    0,    0,    0,    0,    0,    0,    0,\n",
       "           0,    0,    0,    0,    0,    0,    0,    0,    0,    0,    0,\n",
       "           0,    0,    0,   11,    1,   64, 2843,  719, 3882,  255, 3883,\n",
       "        1004, 6179],\n",
       "       [   0,    0,    0,    0,    0,    0,    0,    0,    0,    0,    0,\n",
       "           0,    0,    0,    0,    0,    0,    0,    0,    0,    0,    0,\n",
       "           0,    0,    0,    0,    0,    0,    0,    0,    0,    0,    0,\n",
       "           0,    0,    0,    0,    0,    0,    0,    0,    0,    0,    0,\n",
       "           0,    0,    0,    0,    0,    0,    0,    0,    0,    0,    0,\n",
       "           0,    0,    0,    0,    0,    0,    0,    0,    0,    0,    0,\n",
       "           0,    0,    0,    0,    0,    0,    0,    0,    0,    0,    0,\n",
       "           0,    0,    0,    0,    0,    0,    0,    0,    0,    0,    0,\n",
       "           0,    0,    0,    0,    0,    0,    0,    0,    0,    0,    0,\n",
       "           0,    0,    0,    0,    0,    0,    0,    0,    0,    0,    0,\n",
       "           0,    0,    0,    0,    0,    0,    0,    0,    0,    0,    0,\n",
       "           0,    0,    0,    0,    0,    0,    0,    0,    0,    0,    0,\n",
       "           0,    0,    0,    0,    0,    0,    0,    0,    0,    0,    0,\n",
       "           0,    0,    0,    0,    0,    0,    0,    0,    0,    0,    0,\n",
       "           0,    0,    0,    0,    0,    0,    0,    0,    0,    0,    0,\n",
       "           0,    0,    0,    0,    0,    0,    0,    0,    0,    0,    0,\n",
       "           0,    0,    0,    0,    0,    0,    0,    0,    0,    0,    0,\n",
       "           0,   11,    1,   64, 2843,  719, 3882,  255, 3883, 1004, 2269,\n",
       "        1243,  603]], dtype=int32)"
      ]
     },
     "execution_count": 36,
     "metadata": {},
     "output_type": "execute_result"
    }
   ],
   "source": [
    "X_tr_2[:5]"
   ]
  },
  {
   "cell_type": "markdown",
   "metadata": {},
   "source": [
    "# Lemmatization "
   ]
  },
  {
   "cell_type": "code",
   "execution_count": 37,
   "metadata": {},
   "outputs": [],
   "source": [
    "import spacy\n",
    "from spacy.lemmatizer import Lemmatizer, ADJ, NOUN, VERB, PROPN"
   ]
  },
  {
   "cell_type": "code",
   "execution_count": 38,
   "metadata": {},
   "outputs": [],
   "source": [
    "nlp = spacy.load(\"it_core_news_sm\")"
   ]
  },
  {
   "cell_type": "code",
   "execution_count": 39,
   "metadata": {},
   "outputs": [],
   "source": [
    "lemmatizer = nlp.vocab.morphology.lemmatizer"
   ]
  },
  {
   "cell_type": "code",
   "execution_count": 40,
   "metadata": {},
   "outputs": [],
   "source": [
    "x_tr_tok = x_tr_abbr.apply(lambda x: word_tokenize(x, language='italian'))"
   ]
  },
  {
   "cell_type": "code",
   "execution_count": 41,
   "metadata": {},
   "outputs": [],
   "source": [
    "x_ts_tok = x_ts_abbr.apply(lambda x: word_tokenize(x, language='italian'))"
   ]
  },
  {
   "cell_type": "code",
   "execution_count": 42,
   "metadata": {},
   "outputs": [
    {
     "data": {
      "text/plain": [
       "0    [Intanto, la, partita, per, Via, Nazionale, si...\n",
       "1    [False, illusioni, ,, sgradevoli, realtà, Mari...\n",
       "2    [False, illusioni, ,, sgradevoli, realtà, #, e...\n",
       "3    [Mario, Monti, :, Berlusconi, risparmi, all'It...\n",
       "4    [Mario, Monti, :, Berlusconi, risparmi, all'It...\n",
       "Name: text, dtype: object"
      ]
     },
     "execution_count": 42,
     "metadata": {},
     "output_type": "execute_result"
    }
   ],
   "source": [
    "x_tr_tok[:5]"
   ]
  },
  {
   "cell_type": "code",
   "execution_count": 43,
   "metadata": {},
   "outputs": [],
   "source": [
    "# everything in lowercase and removing stop words\n",
    "\n",
    "x_tr_clean_lem = x_tr_tok.apply(lambda x: [w.lower() for w in x])\n",
    "x_ts_clean_lem = x_ts_tok.apply(lambda x: [w.lower() for w in x])\n",
    "x_tr_clean_lem = x_tr_clean_lem.apply(lambda x: ([w for w in x if w not in (list_sw)]))\n",
    "x_ts_clean_lem = x_ts_clean_lem.apply(lambda x: ([w for w in x if w not in (list_sw)]))"
   ]
  },
  {
   "cell_type": "code",
   "execution_count": 44,
   "metadata": {},
   "outputs": [
    {
     "data": {
      "text/plain": [
       "0    [intanto, partita, via, nazionale, complica, ....\n",
       "1    [false, illusioni, ,, sgradevoli, realtà, mari...\n",
       "2    [false, illusioni, ,, sgradevoli, realtà, #, e...\n",
       "3    [mario, monti, :, berlusconi, risparmi, all'it...\n",
       "4    [mario, monti, :, berlusconi, risparmi, all'it...\n",
       "Name: text, dtype: object"
      ]
     },
     "execution_count": 44,
     "metadata": {},
     "output_type": "execute_result"
    }
   ],
   "source": [
    "x_tr_clean_lem[:5]"
   ]
  },
  {
   "cell_type": "code",
   "execution_count": 45,
   "metadata": {},
   "outputs": [],
   "source": [
    "# removing digits and punctuation\n",
    "\n",
    "x_tr_clean_lem = x_tr_clean_lem.apply(lambda x: ([w for w in x if w not in (punctuation)]))\n",
    "x_ts_clean_lem = x_ts_clean_lem.apply(lambda x: ([w for w in x if w not in (punctuation)]))\n",
    "x_tr_clean_lem = x_tr_clean_lem.apply(lambda x: ([w for w in x if w not in (digits)]))\n",
    "x_ts_clean_lem = x_ts_clean_lem.apply(lambda x: ([w for w in x if w not in (digits)]))"
   ]
  },
  {
   "cell_type": "code",
   "execution_count": 46,
   "metadata": {},
   "outputs": [
    {
     "data": {
      "text/plain": [
       "0    [intanto, partita, via, nazionale, complica, s...\n",
       "1    [false, illusioni, sgradevoli, realtà, mario, ...\n",
       "2    [false, illusioni, sgradevoli, realtà, editori...\n",
       "3    [mario, monti, berlusconi, risparmi, all'itali...\n",
       "4    [mario, monti, berlusconi, risparmi, all'itali...\n",
       "Name: text, dtype: object"
      ]
     },
     "execution_count": 46,
     "metadata": {},
     "output_type": "execute_result"
    }
   ],
   "source": [
    "x_tr_clean_lem[:5]"
   ]
  },
  {
   "cell_type": "code",
   "execution_count": 47,
   "metadata": {},
   "outputs": [],
   "source": [
    "x_tr_pos = x_tr_clean_lem.apply(lambda x: nltk.pos_tag(x, tagset='universal'))"
   ]
  },
  {
   "cell_type": "code",
   "execution_count": 48,
   "metadata": {},
   "outputs": [],
   "source": [
    "x_ts_pos = x_ts_clean_lem.apply(lambda x: nltk.pos_tag(x, tagset='universal'))"
   ]
  },
  {
   "cell_type": "code",
   "execution_count": 49,
   "metadata": {},
   "outputs": [
    {
     "data": {
      "text/plain": [
       "0    [(intanto, NOUN), (partita, NOUN), (via, ADP),...\n",
       "1    [(false, ADJ), (illusioni, NOUN), (sgradevoli,...\n",
       "2    [(false, ADJ), (illusioni, NOUN), (sgradevoli,...\n",
       "3    [(mario, NOUN), (monti, NOUN), (berlusconi, VE...\n",
       "4    [(mario, NOUN), (monti, NOUN), (berlusconi, VE...\n",
       "Name: text, dtype: object"
      ]
     },
     "execution_count": 49,
     "metadata": {},
     "output_type": "execute_result"
    }
   ],
   "source": [
    "x_tr_pos[:5]"
   ]
  },
  {
   "cell_type": "code",
   "execution_count": 50,
   "metadata": {},
   "outputs": [],
   "source": [
    "x_tr_lem = x_tr_pos.apply(lambda x: [' '.join(lemmatizer(t[0], t[1])) for t in x])"
   ]
  },
  {
   "cell_type": "code",
   "execution_count": 51,
   "metadata": {},
   "outputs": [],
   "source": [
    "x_ts_lem = x_ts_pos.apply(lambda x: [' '.join(lemmatizer(t[0], t[1])) for t in x])"
   ]
  },
  {
   "cell_type": "code",
   "execution_count": 52,
   "metadata": {},
   "outputs": [
    {
     "data": {
      "text/plain": [
       "0    [intanto, partito, via, nazionale, complicare,...\n",
       "1    [falso, illusione, sgradevole, realtà, mario, ...\n",
       "2    [falso, illusione, sgradevole, realtà, editori...\n",
       "3    [mario, monte, berlusconi, risparmio, all'ital...\n",
       "4    [mario, monte, berlusconi, risparmio, all'ital...\n",
       "Name: text, dtype: object"
      ]
     },
     "execution_count": 52,
     "metadata": {},
     "output_type": "execute_result"
    }
   ],
   "source": [
    "x_tr_lem[:5]"
   ]
  },
  {
   "cell_type": "code",
   "execution_count": 53,
   "metadata": {},
   "outputs": [],
   "source": [
    "x_tr_tokenized = tokenizer.texts_to_sequences(x_tr_lem)\n",
    "x_ts_tokenized = tokenizer.texts_to_sequences(x_ts_lem)"
   ]
  },
  {
   "cell_type": "code",
   "execution_count": 54,
   "metadata": {},
   "outputs": [],
   "source": [
    "# pad sequences: every sample with the same length\n",
    "\n",
    "X_tr_3 = pad_sequences(x_tr_tokenized, maxlen=max_len)\n",
    "X_ts_3 = pad_sequences(x_ts_tokenized, maxlen=max_len)"
   ]
  },
  {
   "cell_type": "code",
   "execution_count": 55,
   "metadata": {},
   "outputs": [
    {
     "data": {
      "text/plain": [
       "array([[   0,    0,    0,    0,    0,    0,    0,    0,    0,    0,    0,\n",
       "           0,    0,    0,    0,    0,    0,    0,    0,    0,    0,    0,\n",
       "           0,    0,    0,    0,    0,    0,    0,    0,    0,    0,    0,\n",
       "           0,    0,    0,    0,    0,    0,    0,    0,    0,    0,    0,\n",
       "           0,    0,    0,    0,    0,    0,    0,    0,    0,    0,    0,\n",
       "           0,    0,    0,    0,    0,    0,    0,    0,    0,    0,    0,\n",
       "           0,    0,    0,    0,    0,    0,    0,    0,    0,    0,    0,\n",
       "           0,    0,    0,    0,    0,    0,    0,    0,    0,    0,    0,\n",
       "           0,    0,    0,    0,    0,    0,    0,    0,    0,    0,    0,\n",
       "           0,    0,    0,    0,    0,    0,    0,    0,    0,    0,    0,\n",
       "           0,    0,    0,    0,    0,    0,    0,    0,    0,    0,    0,\n",
       "           0,    0,    0,    0,    0,    0,    0,    0,    0,    0,    0,\n",
       "           0,    0,    0,    0,    0,    0,    0,    0,    0,    0,    0,\n",
       "           0,    0,    0,    0,    0,    0,    0,    0,    0,    0,    0,\n",
       "           0,    0,    0,    0,    0,    0,    0,    0,    0,    0,    0,\n",
       "           0,    0,    0,    0,    0,    0,    0,    0,    0,    0,    0,\n",
       "           0,    0,    0,    0,    0,    0,    0,    0,    0,    0,    0,\n",
       "           0,    0,  573,  308,   43,  602, 3878,  131,  838,   11, 1578,\n",
       "          43,  915],\n",
       "       [   0,    0,    0,    0,    0,    0,    0,    0,    0,    0,    0,\n",
       "           0,    0,    0,    0,    0,    0,    0,    0,    0,    0,    0,\n",
       "           0,    0,    0,    0,    0,    0,    0,    0,    0,    0,    0,\n",
       "           0,    0,    0,    0,    0,    0,    0,    0,    0,    0,    0,\n",
       "           0,    0,    0,    0,    0,    0,    0,    0,    0,    0,    0,\n",
       "           0,    0,    0,    0,    0,    0,    0,    0,    0,    0,    0,\n",
       "           0,    0,    0,    0,    0,    0,    0,    0,    0,    0,    0,\n",
       "           0,    0,    0,    0,    0,    0,    0,    0,    0,    0,    0,\n",
       "           0,    0,    0,    0,    0,    0,    0,    0,    0,    0,    0,\n",
       "           0,    0,    0,    0,    0,    0,    0,    0,    0,    0,    0,\n",
       "           0,    0,    0,    0,    0,    0,    0,    0,    0,    0,    0,\n",
       "           0,    0,    0,    0,    0,    0,    0,    0,    0,    0,    0,\n",
       "           0,    0,    0,    0,    0,    0,    0,    0,    0,    0,    0,\n",
       "           0,    0,    0,    0,    0,    0,    0,    0,    0,    0,    0,\n",
       "           0,    0,    0,    0,    0,    0,    0,    0,    0,    0,    0,\n",
       "           0,    0,    0,    0,    0,    0,    0,    0,    0,    0,    0,\n",
       "           0,    0,    0,    0,    0,    0,    0,    0,    0,    0,    0,\n",
       "           0,    0,    0,    0,    0,    0, 1991, 4479,  494,   11, 1578,\n",
       "          43, 3879],\n",
       "       [   0,    0,    0,    0,    0,    0,    0,    0,    0,    0,    0,\n",
       "           0,    0,    0,    0,    0,    0,    0,    0,    0,    0,    0,\n",
       "           0,    0,    0,    0,    0,    0,    0,    0,    0,    0,    0,\n",
       "           0,    0,    0,    0,    0,    0,    0,    0,    0,    0,    0,\n",
       "           0,    0,    0,    0,    0,    0,    0,    0,    0,    0,    0,\n",
       "           0,    0,    0,    0,    0,    0,    0,    0,    0,    0,    0,\n",
       "           0,    0,    0,    0,    0,    0,    0,    0,    0,    0,    0,\n",
       "           0,    0,    0,    0,    0,    0,    0,    0,    0,    0,    0,\n",
       "           0,    0,    0,    0,    0,    0,    0,    0,    0,    0,    0,\n",
       "           0,    0,    0,    0,    0,    0,    0,    0,    0,    0,    0,\n",
       "           0,    0,    0,    0,    0,    0,    0,    0,    0,    0,    0,\n",
       "           0,    0,    0,    0,    0,    0,    0,    0,    0,    0,    0,\n",
       "           0,    0,    0,    0,    0,    0,    0,    0,    0,    0,    0,\n",
       "           0,    0,    0,    0,    0,    0,    0,    0,    0,    0,    0,\n",
       "           0,    0,    0,    0,    0,    0,    0,    0,    0,    0,    0,\n",
       "           0,    0,    0,    0,    0,    0,    0,    0,    0,    0,    0,\n",
       "           0,    0,    0,    0,    0,    0,    0,    0,    0,    0,    0,\n",
       "           0,    0,    0,    0,    0, 1991, 4479,  494, 3880,   11, 1578,\n",
       "         196, 4676],\n",
       "       [   0,    0,    0,    0,    0,    0,    0,    0,    0,    0,    0,\n",
       "           0,    0,    0,    0,    0,    0,    0,    0,    0,    0,    0,\n",
       "           0,    0,    0,    0,    0,    0,    0,    0,    0,    0,    0,\n",
       "           0,    0,    0,    0,    0,    0,    0,    0,    0,    0,    0,\n",
       "           0,    0,    0,    0,    0,    0,    0,    0,    0,    0,    0,\n",
       "           0,    0,    0,    0,    0,    0,    0,    0,    0,    0,    0,\n",
       "           0,    0,    0,    0,    0,    0,    0,    0,    0,    0,    0,\n",
       "           0,    0,    0,    0,    0,    0,    0,    0,    0,    0,    0,\n",
       "           0,    0,    0,    0,    0,    0,    0,    0,    0,    0,    0,\n",
       "           0,    0,    0,    0,    0,    0,    0,    0,    0,    0,    0,\n",
       "           0,    0,    0,    0,    0,    0,    0,    0,    0,    0,    0,\n",
       "           0,    0,    0,    0,    0,    0,    0,    0,    0,    0,    0,\n",
       "           0,    0,    0,    0,    0,    0,    0,    0,    0,    0,    0,\n",
       "           0,    0,    0,    0,    0,    0,    0,    0,    0,    0,    0,\n",
       "           0,    0,    0,    0,    0,    0,    0,    0,    0,    0,    0,\n",
       "           0,    0,    0,    0,    0,    0,    0,    0,    0,    0,    0,\n",
       "           0,    0,    0,    0,    0,    0,    0,    0,    0,    0,    0,\n",
       "           0,    0,    0,    0,    0,    0,    0,   11, 1578,   64, 2590,\n",
       "         282, 6179],\n",
       "       [   0,    0,    0,    0,    0,    0,    0,    0,    0,    0,    0,\n",
       "           0,    0,    0,    0,    0,    0,    0,    0,    0,    0,    0,\n",
       "           0,    0,    0,    0,    0,    0,    0,    0,    0,    0,    0,\n",
       "           0,    0,    0,    0,    0,    0,    0,    0,    0,    0,    0,\n",
       "           0,    0,    0,    0,    0,    0,    0,    0,    0,    0,    0,\n",
       "           0,    0,    0,    0,    0,    0,    0,    0,    0,    0,    0,\n",
       "           0,    0,    0,    0,    0,    0,    0,    0,    0,    0,    0,\n",
       "           0,    0,    0,    0,    0,    0,    0,    0,    0,    0,    0,\n",
       "           0,    0,    0,    0,    0,    0,    0,    0,    0,    0,    0,\n",
       "           0,    0,    0,    0,    0,    0,    0,    0,    0,    0,    0,\n",
       "           0,    0,    0,    0,    0,    0,    0,    0,    0,    0,    0,\n",
       "           0,    0,    0,    0,    0,    0,    0,    0,    0,    0,    0,\n",
       "           0,    0,    0,    0,    0,    0,    0,    0,    0,    0,    0,\n",
       "           0,    0,    0,    0,    0,    0,    0,    0,    0,    0,    0,\n",
       "           0,    0,    0,    0,    0,    0,    0,    0,    0,    0,    0,\n",
       "           0,    0,    0,    0,    0,    0,    0,    0,    0,    0,    0,\n",
       "           0,    0,    0,    0,    0,    0,    0,    0,    0,    0,    0,\n",
       "           0,    0,    0,    0,    0,   11, 1578,   64, 2590,  282,  888,\n",
       "        6101,  603]], dtype=int32)"
      ]
     },
     "execution_count": 55,
     "metadata": {},
     "output_type": "execute_result"
    }
   ],
   "source": [
    "X_tr_3[:5]"
   ]
  },
  {
   "cell_type": "markdown",
   "metadata": {},
   "source": [
    "# Stemming"
   ]
  },
  {
   "cell_type": "code",
   "execution_count": 56,
   "metadata": {},
   "outputs": [],
   "source": [
    "stemmer = nltk.stem.snowball.ItalianStemmer()"
   ]
  },
  {
   "cell_type": "code",
   "execution_count": 57,
   "metadata": {},
   "outputs": [],
   "source": [
    "x_tr_stem = x_tr_tok.apply(lambda x: [stemmer.stem(t) for t in x])"
   ]
  },
  {
   "cell_type": "code",
   "execution_count": 58,
   "metadata": {},
   "outputs": [],
   "source": [
    "x_ts_stem = x_ts_tok.apply(lambda x: [stemmer.stem(t) for t in x])"
   ]
  },
  {
   "cell_type": "code",
   "execution_count": 59,
   "metadata": {},
   "outputs": [
    {
     "data": {
      "text/plain": [
       "0    [intant, la, part, per, via, nazional, si, com...\n",
       "1    [fals, illusion, ,, sgradevol, realt, mar, mon...\n",
       "2    [fals, illusion, ,, sgradevol, realt, #, edito...\n",
       "3    [mar, mont, :, berluscon, risp, all'ital, il, ...\n",
       "4    [mar, mont, :, berluscon, risp, all'ital, il, ...\n",
       "Name: text, dtype: object"
      ]
     },
     "execution_count": 59,
     "metadata": {},
     "output_type": "execute_result"
    }
   ],
   "source": [
    "x_tr_stem[:5]"
   ]
  },
  {
   "cell_type": "code",
   "execution_count": 60,
   "metadata": {},
   "outputs": [],
   "source": [
    "# everything in lowercase and removing stop words\n",
    "\n",
    "x_tr_clean_stem = x_tr_stem.apply(lambda x: [w.lower() for w in x])\n",
    "x_ts_clean_stem = x_ts_stem.apply(lambda x: [w.lower() for w in x])\n",
    "x_tr_clean_stem = x_tr_clean_stem.apply(lambda x: ([w for w in x if w not in (list_sw)]))\n",
    "x_ts_clean_stem = x_ts_clean_stem.apply(lambda x: ([w for w in x if w not in (list_sw)]))"
   ]
  },
  {
   "cell_type": "code",
   "execution_count": 61,
   "metadata": {},
   "outputs": [
    {
     "data": {
      "text/plain": [
       "0    [intant, part, via, nazional, complic, ., #, s...\n",
       "1    [fals, illusion, ,, sgradevol, realt, mar, mon...\n",
       "2    [fals, illusion, ,, sgradevol, realt, #, edito...\n",
       "3    [mar, mont, :, berluscon, risp, all'ital, bias...\n",
       "4    [mar, mont, :, berluscon, risp, all'ital, bias...\n",
       "Name: text, dtype: object"
      ]
     },
     "execution_count": 61,
     "metadata": {},
     "output_type": "execute_result"
    }
   ],
   "source": [
    "x_tr_clean_stem[:5]"
   ]
  },
  {
   "cell_type": "code",
   "execution_count": 62,
   "metadata": {},
   "outputs": [],
   "source": [
    "# removing digits and punctuation\n",
    "\n",
    "x_tr_clean_stem = x_tr_clean_stem.apply(lambda x: ([w for w in x if w not in (punctuation)]))\n",
    "x_ts_clean_stem = x_ts_clean_stem.apply(lambda x: ([w for w in x if w not in (punctuation)]))\n",
    "x_tr_clean_stem = x_tr_clean_stem.apply(lambda x: ([w for w in x if w not in (digits)]))\n",
    "x_ts_clean_stem = x_ts_clean_stem.apply(lambda x: ([w for w in x if w not in (digits)]))"
   ]
  },
  {
   "cell_type": "code",
   "execution_count": 63,
   "metadata": {},
   "outputs": [
    {
     "data": {
      "text/plain": [
       "0    [intant, part, via, nazional, complic, saccoma...\n",
       "1    [fals, illusion, sgradevol, realt, mar, mont, ...\n",
       "2    [fals, illusion, sgradevol, realt, editorial, ...\n",
       "3    [mar, mont, berluscon, risp, all'ital, biasim,...\n",
       "4    [mar, mont, berluscon, risp, all'ital, biasim,...\n",
       "Name: text, dtype: object"
      ]
     },
     "execution_count": 63,
     "metadata": {},
     "output_type": "execute_result"
    }
   ],
   "source": [
    "x_tr_clean_stem[:5]"
   ]
  },
  {
   "cell_type": "code",
   "execution_count": 64,
   "metadata": {},
   "outputs": [],
   "source": [
    "x_tr_toks = tokenizer.texts_to_sequences(x_tr_clean_stem)\n",
    "x_ts_toks = tokenizer.texts_to_sequences(x_ts_clean_stem)"
   ]
  },
  {
   "cell_type": "code",
   "execution_count": 65,
   "metadata": {},
   "outputs": [],
   "source": [
    "X_tr_4 = pad_sequences(x_tr_toks, maxlen=max_len)\n",
    "X_ts_4 = pad_sequences(x_ts_toks, maxlen=max_len)"
   ]
  },
  {
   "cell_type": "markdown",
   "metadata": {},
   "source": [
    "# FastText"
   ]
  },
  {
   "cell_type": "code",
   "execution_count": 66,
   "metadata": {},
   "outputs": [],
   "source": [
    "emb_index_ft = {}\n",
    "\n",
    "file_ft = open('data_it/cc.it.300.vec')\n",
    "\n",
    "for line in file_ft:\n",
    "\n",
    "    l = line.split()\n",
    "    word = l[0]\n",
    "    coefs = np.asarray(l[1:max_len+1], dtype='float32')\n",
    "    emb_index_ft[word] = coefs\n"
   ]
  },
  {
   "cell_type": "code",
   "execution_count": 67,
   "metadata": {},
   "outputs": [],
   "source": [
    "file_ft.close()"
   ]
  },
  {
   "cell_type": "code",
   "execution_count": 68,
   "metadata": {},
   "outputs": [
    {
     "data": {
      "text/plain": [
       "2000000"
      ]
     },
     "execution_count": 68,
     "metadata": {},
     "output_type": "execute_result"
    }
   ],
   "source": [
    "len(emb_index_ft)"
   ]
  },
  {
   "cell_type": "code",
   "execution_count": 69,
   "metadata": {},
   "outputs": [
    {
     "name": "stderr",
     "output_type": "stream",
     "text": [
      "/home/chiarapower/anaconda3/envs/tensorflow_gpuenv/lib/python3.7/site-packages/IPython/core/interactiveshell.py:3254: FutureWarning: arrays to stack must be passed as a \"sequence\" type such as list or tuple. Support for non-sequence iterables such as generators is deprecated as of NumPy 1.16 and will raise an error in the future.\n",
      "  if (await self.run_code(code, result,  async_=asy)):\n"
     ]
    }
   ],
   "source": [
    "# for random initialization\n",
    "\n",
    "all_embs_ft = np.stack(emb_index_ft.values())\n",
    "emb_ft_mean, emb_ft_std = all_embs_ft.mean(), all_embs_ft.std()\n",
    "emb_matrix_ft = np.random.normal(emb_ft_mean, emb_ft_std, (max_features,max_len))"
   ]
  },
  {
   "cell_type": "code",
   "execution_count": 70,
   "metadata": {},
   "outputs": [],
   "source": [
    "for word, i in tokenizer.word_index.items():\n",
    "    \n",
    "    if i >= max_features: continue\n",
    "    \n",
    "    emb_vector = emb_index_ft.get(word)\n",
    "    \n",
    "    if emb_vector is not None:\n",
    "        \n",
    "        emb_matrix_ft[i] = emb_vector"
   ]
  },
  {
   "cell_type": "code",
   "execution_count": 71,
   "metadata": {},
   "outputs": [
    {
     "data": {
      "text/plain": [
       "(30000, 200)"
      ]
     },
     "execution_count": 71,
     "metadata": {},
     "output_type": "execute_result"
    }
   ],
   "source": [
    "emb_matrix_ft.shape"
   ]
  },
  {
   "cell_type": "markdown",
   "metadata": {},
   "source": [
    "# Save in files"
   ]
  },
  {
   "cell_type": "code",
   "execution_count": 87,
   "metadata": {},
   "outputs": [
    {
     "data": {
      "text/plain": [
       "7410"
      ]
     },
     "execution_count": 87,
     "metadata": {},
     "output_type": "execute_result"
    }
   ],
   "source": [
    "len(X_tr_1)"
   ]
  },
  {
   "cell_type": "code",
   "execution_count": 88,
   "metadata": {},
   "outputs": [
    {
     "data": {
      "text/plain": [
       "7410"
      ]
     },
     "execution_count": 88,
     "metadata": {},
     "output_type": "execute_result"
    }
   ],
   "source": [
    "len(X_tr_2)"
   ]
  },
  {
   "cell_type": "code",
   "execution_count": 89,
   "metadata": {},
   "outputs": [
    {
     "data": {
      "text/plain": [
       "7410"
      ]
     },
     "execution_count": 89,
     "metadata": {},
     "output_type": "execute_result"
    }
   ],
   "source": [
    "len(X_tr_3)"
   ]
  },
  {
   "cell_type": "code",
   "execution_count": 90,
   "metadata": {},
   "outputs": [
    {
     "data": {
      "text/plain": [
       "7410"
      ]
     },
     "execution_count": 90,
     "metadata": {},
     "output_type": "execute_result"
    }
   ],
   "source": [
    "len(X_tr_4)"
   ]
  },
  {
   "cell_type": "code",
   "execution_count": 91,
   "metadata": {},
   "outputs": [
    {
     "data": {
      "text/plain": [
       "1998"
      ]
     },
     "execution_count": 91,
     "metadata": {},
     "output_type": "execute_result"
    }
   ],
   "source": [
    "len(X_ts_1)"
   ]
  },
  {
   "cell_type": "code",
   "execution_count": 92,
   "metadata": {},
   "outputs": [
    {
     "data": {
      "text/plain": [
       "1998"
      ]
     },
     "execution_count": 92,
     "metadata": {},
     "output_type": "execute_result"
    }
   ],
   "source": [
    "len(X_ts_2)"
   ]
  },
  {
   "cell_type": "code",
   "execution_count": 93,
   "metadata": {},
   "outputs": [
    {
     "data": {
      "text/plain": [
       "1998"
      ]
     },
     "execution_count": 93,
     "metadata": {},
     "output_type": "execute_result"
    }
   ],
   "source": [
    "len(X_ts_3)"
   ]
  },
  {
   "cell_type": "code",
   "execution_count": 94,
   "metadata": {},
   "outputs": [
    {
     "data": {
      "text/plain": [
       "1998"
      ]
     },
     "execution_count": 94,
     "metadata": {},
     "output_type": "execute_result"
    }
   ],
   "source": [
    "len(X_ts_4)"
   ]
  },
  {
   "cell_type": "code",
   "execution_count": 95,
   "metadata": {},
   "outputs": [],
   "source": [
    "np.savetxt(\"data_preproc/x_tr_1_it.csv\", X_tr_1)"
   ]
  },
  {
   "cell_type": "code",
   "execution_count": 96,
   "metadata": {},
   "outputs": [],
   "source": [
    "np.savetxt(\"data_preproc/x_ts_1_it.csv\", X_ts_1)"
   ]
  },
  {
   "cell_type": "code",
   "execution_count": 97,
   "metadata": {},
   "outputs": [],
   "source": [
    "np.savetxt(\"data_preproc/x_tr_2_it.csv\", X_tr_2)"
   ]
  },
  {
   "cell_type": "code",
   "execution_count": 98,
   "metadata": {},
   "outputs": [],
   "source": [
    "np.savetxt(\"data_preproc/x_ts_2_it.csv\", X_ts_2)"
   ]
  },
  {
   "cell_type": "code",
   "execution_count": 99,
   "metadata": {},
   "outputs": [],
   "source": [
    "np.savetxt(\"data_preproc/x_tr_3_it.csv\", X_tr_3)"
   ]
  },
  {
   "cell_type": "code",
   "execution_count": 100,
   "metadata": {},
   "outputs": [],
   "source": [
    "np.savetxt(\"data_preproc/x_ts_3_it.csv\", X_ts_3)"
   ]
  },
  {
   "cell_type": "code",
   "execution_count": 101,
   "metadata": {},
   "outputs": [],
   "source": [
    "np.savetxt(\"data_preproc/x_tr_4_it.csv\", X_tr_4)"
   ]
  },
  {
   "cell_type": "code",
   "execution_count": 102,
   "metadata": {},
   "outputs": [],
   "source": [
    "np.savetxt(\"data_preproc/x_ts_4_it.csv\", X_ts_4)"
   ]
  },
  {
   "cell_type": "code",
   "execution_count": 103,
   "metadata": {},
   "outputs": [],
   "source": [
    "np.savetxt(\"data_preproc/emb_matr_ft_it.csv\", emb_matrix_ft)"
   ]
  },
  {
   "cell_type": "code",
   "execution_count": null,
   "metadata": {},
   "outputs": [],
   "source": []
  },
  {
   "cell_type": "code",
   "execution_count": null,
   "metadata": {},
   "outputs": [],
   "source": []
  }
 ],
 "metadata": {
  "kernelspec": {
   "display_name": "Python [conda env:tensorflow_gpuenv] *",
   "language": "python",
   "name": "conda-env-tensorflow_gpuenv-py"
  },
  "language_info": {
   "codemirror_mode": {
    "name": "ipython",
    "version": 3
   },
   "file_extension": ".py",
   "mimetype": "text/x-python",
   "name": "python",
   "nbconvert_exporter": "python",
   "pygments_lexer": "ipython3",
   "version": "3.7.7"
  }
 },
 "nbformat": 4,
 "nbformat_minor": 4
}
