{
 "cells": [
  {
   "cell_type": "code",
   "execution_count": 1,
   "metadata": {},
   "outputs": [
    {
     "name": "stderr",
     "output_type": "stream",
     "text": [
      "Using TensorFlow backend.\n"
     ]
    }
   ],
   "source": [
    "import os, re\n",
    "import pandas as pd\n",
    "import numpy as np\n",
    "import tensorflow as tf\n",
    "import matplotlib.pyplot as plt\n",
    "import nltk\n",
    "\n",
    "from string import digits, punctuation\n",
    "\n",
    "from keras.preprocessing.text import Tokenizer \n",
    "from nltk.tokenize.casual import reduce_lengthening\n",
    "from nltk.corpus import stopwords, wordnet\n",
    "from nltk.tokenize import WhitespaceTokenizer\n",
    "from nltk.tokenize import word_tokenize\n",
    "from nltk.stem import WordNetLemmatizer, PorterStemmer, LancasterStemmer\n",
    "from keras.preprocessing.sequence import pad_sequences"
   ]
  },
  {
   "cell_type": "code",
   "execution_count": 2,
   "metadata": {},
   "outputs": [
    {
     "data": {
      "text/html": [
       "<div>\n",
       "<style scoped>\n",
       "    .dataframe tbody tr th:only-of-type {\n",
       "        vertical-align: middle;\n",
       "    }\n",
       "\n",
       "    .dataframe tbody tr th {\n",
       "        vertical-align: top;\n",
       "    }\n",
       "\n",
       "    .dataframe thead th {\n",
       "        text-align: right;\n",
       "    }\n",
       "</style>\n",
       "<table border=\"1\" class=\"dataframe\">\n",
       "  <thead>\n",
       "    <tr style=\"text-align: right;\">\n",
       "      <th></th>\n",
       "      <th>id</th>\n",
       "      <th>comment_text</th>\n",
       "      <th>toxic</th>\n",
       "      <th>severe_toxic</th>\n",
       "      <th>obscene</th>\n",
       "      <th>threat</th>\n",
       "      <th>insult</th>\n",
       "      <th>identity_hate</th>\n",
       "    </tr>\n",
       "  </thead>\n",
       "  <tbody>\n",
       "    <tr>\n",
       "      <th>0</th>\n",
       "      <td>0000997932d777bf</td>\n",
       "      <td>Explanation\\nWhy the edits made under my usern...</td>\n",
       "      <td>0</td>\n",
       "      <td>0</td>\n",
       "      <td>0</td>\n",
       "      <td>0</td>\n",
       "      <td>0</td>\n",
       "      <td>0</td>\n",
       "    </tr>\n",
       "    <tr>\n",
       "      <th>1</th>\n",
       "      <td>000103f0d9cfb60f</td>\n",
       "      <td>D'aww! He matches this background colour I'm s...</td>\n",
       "      <td>0</td>\n",
       "      <td>0</td>\n",
       "      <td>0</td>\n",
       "      <td>0</td>\n",
       "      <td>0</td>\n",
       "      <td>0</td>\n",
       "    </tr>\n",
       "    <tr>\n",
       "      <th>2</th>\n",
       "      <td>000113f07ec002fd</td>\n",
       "      <td>Hey man, I'm really not trying to edit war. It...</td>\n",
       "      <td>0</td>\n",
       "      <td>0</td>\n",
       "      <td>0</td>\n",
       "      <td>0</td>\n",
       "      <td>0</td>\n",
       "      <td>0</td>\n",
       "    </tr>\n",
       "    <tr>\n",
       "      <th>3</th>\n",
       "      <td>0001b41b1c6bb37e</td>\n",
       "      <td>\"\\nMore\\nI can't make any real suggestions on ...</td>\n",
       "      <td>0</td>\n",
       "      <td>0</td>\n",
       "      <td>0</td>\n",
       "      <td>0</td>\n",
       "      <td>0</td>\n",
       "      <td>0</td>\n",
       "    </tr>\n",
       "    <tr>\n",
       "      <th>4</th>\n",
       "      <td>0001d958c54c6e35</td>\n",
       "      <td>You, sir, are my hero. Any chance you remember...</td>\n",
       "      <td>0</td>\n",
       "      <td>0</td>\n",
       "      <td>0</td>\n",
       "      <td>0</td>\n",
       "      <td>0</td>\n",
       "      <td>0</td>\n",
       "    </tr>\n",
       "  </tbody>\n",
       "</table>\n",
       "</div>"
      ],
      "text/plain": [
       "                 id                                       comment_text  toxic  \\\n",
       "0  0000997932d777bf  Explanation\\nWhy the edits made under my usern...      0   \n",
       "1  000103f0d9cfb60f  D'aww! He matches this background colour I'm s...      0   \n",
       "2  000113f07ec002fd  Hey man, I'm really not trying to edit war. It...      0   \n",
       "3  0001b41b1c6bb37e  \"\\nMore\\nI can't make any real suggestions on ...      0   \n",
       "4  0001d958c54c6e35  You, sir, are my hero. Any chance you remember...      0   \n",
       "\n",
       "   severe_toxic  obscene  threat  insult  identity_hate  \n",
       "0             0        0       0       0              0  \n",
       "1             0        0       0       0              0  \n",
       "2             0        0       0       0              0  \n",
       "3             0        0       0       0              0  \n",
       "4             0        0       0       0              0  "
      ]
     },
     "execution_count": 2,
     "metadata": {},
     "output_type": "execute_result"
    }
   ],
   "source": [
    "# Open and save data\n",
    "\n",
    "train = pd.read_csv('data/train.csv/train.csv')\n",
    "\n",
    "train.head()"
   ]
  },
  {
   "cell_type": "code",
   "execution_count": 3,
   "metadata": {},
   "outputs": [
    {
     "data": {
      "text/html": [
       "<div>\n",
       "<style scoped>\n",
       "    .dataframe tbody tr th:only-of-type {\n",
       "        vertical-align: middle;\n",
       "    }\n",
       "\n",
       "    .dataframe tbody tr th {\n",
       "        vertical-align: top;\n",
       "    }\n",
       "\n",
       "    .dataframe thead th {\n",
       "        text-align: right;\n",
       "    }\n",
       "</style>\n",
       "<table border=\"1\" class=\"dataframe\">\n",
       "  <thead>\n",
       "    <tr style=\"text-align: right;\">\n",
       "      <th></th>\n",
       "      <th>id</th>\n",
       "      <th>comment_text</th>\n",
       "    </tr>\n",
       "  </thead>\n",
       "  <tbody>\n",
       "    <tr>\n",
       "      <th>0</th>\n",
       "      <td>00001cee341fdb12</td>\n",
       "      <td>Yo bitch Ja Rule is more succesful then you'll...</td>\n",
       "    </tr>\n",
       "    <tr>\n",
       "      <th>1</th>\n",
       "      <td>0000247867823ef7</td>\n",
       "      <td>== From RfC == \\n\\n The title is fine as it is...</td>\n",
       "    </tr>\n",
       "    <tr>\n",
       "      <th>2</th>\n",
       "      <td>00013b17ad220c46</td>\n",
       "      <td>\" \\n\\n == Sources == \\n\\n * Zawe Ashton on Lap...</td>\n",
       "    </tr>\n",
       "    <tr>\n",
       "      <th>3</th>\n",
       "      <td>00017563c3f7919a</td>\n",
       "      <td>:If you have a look back at the source, the in...</td>\n",
       "    </tr>\n",
       "    <tr>\n",
       "      <th>4</th>\n",
       "      <td>00017695ad8997eb</td>\n",
       "      <td>I don't anonymously edit articles at all.</td>\n",
       "    </tr>\n",
       "  </tbody>\n",
       "</table>\n",
       "</div>"
      ],
      "text/plain": [
       "                 id                                       comment_text\n",
       "0  00001cee341fdb12  Yo bitch Ja Rule is more succesful then you'll...\n",
       "1  0000247867823ef7  == From RfC == \\n\\n The title is fine as it is...\n",
       "2  00013b17ad220c46  \" \\n\\n == Sources == \\n\\n * Zawe Ashton on Lap...\n",
       "3  00017563c3f7919a  :If you have a look back at the source, the in...\n",
       "4  00017695ad8997eb          I don't anonymously edit articles at all."
      ]
     },
     "execution_count": 3,
     "metadata": {},
     "output_type": "execute_result"
    }
   ],
   "source": [
    "test = pd.read_csv('data/test.csv/test.csv')\n",
    "\n",
    "test.head()"
   ]
  },
  {
   "cell_type": "code",
   "execution_count": 4,
   "metadata": {},
   "outputs": [
    {
     "data": {
      "text/plain": [
       "159571"
      ]
     },
     "execution_count": 4,
     "metadata": {},
     "output_type": "execute_result"
    }
   ],
   "source": [
    "len(train)"
   ]
  },
  {
   "cell_type": "code",
   "execution_count": 5,
   "metadata": {},
   "outputs": [
    {
     "data": {
      "text/plain": [
       "153164"
      ]
     },
     "execution_count": 5,
     "metadata": {},
     "output_type": "execute_result"
    }
   ],
   "source": [
    "len(test)"
   ]
  },
  {
   "cell_type": "code",
   "execution_count": 6,
   "metadata": {},
   "outputs": [
    {
     "data": {
      "text/plain": [
       "id               False\n",
       "comment_text     False\n",
       "toxic            False\n",
       "severe_toxic     False\n",
       "obscene          False\n",
       "threat           False\n",
       "insult           False\n",
       "identity_hate    False\n",
       "dtype: bool"
      ]
     },
     "execution_count": 6,
     "metadata": {},
     "output_type": "execute_result"
    }
   ],
   "source": [
    "# control of null elements\n",
    "\n",
    "train.isnull().any()"
   ]
  },
  {
   "cell_type": "code",
   "execution_count": 7,
   "metadata": {},
   "outputs": [
    {
     "data": {
      "text/plain": [
       "id               False\n",
       "comment_text     False\n",
       "toxic            False\n",
       "severe_toxic     False\n",
       "obscene          False\n",
       "threat           False\n",
       "insult           False\n",
       "identity_hate    False\n",
       "dtype: bool"
      ]
     },
     "execution_count": 7,
     "metadata": {},
     "output_type": "execute_result"
    }
   ],
   "source": [
    "train.isna().any()"
   ]
  },
  {
   "cell_type": "code",
   "execution_count": 8,
   "metadata": {},
   "outputs": [
    {
     "data": {
      "text/plain": [
       "id              False\n",
       "comment_text    False\n",
       "dtype: bool"
      ]
     },
     "execution_count": 8,
     "metadata": {},
     "output_type": "execute_result"
    }
   ],
   "source": [
    "test.isnull().any()"
   ]
  },
  {
   "cell_type": "code",
   "execution_count": 9,
   "metadata": {},
   "outputs": [
    {
     "data": {
      "text/plain": [
       "id              False\n",
       "comment_text    False\n",
       "dtype: bool"
      ]
     },
     "execution_count": 9,
     "metadata": {},
     "output_type": "execute_result"
    }
   ],
   "source": [
    "test.isna().any()"
   ]
  },
  {
   "cell_type": "code",
   "execution_count": 10,
   "metadata": {},
   "outputs": [],
   "source": [
    "x_tr = train['comment_text']"
   ]
  },
  {
   "cell_type": "code",
   "execution_count": 11,
   "metadata": {},
   "outputs": [],
   "source": [
    "x_ts = test['comment_text']"
   ]
  },
  {
   "cell_type": "code",
   "execution_count": 12,
   "metadata": {},
   "outputs": [],
   "source": [
    "y_tr_0 = train[(train['toxic']==0) & (train['severe_toxic']==0) & (train['obscene']==0)\n",
    "              & (train['threat']==0) & (train['insult']==0) & (train['identity_hate']==0)]"
   ]
  },
  {
   "cell_type": "code",
   "execution_count": 13,
   "metadata": {},
   "outputs": [
    {
     "data": {
      "text/plain": [
       "143346"
      ]
     },
     "execution_count": 13,
     "metadata": {},
     "output_type": "execute_result"
    }
   ],
   "source": [
    "len(y_tr_0)"
   ]
  },
  {
   "cell_type": "code",
   "execution_count": 14,
   "metadata": {},
   "outputs": [
    {
     "data": {
      "text/plain": [
       "16225"
      ]
     },
     "execution_count": 14,
     "metadata": {},
     "output_type": "execute_result"
    }
   ],
   "source": [
    "y_labeled = len(train) - len(y_tr_0)\n",
    "\n",
    "y_labeled"
   ]
  },
  {
   "cell_type": "code",
   "execution_count": 15,
   "metadata": {},
   "outputs": [
    {
     "data": {
      "text/plain": [
       "10.167887648758233"
      ]
     },
     "execution_count": 15,
     "metadata": {},
     "output_type": "execute_result"
    }
   ],
   "source": [
    "perc_lab = (y_labeled*100)/len(train) # percentuale di commenti etichettati all'interno del training dataset \n",
    "\n",
    "perc_lab"
   ]
  },
  {
   "cell_type": "code",
   "execution_count": 16,
   "metadata": {},
   "outputs": [],
   "source": [
    "# lunghezza media dei commenti \n",
    "\n",
    "lenght_comments = x_tr.apply(lambda x: len(x))"
   ]
  },
  {
   "cell_type": "code",
   "execution_count": 17,
   "metadata": {},
   "outputs": [
    {
     "data": {
      "text/plain": [
       "5000"
      ]
     },
     "execution_count": 17,
     "metadata": {},
     "output_type": "execute_result"
    }
   ],
   "source": [
    "max(lenght_comments)"
   ]
  },
  {
   "cell_type": "code",
   "execution_count": 18,
   "metadata": {},
   "outputs": [
    {
     "data": {
      "text/plain": [
       "6"
      ]
     },
     "execution_count": 18,
     "metadata": {},
     "output_type": "execute_result"
    }
   ],
   "source": [
    "min(lenght_comments)"
   ]
  },
  {
   "cell_type": "code",
   "execution_count": 19,
   "metadata": {},
   "outputs": [
    {
     "data": {
      "text/plain": [
       "394.0732213246768"
      ]
     },
     "execution_count": 19,
     "metadata": {},
     "output_type": "execute_result"
    }
   ],
   "source": [
    "lenght_comments.mean()"
   ]
  },
  {
   "cell_type": "code",
   "execution_count": 20,
   "metadata": {},
   "outputs": [
    {
     "data": {
      "text/plain": [
       "590.7202819048919"
      ]
     },
     "execution_count": 20,
     "metadata": {},
     "output_type": "execute_result"
    }
   ],
   "source": [
    "lenght_comments.std()"
   ]
  },
  {
   "cell_type": "code",
   "execution_count": 32,
   "metadata": {},
   "outputs": [
    {
     "data": {
      "text/plain": [
       "<matplotlib.axes._subplots.AxesSubplot at 0x7f97ebc2a910>"
      ]
     },
     "execution_count": 32,
     "metadata": {},
     "output_type": "execute_result"
    },
    {
     "data": {
      "image/png": "[encoded data removed]",
      "text/plain": [
       "<Figure size 432x288 with 1 Axes>"
      ]
     },
     "metadata": {
      "needs_background": "light"
     },
     "output_type": "display_data"
    }
   ],
   "source": [
    "plt.xlabel('Lunghezza commenti')\n",
    "plt.ylabel('Numero commenti')\n",
    "plt.title('Distribuzione della lunghezza dei commenti del training set')\n",
    "plt.text(1000, 100000, r'$\\mu=394.07,\\ \\sigma=590.72$')\n",
    "lenght_comments.hist()"
   ]
  },
  {
   "cell_type": "code",
   "execution_count": 33,
   "metadata": {},
   "outputs": [],
   "source": [
    "lenght_comments = x_ts.apply(lambda x: len(x))"
   ]
  },
  {
   "cell_type": "code",
   "execution_count": 34,
   "metadata": {},
   "outputs": [
    {
     "data": {
      "text/plain": [
       "364.8751207855632"
      ]
     },
     "execution_count": 34,
     "metadata": {},
     "output_type": "execute_result"
    }
   ],
   "source": [
    "lenght_comments.mean()"
   ]
  },
  {
   "cell_type": "code",
   "execution_count": 35,
   "metadata": {},
   "outputs": [
    {
     "data": {
      "text/plain": [
       "592.4920987302779"
      ]
     },
     "execution_count": 35,
     "metadata": {},
     "output_type": "execute_result"
    }
   ],
   "source": [
    "lenght_comments.std()"
   ]
  },
  {
   "cell_type": "code",
   "execution_count": 36,
   "metadata": {},
   "outputs": [
    {
     "data": {
      "text/plain": [
       "<matplotlib.axes._subplots.AxesSubplot at 0x7f97ec55b590>"
      ]
     },
     "execution_count": 36,
     "metadata": {},
     "output_type": "execute_result"
    },
    {
     "data": {
      "image/png": "[encoded data removed]",
      "text/plain": [
       "<Figure size 432x288 with 1 Axes>"
      ]
     },
     "metadata": {
      "needs_background": "light"
     },
     "output_type": "display_data"
    }
   ],
   "source": [
    "plt.xlabel('Lunghezza commenti')\n",
    "plt.ylabel('Numero commenti')\n",
    "plt.title('Distribuzione della lunghezza dei commenti del test set')\n",
    "plt.text(1000, 100000, r'$\\mu=364.87,\\ \\sigma=592.72$')\n",
    "lenght_comments.hist()"
   ]
  },
  {
   "cell_type": "code",
   "execution_count": 25,
   "metadata": {},
   "outputs": [
    {
     "data": {
      "text/plain": [
       "5000"
      ]
     },
     "execution_count": 25,
     "metadata": {},
     "output_type": "execute_result"
    }
   ],
   "source": [
    "max(lenght_comments)"
   ]
  },
  {
   "cell_type": "code",
   "execution_count": 26,
   "metadata": {},
   "outputs": [
    {
     "data": {
      "text/plain": [
       "1"
      ]
     },
     "execution_count": 26,
     "metadata": {},
     "output_type": "execute_result"
    }
   ],
   "source": [
    "min(lenght_comments)"
   ]
  },
  {
   "cell_type": "markdown",
   "metadata": {},
   "source": [
    "# Text normalization: x_1 -> without punctuation and digits"
   ]
  },
  {
   "cell_type": "code",
   "execution_count": 16,
   "metadata": {},
   "outputs": [],
   "source": [
    "# removing punctuation\n",
    "\n",
    "x_tr_1 = x_tr.str.translate(str.maketrans(' ', ' ', punctuation))\n",
    "x_ts_1 = x_ts.str.translate(str.maketrans(' ', ' ', punctuation))"
   ]
  },
  {
   "cell_type": "code",
   "execution_count": 17,
   "metadata": {},
   "outputs": [
    {
     "data": {
      "text/plain": [
       "0    Explanation\\nWhy the edits made under my usern...\n",
       "1    Daww He matches this background colour Im seem...\n",
       "Name: comment_text, dtype: object"
      ]
     },
     "execution_count": 17,
     "metadata": {},
     "output_type": "execute_result"
    }
   ],
   "source": [
    "x_tr_1[:2]"
   ]
  },
  {
   "cell_type": "code",
   "execution_count": 18,
   "metadata": {},
   "outputs": [],
   "source": [
    "#removing digits\n",
    "\n",
    "x_tr_1 = x_tr_1.str.translate(str.maketrans(' ', ' ', digits))\n",
    "x_ts_1 = x_ts_1.str.translate(str.maketrans(' ', ' ', digits))"
   ]
  },
  {
   "cell_type": "code",
   "execution_count": 19,
   "metadata": {},
   "outputs": [
    {
     "data": {
      "text/plain": [
       "0    Explanation\\nWhy the edits made under my usern...\n",
       "1    Daww He matches this background colour Im seem...\n",
       "2    Hey man Im really not trying to edit war Its j...\n",
       "3    \\nMore\\nI cant make any real suggestions on im...\n",
       "4    You sir are my hero Any chance you remember wh...\n",
       "Name: comment_text, dtype: object"
      ]
     },
     "execution_count": 19,
     "metadata": {},
     "output_type": "execute_result"
    }
   ],
   "source": [
    "x_tr_1[:5]"
   ]
  },
  {
   "cell_type": "markdown",
   "metadata": {},
   "source": [
    "# Tokenization"
   ]
  },
  {
   "cell_type": "code",
   "execution_count": 20,
   "metadata": {},
   "outputs": [],
   "source": [
    "max_features = 30000\n",
    "\n",
    "tokenizer = Tokenizer(num_words=max_features)\n",
    "\n",
    "tokenizer.fit_on_texts(list(x_tr_1))"
   ]
  },
  {
   "cell_type": "code",
   "execution_count": 21,
   "metadata": {},
   "outputs": [],
   "source": [
    "x_tr_tokenized = tokenizer.texts_to_sequences(x_tr_1)\n",
    "x_ts_tokenized = tokenizer.texts_to_sequences(x_ts_1)"
   ]
  },
  {
   "cell_type": "code",
   "execution_count": 22,
   "metadata": {},
   "outputs": [],
   "source": [
    "# pad sequences: every sample with the same length\n",
    "\n",
    "max_len = 200\n",
    "X_tr_1 = pad_sequences(x_tr_tokenized, maxlen=max_len)\n",
    "X_ts_1 = pad_sequences(x_ts_tokenized, maxlen=max_len)"
   ]
  },
  {
   "cell_type": "code",
   "execution_count": 42,
   "metadata": {},
   "outputs": [
    {
     "data": {
      "text/plain": [
       "array([[    0,     0,     0,     0,     0,     0,     0,     0,     0,\n",
       "            0,     0,     0,     0,     0,     0,     0,     0,     0,\n",
       "            0,     0,     0,     0,     0,     0,     0,     0,     0,\n",
       "            0,     0,     0,     0,     0,     0,     0,     0,     0,\n",
       "            0,     0,     0,     0,     0,     0,     0,     0,     0,\n",
       "            0,     0,     0,     0,     0,     0,     0,     0,     0,\n",
       "            0,     0,     0,     0,     0,     0,     0,     0,     0,\n",
       "            0,     0,     0,     0,     0,     0,     0,     0,     0,\n",
       "            0,     0,     0,     0,     0,     0,     0,     0,     0,\n",
       "            0,     0,     0,     0,     0,     0,     0,     0,     0,\n",
       "            0,     0,   159,     2, 14052,     7,   565,     5,    10,\n",
       "           13,    23,   125,     1,   282, 14052,   512,   180,   257,\n",
       "           63,   512,     2,    16,  2239,    35,     4,     8,   602,\n",
       "          529,     9,     7,    32,   488,     9,     7,    73, 17916,\n",
       "           31,   270,    13,     7,    18,   148,     1,   221,     4,\n",
       "           68,     7,   243,    11,     4,     7,   701,    21,   154,\n",
       "            1,   282, 14052,    24,    14,   921,  1419,   294,    10,\n",
       "           13,    23,   142,     7,   126,     1,   159,     4,     7,\n",
       "           68,     9,    28,   159,   607,    97,   708,    12,     5,\n",
       "         1037,    63,    87,    14,    71,  6705,    26,   321,     9,\n",
       "          343,    52,  1268, 14052,    24,    40,   208,   231,    21,\n",
       "           28,   159,     7,    46,    51,   153,  1768,     2,   250,\n",
       "           91,   766],\n",
       "       [    0,     0,     0,     0,     0,     0,     0,     0,     0,\n",
       "            0,     0,     0,     0,     0,     0,     0,     0,     0,\n",
       "            0,     0,     0,     0,     0,     0,     0,     0,     0,\n",
       "            0,     0,     0,     0,     0,     0,     0,     0,     0,\n",
       "            0,     0,     0,     0,     0,     0,     0,     0,     0,\n",
       "            0,     0,     0,     0,     0,     0,     0,     0,     0,\n",
       "            0,     0,     0,     0,     0,     0,     0,     0,     0,\n",
       "            0,     0,     0,     0,     0,     0,     0,     0,     0,\n",
       "            0,     0,     0,     0,     0,     0,     0,     0,     0,\n",
       "            0,     0,     0,     0,     0,     0,     0,     0,     0,\n",
       "            0,     0,     0,     0,     0,     0,     0,     0,     0,\n",
       "            0,     0,     0,     0,     0,     0,     0,     0,     0,\n",
       "            0,     0,     0,     0,     0,     0,     0,     0,     0,\n",
       "            0,     0,     0,     0,     0,     0,     0,     0,     0,\n",
       "            0,     0,     0,     0,     0,     0,     0,     0,     0,\n",
       "            0,     0,    20,  1665,   382,  1744,   955,     3,     6,\n",
       "          649,    42,   126,    56,  1144,     2,    13,  1975,   179,\n",
       "           23,    62,    92,     2,  5930,    20,  2414,   889,   382,\n",
       "           10,    28,  1015,    13,     8,     5,   179,    23,   179,\n",
       "           18,     6,   820,     3,     9,    13,     8,     1,   196,\n",
       "           75,    36,   127,    74,    95,  4006,   223,    34,     1,\n",
       "        22201,     4,  9241,     4, 28248,     3,    37,    95,     5,\n",
       "         9242,   304],\n",
       "       [    0,     0,     0,     0,     0,     0,     0,     0,     0,\n",
       "            0,     0,     0,     0,     0,     0,     0,     0,     0,\n",
       "            0,     0,     0,     0,     0,     0,     0,     0,     0,\n",
       "            0,     0,     0,     0,     0,     0,     0,     0,     0,\n",
       "            0,     0,     0,     0,     0,     0,     0,     0,     0,\n",
       "            0,     0,     0,     0,     0,     0,     0,     0,     0,\n",
       "            0,     0,     0,     0,     0,     0,     0,     0,     0,\n",
       "            0,     0,     0,     0,     0,     0,     0,     0,     0,\n",
       "            0,     0,     0,     0,     0,     0,     0,     0,     0,\n",
       "            0,     0,     0,     0,     0,     0,     0,     0,     0,\n",
       "            0,     0,     0,     0,     0,     0,     0,     0,     0,\n",
       "            0,     0,     0,     0,     0,     0,     0,     0,     0,\n",
       "            0,     0,     0,     0,     0,     0,     0,     0,     0,\n",
       "            0,     0,     0,     0,     0,     0,     0,     0,     0,\n",
       "            0,     0,     0,     0,     0,     0,     0,     0,     0,\n",
       "            0,     0,     0,     0,     0,     0,     0,     0,     0,\n",
       "            0,     0,     0,     0,     0,     0,     0,     0,     0,\n",
       "            0,     0,     0,     0,     0,     0,     0,     0,     0,\n",
       "            0,     0,     0,     0,     0,     0,     0,     0,     0,\n",
       "            0,     0,     0,     0,     0,     0,     0,     0,     0,\n",
       "            0,     0,     0,     0,     0,   259,   106,   769,   634,\n",
       "           45,    32,    14,  1291,    20,   194,  1671,   137,     1,\n",
       "           23,    44],\n",
       "       [    0,     0,     0,     0,     0,     0,     0,     0,     0,\n",
       "            0,     0,     0,     0,     0,     0,     0,     0,     0,\n",
       "            0,     0,     0,     0,     0,     0,     0,     0,     0,\n",
       "            0,     0,     0,     0,     0,     0,     0,     0,     0,\n",
       "            0,     0,     0,     0,     0,     0,     0,     0,     0,\n",
       "            0,     0,     0,     0,     0,     0,     0,     0,     0,\n",
       "            0,     0,     0,     0,     0,     0,     0,     0,     0,\n",
       "            0,     0,     0,     0,     0,     0,     0,     0,     0,\n",
       "            0,     0,     0,     0,     0,     0,     0,     0,     0,\n",
       "            0,     0,     0,     0,     0,     0,     0,     0,     0,\n",
       "            0,     0,     0,     0,     0,     0,     0,     0,     0,\n",
       "            0,     0,     0,     0,     0,     0,     0,     0,     0,\n",
       "            0,     0,     0,     0,     0,     0,     0,     0,     0,\n",
       "            0,     0,     0,     0,     0,     0,     0,     0,     0,\n",
       "            0,     0,     0,     0,     0,     0,     0,     0,     0,\n",
       "            0,     0,     0,     7,    87,   371,   123,     6,    99,\n",
       "          128,     4,    11,     8,    14,    10,     1,  2743,     3,\n",
       "            1,    23,     7,    68,     6,    85,    18,     2,  6373,\n",
       "            2,   186,     6,  2975,     1,   405,    34,    75,   109,\n",
       "          211,    19,    90,   136,     7,    73,  1147,     2,   253,\n",
       "           21,    74,     9,    78,     1,   515,   707,    58,    16,\n",
       "           40,   541,     7,   911,   295,     1,   568,   292,     4,\n",
       "            1,    89],\n",
       "       [    0,     0,     0,     0,     0,     0,     0,     0,     0,\n",
       "            0,     0,     0,     0,     0,     0,     0,     0,     0,\n",
       "            0,     0,     0,     0,     0,     0,     0,     0,     0,\n",
       "            0,     0,     0,     0,     0,     0,     0,     0,     0,\n",
       "            0,     0,     0,     0,     0,     0,     0,     0,     0,\n",
       "            0,     0,     0,     0,     0,     0,     0,     0,     0,\n",
       "            0,     0,     0,     0,     0,     0,     0,     0,     0,\n",
       "            0,     0,     0,     0,     0,     0,     0,     0,     0,\n",
       "            0,     0,     0,     0,     0,     0,     0,     0,     0,\n",
       "            0,     0,     0,     0,     0,     0,     0,     0,     0,\n",
       "            0,     0,     0,     0,     0,     0,     0,     0,     0,\n",
       "            0,     0,     0,     0,     5,   395,    46,   277,    16,\n",
       "          450,   320,     1,  3688,     3,  3247,     9,  1234,    65,\n",
       "           26,     7,   390,   243,    75,  9354,   778,  2425,    31,\n",
       "           61,    17,  2698,    46,  3131,     1,    23,  6374,    42,\n",
       "           66,   130,     9,  1181,   647,    26,     7,   254,    68,\n",
       "            9,  1944,     4,   966,   100,     8,    59,     3,     5,\n",
       "           92,     8,     5,   411,   395,     2,   474,    20,   410,\n",
       "          207,    28,   613,    42,  1205,  1129,     5,  1298,     4,\n",
       "            1,    62,   613,    42,    14,   311,  1954,    13,     8,\n",
       "         3588,  1782,    21,   481,  5883,     3,  1884,   217,    96,\n",
       "           48,   203,    15,   361,    25,    14,    13,     8,     5,\n",
       "         4054,  4136]], dtype=int32)"
      ]
     },
     "execution_count": 42,
     "metadata": {},
     "output_type": "execute_result"
    }
   ],
   "source": [
    "X_tr_1[200:205]"
   ]
  },
  {
   "cell_type": "markdown",
   "metadata": {},
   "source": [
    "# Text normalization: x_2 -> without URLs, abbreviations, stop words"
   ]
  },
  {
   "cell_type": "code",
   "execution_count": 23,
   "metadata": {},
   "outputs": [],
   "source": [
    "# removing abbreviation, tag and urls\n",
    "\n",
    "abbr = [ # list of english abbreviation, tag, urls and astericks words\n",
    "    (r'(W|w)on\\'t', r'will not'),\n",
    "    (r'(C|c)an\\'t', r'can not'),\n",
    "    (r'(I|i)\\'m', r'i am'),\n",
    "    (r'(A|a)in\\'t', r'is not'),\n",
    "    (r'(\\w+)\\'ll', r'\\g<1> will'),\n",
    "    (r'(\\w+)n\\'t', r'\\g<1> not'),\n",
    "    (r'(\\w+)\\'ve', r'\\g<1> have'),\n",
    "    (r'(\\w+)\\'s', r'\\g<1> is'),\n",
    "    (r'(\\w+)\\'re', r'\\g<1> are'),\n",
    "    (r'(\\w+)\\'d', r'\\g<1> would'),\n",
    "    (r'(\\w*|\\W*)\\n(\\w*|\\W*)', r'\\g<1> \\g<2>'),\n",
    "    (r'(\\w*|\\W*)\\t(\\w*|\\W*)', r'\\g<1> \\g<2>'),\n",
    "    (r'http\\S+', r' '),\n",
    "    (r'www\\S+', r' '),\n",
    "    (r'mother\\*\\*\\*\\*ers', r'motherfuckers'), \n",
    "    (r'motherf\\*cking', r'motherfucking'), \n",
    "    (r'mother\\*\\*\\*\\*er', r'motherfucker'), \n",
    "    (r'motherf\\*cker', r'motherfucker'), \n",
    "    (r'bullsh\\*t', r'bullshit'), \n",
    "    (r'f\\*\\*cking', r'fucking'), \n",
    "    (r'f\\*ucking', r'fucking'), \n",
    "    (r'fu\\*cking', r'fucking'), \n",
    "    (r'\\*\\*\\*\\*ing', r'fucking'), \n",
    "    (r'a\\*\\*hole', r'asshole'), \n",
    "    (r'assh\\*le', r'asshole'), \n",
    "    (r'f\\*\\*\\*\\*\\*\\*', r'fucking'), \n",
    "    (r'f\\*\\*\\*\\*\\*g', r'fucking'), \n",
    "    (r'f\\*\\*\\*ing', r'fucking'), \n",
    "    (r'f\\*\\*king', r'fucking'), \n",
    "    (r'f\\*cking', r'fucking'), \n",
    "    (r'fu\\*\\*ing', r'fucking'), \n",
    "    (r'fu\\*king', r'fucking'), \n",
    "    (r'fuc\\*ers', r'fuckers'), \n",
    "    (r'f\\*\\*\\*\\*\\*', r'fucking'), \n",
    "    (r'f\\*\\*\\*ed', r'fucked'), \n",
    "    (r'f\\*\\*ker', r'fucker'), \n",
    "    (r'f\\*cked', r'fucked'), \n",
    "    (r'f\\*cker', r'fucker'), \n",
    "    (r'f\\*ckin', r'fucking'), \n",
    "    (r'fu\\*ker', r'fucker'), \n",
    "    (r'fuc\\*\\*n', r'fucking'), \n",
    "    (r'ni\\*\\*as', r'niggas'), \n",
    "    (r'b\\*\\*ch', r'bitch'), \n",
    "    (r'b\\*tch', r'bitch'), \n",
    "    (r'c\\*unt', r'cunt'), \n",
    "    (r'f\\*\\*ks', r'fucks'), \n",
    "    (r'f\\*ing', r'fucking'), \n",
    "    (r'ni\\*\\*a', r'nigga'), \n",
    "    (r'c\\*ck', r'cock'), \n",
    "    (r'c\\*nt', r'cunt'), \n",
    "    (r'cr\\*p', r'crap'), \n",
    "    (r'd\\*ck', r'dick'), \n",
    "    (r'f\\*\\*\\*', r'fuck'), \n",
    "    (r'f\\*\\*k', r'fuck'), \n",
    "    (r'f\\*ck', r'fuck'), \n",
    "    (r'fc\\*k', r'fuck'), \n",
    "    (r'fu\\*\\*', r'fuck'), \n",
    "    (r'fu\\*k', r'fuck'), \n",
    "    (r's\\*\\*\\*', r'shit'), \n",
    "    (r's\\*\\*t', r'shit'), \n",
    "    (r'sh\\*\\*', r'shit'), \n",
    "    (r'sh\\*t', r'shit'), \n",
    "    (r'tw\\*t', r'twat') \n",
    "] # list of atericks words from https://www.kaggle.com/tunguz/bi-gru-lstm-dual-embedding-new-test-cleaned-5"
   ]
  },
  {
   "cell_type": "code",
   "execution_count": 24,
   "metadata": {},
   "outputs": [],
   "source": [
    "def clean_comment(comment):\n",
    "    \"\"\"\n",
    "    Questa funzione normalizza i commenti \n",
    "    \n",
    "    \n",
    "    comment: a string\n",
    "    \"\"\"\n",
    "    \n",
    "    for (pattern, repl) in patterns:\n",
    "        \n",
    "        comment = re.sub(pattern, repl, comment)\n",
    "        \n",
    "    return comment"
   ]
  },
  {
   "cell_type": "code",
   "execution_count": 25,
   "metadata": {},
   "outputs": [],
   "source": [
    "patterns = [(re.compile(regex), repl) for (regex, repl) in abbr]"
   ]
  },
  {
   "cell_type": "code",
   "execution_count": 26,
   "metadata": {},
   "outputs": [],
   "source": [
    "x_tr_abbr = x_tr.apply(lambda x :clean_comment(x))\n",
    "x_ts_abbr = x_ts.apply(lambda x :clean_comment(x))"
   ]
  },
  {
   "cell_type": "code",
   "execution_count": 27,
   "metadata": {},
   "outputs": [
    {
     "data": {
      "text/plain": [
       "0    Explanation Why the edits made under my userna...\n",
       "1    D'aww! He matches this background colour i am ...\n",
       "2    Hey man, i am really not trying to edit war. I...\n",
       "3    \" More I can not make any real suggestions on ...\n",
       "4    You, sir, are my hero. Any chance you remember...\n",
       "Name: comment_text, dtype: object"
      ]
     },
     "execution_count": 27,
     "metadata": {},
     "output_type": "execute_result"
    }
   ],
   "source": [
    "x_tr_abbr[:5]"
   ]
  },
  {
   "cell_type": "code",
   "execution_count": 28,
   "metadata": {},
   "outputs": [],
   "source": [
    "# everything in lowercase\n",
    "\n",
    "x_tr_clean = x_tr_abbr.apply(lambda x: x.lower())\n",
    "x_ts_clean = x_ts_abbr.apply(lambda x: x.lower())"
   ]
  },
  {
   "cell_type": "code",
   "execution_count": 29,
   "metadata": {},
   "outputs": [
    {
     "data": {
      "text/plain": [
       "0    explanation why the edits made under my userna...\n",
       "1    d'aww! he matches this background colour i am ...\n",
       "2    hey man, i am really not trying to edit war. i...\n",
       "3    \" more i can not make any real suggestions on ...\n",
       "4    you, sir, are my hero. any chance you remember...\n",
       "Name: comment_text, dtype: object"
      ]
     },
     "execution_count": 29,
     "metadata": {},
     "output_type": "execute_result"
    }
   ],
   "source": [
    "x_tr_clean[:5]"
   ]
  },
  {
   "cell_type": "code",
   "execution_count": 37,
   "metadata": {},
   "outputs": [],
   "source": [
    "# removing stop words\n",
    "\n",
    "list_sw = list(stopwords.words('english'))"
   ]
  },
  {
   "cell_type": "code",
   "execution_count": 38,
   "metadata": {},
   "outputs": [
    {
     "data": {
      "text/plain": [
       "179"
      ]
     },
     "execution_count": 38,
     "metadata": {},
     "output_type": "execute_result"
    }
   ],
   "source": [
    "len(list_sw)"
   ]
  },
  {
   "cell_type": "code",
   "execution_count": 31,
   "metadata": {},
   "outputs": [],
   "source": [
    "x_tr_clean = x_tr_clean.apply(lambda x: ' '.join([w for w in x.split() if w not in (list_sw)]))\n",
    "x_ts_clean = x_ts_clean.apply(lambda x: ' '.join([w for w in x.split() if w not in (list_sw)]))"
   ]
  },
  {
   "cell_type": "code",
   "execution_count": 32,
   "metadata": {},
   "outputs": [
    {
     "data": {
      "text/plain": [
       "0    explanation edits made username hardcore metal...\n",
       "1    d'aww! matches background colour seemingly stu...\n",
       "2    hey man, really trying edit war. guy constantl...\n",
       "3    \" make real suggestions improvement - wondered...\n",
       "4             you, sir, hero. chance remember page on?\n",
       "Name: comment_text, dtype: object"
      ]
     },
     "execution_count": 32,
     "metadata": {},
     "output_type": "execute_result"
    }
   ],
   "source": [
    "selezione celle con dato valore pandasx_tr_clean[:5]"
   ]
  },
  {
   "cell_type": "code",
   "execution_count": 33,
   "metadata": {},
   "outputs": [],
   "source": [
    "# reduce repeat character sequences of length 3 or greater\n",
    "\n",
    "x_tr_clean = x_tr_clean.apply(lambda x: reduce_lengthening(x))\n",
    "x_ts_clean = x_ts_clean.apply(lambda x: reduce_lengthening(x))"
   ]
  },
  {
   "cell_type": "code",
   "execution_count": 34,
   "metadata": {},
   "outputs": [],
   "source": [
    "# removing digits and punctuation\n",
    "x_tr_clean = x_tr_clean.str.translate(str.maketrans(' ', ' ', punctuation))\n",
    "x_ts_clean = x_ts_clean.str.translate(str.maketrans(' ', ' ', punctuation))\n",
    "x_tr_clean = x_tr_clean.str.translate(str.maketrans(' ', ' ', digits))\n",
    "x_ts_clean = x_ts_clean.str.translate(str.maketrans(' ', ' ', digits))"
   ]
  },
  {
   "cell_type": "code",
   "execution_count": 35,
   "metadata": {},
   "outputs": [
    {
     "data": {
      "text/plain": [
       "0    explanation edits made username hardcore metal...\n",
       "1    daww matches background colour seemingly stuck...\n",
       "2    hey man really trying edit war guy constantly ...\n",
       "3     make real suggestions improvement  wondered s...\n",
       "4                 you sir hero chance remember page on\n",
       "Name: comment_text, dtype: object"
      ]
     },
     "execution_count": 35,
     "metadata": {},
     "output_type": "execute_result"
    }
   ],
   "source": [
    "x_tr_clean[:5]"
   ]
  },
  {
   "cell_type": "code",
   "execution_count": 36,
   "metadata": {},
   "outputs": [],
   "source": [
    "x_tr_tokenized = tokenizer.texts_to_sequences(x_tr_clean)\n",
    "x_ts_tokenized = tokenizer.texts_to_sequences(x_ts_clean)"
   ]
  },
  {
   "cell_type": "code",
   "execution_count": 37,
   "metadata": {},
   "outputs": [],
   "source": [
    "# pad sequences: every sample with the same length\n",
    "\n",
    "X_tr_2 = pad_sequences(x_tr_tokenized, maxlen=max_len)\n",
    "X_ts_2 = pad_sequences(x_ts_tokenized, maxlen=max_len)"
   ]
  },
  {
   "cell_type": "code",
   "execution_count": 41,
   "metadata": {},
   "outputs": [
    {
     "data": {
      "text/plain": [
       "array([[    0,     0,     0,     0,     0,     0,     0,     0,     0,\n",
       "            0,     0,     0,     0,     0,     0,     0,     0,     0,\n",
       "            0,     0,     0,     0,     0,     0,     0,     0,     0,\n",
       "            0,     0,     0,     0,     0,     0,     0,     0,     0,\n",
       "            0,     0,     0,     0,     0,     0,     0,     0,     0,\n",
       "            0,     0,     0,     0,     0,     0,     0,     0,     0,\n",
       "            0,     0,     0,     0,     0,     0,     0,     0,     0,\n",
       "            0,     0,     0,     0,     0,     0,     0,     0,     0,\n",
       "            0,     0,     0,     0,     0,     0,     0,     0,     0,\n",
       "            0,     0,     0,     0,     0,     0,     0,     0,     0,\n",
       "            0,     0,     0,     0,     0,     0,     0,     0,     0,\n",
       "            0,     0,     0,     0,     0,     0,     0,     0,     0,\n",
       "            0,     0,     0,     0,     0,     0,     0,     0,     0,\n",
       "            0,     0,     0,     0,     0,     0,     0,     0,     0,\n",
       "            0,     0,     0,     0,     0,     0,     0,     0,     0,\n",
       "            0,     0,     0,     0,     0,     0,     0,     0,     0,\n",
       "            0,     0,     0,   159, 14052,   565,    23,   282, 14052,\n",
       "          512,   180,   257,   512,  2239,   602,   529,    32,   488,\n",
       "        17916,    13,   148,   221,    68,   243,    11,   701,   154,\n",
       "          282, 14052,   921,  1419,   294,    23,   126,   159,    68,\n",
       "          159,   607,    97,   708,  1037,    71,  6705,   321,   343,\n",
       "         1268, 14052,   208,   231,   159,    46,    51,   153,  1768,\n",
       "          250,   766],\n",
       "       [    0,     0,     0,     0,     0,     0,     0,     0,     0,\n",
       "            0,     0,     0,     0,     0,     0,     0,     0,     0,\n",
       "            0,     0,     0,     0,     0,     0,     0,     0,     0,\n",
       "            0,     0,     0,     0,     0,     0,     0,     0,     0,\n",
       "            0,     0,     0,     0,     0,     0,     0,     0,     0,\n",
       "            0,     0,     0,     0,     0,     0,     0,     0,     0,\n",
       "            0,     0,     0,     0,     0,     0,     0,     0,     0,\n",
       "            0,     0,     0,     0,     0,     0,     0,     0,     0,\n",
       "            0,     0,     0,     0,     0,     0,     0,     0,     0,\n",
       "            0,     0,     0,     0,     0,     0,     0,     0,     0,\n",
       "            0,     0,     0,     0,     0,     0,     0,     0,     0,\n",
       "            0,     0,     0,     0,     0,     0,     0,     0,     0,\n",
       "            0,     0,     0,     0,     0,     0,     0,     0,     0,\n",
       "            0,     0,     0,     0,     0,     0,     0,     0,     0,\n",
       "            0,     0,     0,     0,     0,     0,     0,     0,     0,\n",
       "            0,     0,     0,     0,     0,     0,     0,     0,     0,\n",
       "            0,     0,     0,     0,     0,     0,     0,     0,     0,\n",
       "            0,     0,     0,     0,     0,     0,     0,     0,     0,\n",
       "            0,     0,     0,     0,     0,     0,  1665,   382,  1744,\n",
       "          955,   649,   126,  1144,  1975,   179,    23,  5930,  2414,\n",
       "          889,   382,  1015,   179,    23,   179,   820,     9,   196,\n",
       "          127,    74,    95,  4006, 22201,  9241, 28248,    37,    95,\n",
       "          378,   304],\n",
       "       [    0,     0,     0,     0,     0,     0,     0,     0,     0,\n",
       "            0,     0,     0,     0,     0,     0,     0,     0,     0,\n",
       "            0,     0,     0,     0,     0,     0,     0,     0,     0,\n",
       "            0,     0,     0,     0,     0,     0,     0,     0,     0,\n",
       "            0,     0,     0,     0,     0,     0,     0,     0,     0,\n",
       "            0,     0,     0,     0,     0,     0,     0,     0,     0,\n",
       "            0,     0,     0,     0,     0,     0,     0,     0,     0,\n",
       "            0,     0,     0,     0,     0,     0,     0,     0,     0,\n",
       "            0,     0,     0,     0,     0,     0,     0,     0,     0,\n",
       "            0,     0,     0,     0,     0,     0,     0,     0,     0,\n",
       "            0,     0,     0,     0,     0,     0,     0,     0,     0,\n",
       "            0,     0,     0,     0,     0,     0,     0,     0,     0,\n",
       "            0,     0,     0,     0,     0,     0,     0,     0,     0,\n",
       "            0,     0,     0,     0,     0,     0,     0,     0,     0,\n",
       "            0,     0,     0,     0,     0,     0,     0,     0,     0,\n",
       "            0,     0,     0,     0,     0,     0,     0,     0,     0,\n",
       "            0,     0,     0,     0,     0,     0,     0,     0,     0,\n",
       "            0,     0,     0,     0,     0,     0,     0,     0,     0,\n",
       "            0,     0,     0,     0,     0,     0,     0,     0,     0,\n",
       "            0,     0,     0,     0,     0,     0,     0,     0,     0,\n",
       "            0,     0,     0,     0,     0,     0,     0,     0,     0,\n",
       "            0,   259,   106,   769,   634,    45,  1291,   194,  1671,\n",
       "           23,    44],\n",
       "       [    0,     0,     0,     0,     0,     0,     0,     0,     0,\n",
       "            0,     0,     0,     0,     0,     0,     0,     0,     0,\n",
       "            0,     0,     0,     0,     0,     0,     0,     0,     0,\n",
       "            0,     0,     0,     0,     0,     0,     0,     0,     0,\n",
       "            0,     0,     0,     0,     0,     0,     0,     0,     0,\n",
       "            0,     0,     0,     0,     0,     0,     0,     0,     0,\n",
       "            0,     0,     0,     0,     0,     0,     0,     0,     0,\n",
       "            0,     0,     0,     0,     0,     0,     0,     0,     0,\n",
       "            0,     0,     0,     0,     0,     0,     0,     0,     0,\n",
       "            0,     0,     0,     0,     0,     0,     0,     0,     0,\n",
       "            0,     0,     0,     0,     0,     0,     0,     0,     0,\n",
       "            0,     0,     0,     0,     0,     0,     0,     0,     0,\n",
       "            0,     0,     0,     0,     0,     0,     0,     0,     0,\n",
       "            0,     0,     0,     0,     0,     0,     0,     0,     0,\n",
       "            0,     0,     0,     0,     0,     0,     0,     0,     0,\n",
       "            0,     0,     0,     0,     0,     0,     0,     0,     0,\n",
       "            0,     0,     0,     0,     0,     0,     0,     0,     0,\n",
       "            0,     0,     0,     0,     0,     0,     0,     0,     0,\n",
       "            0,     0,     0,     0,     0,     0,     0,     0,     0,\n",
       "            0,     0,     0,     0,   371,   123,   128,  2743,    23,\n",
       "           68,    85,  6373,   186,  2975,   405,   211,   136,  1147,\n",
       "          253,    74,   515,   707,    40,   541,   911,   295,   568,\n",
       "          292,    89],\n",
       "       [    0,     0,     0,     0,     0,     0,     0,     0,     0,\n",
       "            0,     0,     0,     0,     0,     0,     0,     0,     0,\n",
       "            0,     0,     0,     0,     0,     0,     0,     0,     0,\n",
       "            0,     0,     0,     0,     0,     0,     0,     0,     0,\n",
       "            0,     0,     0,     0,     0,     0,     0,     0,     0,\n",
       "            0,     0,     0,     0,     0,     0,     0,     0,     0,\n",
       "            0,     0,     0,     0,     0,     0,     0,     0,     0,\n",
       "            0,     0,     0,     0,     0,     0,     0,     0,     0,\n",
       "            0,     0,     0,     0,     0,     0,     0,     0,     0,\n",
       "            0,     0,     0,     0,     0,     0,     0,     0,     0,\n",
       "            0,     0,     0,     0,     0,     0,     0,     0,     0,\n",
       "            0,     0,     0,     0,     0,     0,     0,     0,     0,\n",
       "            0,     0,     0,     0,     0,     0,     0,     0,     0,\n",
       "            0,     0,     0,     0,     0,     0,     0,     0,     0,\n",
       "            0,     0,     0,     0,     0,     0,     0,     0,     0,\n",
       "            0,     0,     0,     0,     0,     0,     0,     0,     0,\n",
       "            0,     0,     0,     0,     0,   395,    46,   277,   450,\n",
       "          320,  3688,  3247,  1234,    65,   390,   243,  9354,   778,\n",
       "         2425,  2698,    46,  3131,    23,  6374,    66,   130,  1181,\n",
       "          647,   254,    68,  1944,   966,   100,   411,   395,   474,\n",
       "          410,   207,   613,  1205,  1129,  1298,   613,   311,  1954,\n",
       "         3588,  1782,   481,  5883,  1884,     7,    96,   203,   361,\n",
       "         4054,  4136]], dtype=int32)"
      ]
     },
     "execution_count": 41,
     "metadata": {},
     "output_type": "execute_result"
    }
   ],
   "source": [
    "X_tr_2[200:205]"
   ]
  },
  {
   "cell_type": "markdown",
   "metadata": {},
   "source": [
    "# Lemmatization "
   ]
  },
  {
   "cell_type": "code",
   "execution_count": 54,
   "metadata": {},
   "outputs": [],
   "source": [
    "lemmatizer = WordNetLemmatizer()"
   ]
  },
  {
   "cell_type": "code",
   "execution_count": 55,
   "metadata": {},
   "outputs": [],
   "source": [
    "x_tr_tok = x_tr_abbr.apply(lambda x: word_tokenize(x))"
   ]
  },
  {
   "cell_type": "code",
   "execution_count": 56,
   "metadata": {},
   "outputs": [],
   "source": [
    "x_ts_tok = x_ts_abbr.apply(lambda x: word_tokenize(x))"
   ]
  },
  {
   "cell_type": "code",
   "execution_count": 57,
   "metadata": {},
   "outputs": [
    {
     "data": {
      "text/plain": [
       "0    [Explanation, Why, the, edits, made, under, my...\n",
       "1    [D'aww, !, He, matches, this, background, colo...\n",
       "2    [Hey, man, ,, i, am, really, not, trying, to, ...\n",
       "3    [``, More, I, can, not, make, any, real, sugge...\n",
       "4    [You, ,, sir, ,, are, my, hero, ., Any, chance...\n",
       "Name: comment_text, dtype: object"
      ]
     },
     "execution_count": 57,
     "metadata": {},
     "output_type": "execute_result"
    }
   ],
   "source": [
    "x_tr_tok[:5]"
   ]
  },
  {
   "cell_type": "code",
   "execution_count": 58,
   "metadata": {},
   "outputs": [],
   "source": [
    "# everything in lowercase and removing stop words\n",
    "\n",
    "\n",
    "x_tr_clean_lem = x_tr_tok.apply(lambda x: [w.lower() for w in x])\n",
    "x_ts_clean_lem = x_ts_tok.apply(lambda x: [w.lower() for w in x])\n",
    "x_tr_clean_lem = x_tr_clean_lem.apply(lambda x: ([w for w in x if w not in (list_sw)]))\n",
    "x_ts_clean_lem = x_ts_clean_lem.apply(lambda x: ([w for w in x if w not in (list_sw)]))"
   ]
  },
  {
   "cell_type": "code",
   "execution_count": 59,
   "metadata": {},
   "outputs": [
    {
     "data": {
      "text/plain": [
       "0    [explanation, edits, made, username, hardcore,...\n",
       "1    [d'aww, !, matches, background, colour, seemin...\n",
       "2    [hey, man, ,, really, trying, edit, war, ., gu...\n",
       "3    [``, make, real, suggestions, improvement, -, ...\n",
       "4      [,, sir, ,, hero, ., chance, remember, page, ?]\n",
       "Name: comment_text, dtype: object"
      ]
     },
     "execution_count": 59,
     "metadata": {},
     "output_type": "execute_result"
    }
   ],
   "source": [
    "x_tr_clean_lem[:5]"
   ]
  },
  {
   "cell_type": "code",
   "execution_count": 60,
   "metadata": {},
   "outputs": [],
   "source": [
    "# removing digits and punctuation\n",
    "\n",
    "x_tr_clean_lem = x_tr_clean_lem.apply(lambda x: ([w for w in x if w not in (punctuation)]))\n",
    "x_ts_clean_lem = x_ts_clean_lem.apply(lambda x: ([w for w in x if w not in (punctuation)]))\n",
    "x_tr_clean_lem = x_tr_clean_lem.apply(lambda x: ([w for w in x if w not in (digits)]))\n",
    "x_ts_clean_lem = x_ts_clean_lem.apply(lambda x: ([w for w in x if w not in (digits)]))"
   ]
  },
  {
   "cell_type": "code",
   "execution_count": 61,
   "metadata": {},
   "outputs": [
    {
     "data": {
      "text/plain": [
       "0    [explanation, edits, made, username, hardcore,...\n",
       "1    [d'aww, matches, background, colour, seemingly...\n",
       "2    [hey, man, really, trying, edit, war, guy, con...\n",
       "3    [``, make, real, suggestions, improvement, won...\n",
       "4                  [sir, hero, chance, remember, page]\n",
       "Name: comment_text, dtype: object"
      ]
     },
     "execution_count": 61,
     "metadata": {},
     "output_type": "execute_result"
    }
   ],
   "source": [
    "x_tr_clean_lem[:5]"
   ]
  },
  {
   "cell_type": "code",
   "execution_count": 62,
   "metadata": {},
   "outputs": [],
   "source": [
    "def get_wordnet_pos(tag):\n",
    "    \"\"\"\n",
    "    Questa funzione trasforma il treebank pos_tag\n",
    "    nel tag Wordnet corrispondente\n",
    "    \n",
    "    tag: a string\n",
    "    \"\"\"\n",
    "    \n",
    "    if tag.startswith('J'):\n",
    "        return wordnet.ADJ\n",
    "    elif tag.startswith('V'):\n",
    "        return wordnet.VERB\n",
    "    elif tag.startswith('N'):\n",
    "        return wordnet.NOUN\n",
    "    elif tag.startswith('R'):\n",
    "        return wordnet.ADV\n",
    "    else:\n",
    "        return wordnet.NOUN"
   ]
  },
  {
   "cell_type": "code",
   "execution_count": 63,
   "metadata": {},
   "outputs": [],
   "source": [
    "x_tr_pos = x_tr_clean_lem.apply(lambda x: nltk.pos_tag(x))"
   ]
  },
  {
   "cell_type": "code",
   "execution_count": 64,
   "metadata": {},
   "outputs": [],
   "source": [
    "x_ts_pos = x_ts_clean_lem.apply(lambda x: nltk.pos_tag(x))"
   ]
  },
  {
   "cell_type": "code",
   "execution_count": 65,
   "metadata": {},
   "outputs": [
    {
     "data": {
      "text/plain": [
       "0    [(explanation, NN), (edits, NNS), (made, VBN),...\n",
       "1    [(d'aww, NN), (matches, NNS), (background, IN)...\n",
       "2    [(hey, NN), (man, NN), (really, RB), (trying, ...\n",
       "3    [(``, ``), (make, VB), (real, JJ), (suggestion...\n",
       "4    [(sir, NN), (hero, NN), (chance, NN), (remembe...\n",
       "Name: comment_text, dtype: object"
      ]
     },
     "execution_count": 65,
     "metadata": {},
     "output_type": "execute_result"
    }
   ],
   "source": [
    "x_tr_pos[:5]"
   ]
  },
  {
   "cell_type": "code",
   "execution_count": 66,
   "metadata": {},
   "outputs": [],
   "source": [
    "x_tr_lem = x_tr_pos.apply(lambda x: [lemmatizer.lemmatize(t[0],get_wordnet_pos(t[1])) for t in x])"
   ]
  },
  {
   "cell_type": "code",
   "execution_count": 67,
   "metadata": {},
   "outputs": [],
   "source": [
    "x_ts_lem = x_ts_pos.apply(lambda x: [lemmatizer.lemmatize(t[0], get_wordnet_pos(t[1])) for t in x])"
   ]
  },
  {
   "cell_type": "code",
   "execution_count": 68,
   "metadata": {},
   "outputs": [
    {
     "data": {
      "text/plain": [
       "0    [explanation, edits, make, username, hardcore,...\n",
       "1    [d'aww, match, background, colour, seemingly, ...\n",
       "2    [hey, man, really, try, edit, war, guy, consta...\n",
       "3    [``, make, real, suggestion, improvement, wond...\n",
       "4                  [sir, hero, chance, remember, page]\n",
       "Name: comment_text, dtype: object"
      ]
     },
     "execution_count": 68,
     "metadata": {},
     "output_type": "execute_result"
    }
   ],
   "source": [
    "x_tr_lem[:5]"
   ]
  },
  {
   "cell_type": "code",
   "execution_count": 69,
   "metadata": {},
   "outputs": [],
   "source": [
    "x_tr_tokenized = tokenizer.texts_to_sequences(x_tr_lem)\n",
    "x_ts_tokenized = tokenizer.texts_to_sequences(x_ts_lem)"
   ]
  },
  {
   "cell_type": "code",
   "execution_count": 70,
   "metadata": {},
   "outputs": [],
   "source": [
    "# pad sequences: every sample with the same length\n",
    "\n",
    "X_tr_3 = pad_sequences(x_tr_tokenized, maxlen=max_len)\n",
    "X_ts_3 = pad_sequences(x_ts_tokenized, maxlen=max_len)"
   ]
  },
  {
   "cell_type": "markdown",
   "metadata": {},
   "source": [
    "# Stemming"
   ]
  },
  {
   "cell_type": "code",
   "execution_count": 71,
   "metadata": {},
   "outputs": [],
   "source": [
    "ps = PorterStemmer()\n",
    "ls = LancasterStemmer()"
   ]
  },
  {
   "cell_type": "code",
   "execution_count": 72,
   "metadata": {},
   "outputs": [],
   "source": [
    "x_tr_stem = x_tr_tok.apply(lambda x: [ls.stem(t) for t in x])"
   ]
  },
  {
   "cell_type": "code",
   "execution_count": 73,
   "metadata": {},
   "outputs": [],
   "source": [
    "x_ts_stem = x_ts_tok.apply(lambda x: [ls.stem(t) for t in x])"
   ]
  },
  {
   "cell_type": "code",
   "execution_count": 74,
   "metadata": {},
   "outputs": [
    {
     "data": {
      "text/plain": [
       "0    [expl, why, the, edit, mad, und, my, usernam, ...\n",
       "1    [d'aww, !, he, match, thi, background, colo, i...\n",
       "2    [hey, man, ,, i, am, real, not, try, to, edit,...\n",
       "3    [``, mor, i, can, not, mak, any, real, suggest...\n",
       "4    [you, ,, sir, ,, ar, my, hero, ., any, chant, ...\n",
       "Name: comment_text, dtype: object"
      ]
     },
     "execution_count": 74,
     "metadata": {},
     "output_type": "execute_result"
    }
   ],
   "source": [
    "x_tr_stem[:5]"
   ]
  },
  {
   "cell_type": "code",
   "execution_count": 75,
   "metadata": {},
   "outputs": [],
   "source": [
    "# everything in lowercase and removing stop words\n",
    "\n",
    "x_tr_clean_stem = x_tr_stem.apply(lambda x: [w.lower() for w in x])\n",
    "x_ts_clean_stem = x_ts_stem.apply(lambda x: [w.lower() for w in x])\n",
    "x_tr_clean_stem = x_tr_clean_stem.apply(lambda x: ([w for w in x if w not in (list_sw)]))\n",
    "x_ts_clean_stem = x_ts_clean_stem.apply(lambda x: ([w for w in x if w not in (list_sw)]))"
   ]
  },
  {
   "cell_type": "code",
   "execution_count": 76,
   "metadata": {},
   "outputs": [
    {
     "data": {
      "text/plain": [
       "0    [expl, edit, mad, und, usernam, hardc, metalli...\n",
       "1    [d'aww, !, match, thi, background, colo, seem,...\n",
       "2    [hey, man, ,, real, try, edit, war, ., thi, gu...\n",
       "3    [``, mor, mak, real, suggest, improv, -, wond,...\n",
       "4      [,, sir, ,, ar, hero, ., chant, rememb, pag, ?]\n",
       "Name: comment_text, dtype: object"
      ]
     },
     "execution_count": 76,
     "metadata": {},
     "output_type": "execute_result"
    }
   ],
   "source": [
    "x_tr_clean_stem[:5]"
   ]
  },
  {
   "cell_type": "code",
   "execution_count": 77,
   "metadata": {},
   "outputs": [],
   "source": [
    "# removing digits and punctuation\n",
    "\n",
    "x_tr_clean_stem = x_tr_clean_stem.apply(lambda x: ([w for w in x if w not in (punctuation)]))\n",
    "x_ts_clean_stem = x_ts_clean_stem.apply(lambda x: ([w for w in x if w not in (punctuation)]))\n",
    "x_tr_clean_stem = x_tr_clean_stem.apply(lambda x: ([w for w in x if w not in (digits)]))\n",
    "x_ts_clean_stem = x_ts_clean_stem.apply(lambda x: ([w for w in x if w not in (digits)]))"
   ]
  },
  {
   "cell_type": "code",
   "execution_count": 78,
   "metadata": {},
   "outputs": [
    {
     "data": {
      "text/plain": [
       "0    [expl, edit, mad, und, usernam, hardc, metalli...\n",
       "1    [d'aww, match, thi, background, colo, seem, st...\n",
       "2    [hey, man, real, try, edit, war, thi, guy, con...\n",
       "3    [``, mor, mak, real, suggest, improv, wond, se...\n",
       "4                  [sir, ar, hero, chant, rememb, pag]\n",
       "Name: comment_text, dtype: object"
      ]
     },
     "execution_count": 78,
     "metadata": {},
     "output_type": "execute_result"
    }
   ],
   "source": [
    "x_tr_clean_stem[:5]"
   ]
  },
  {
   "cell_type": "code",
   "execution_count": 79,
   "metadata": {},
   "outputs": [],
   "source": [
    "x_tr_toks = tokenizer.texts_to_sequences(x_tr_clean_stem)\n",
    "x_ts_toks = tokenizer.texts_to_sequences(x_ts_clean_stem)"
   ]
  },
  {
   "cell_type": "code",
   "execution_count": 80,
   "metadata": {},
   "outputs": [],
   "source": [
    "X_tr_4 = pad_sequences(x_tr_toks, maxlen=max_len)\n",
    "X_ts_4 = pad_sequences(x_ts_toks, maxlen=max_len)"
   ]
  },
  {
   "cell_type": "markdown",
   "metadata": {},
   "source": [
    "# GloVe"
   ]
  },
  {
   "cell_type": "code",
   "execution_count": 81,
   "metadata": {},
   "outputs": [],
   "source": [
    "emb_index_glove = {}\n",
    "\n",
    "file_glove = open('data/glove.twitter.27B/glove.6B.200d.txt')\n",
    "\n",
    "for line in file_glove:\n",
    "\n",
    "    l = line.split()\n",
    "    word = l[0]\n",
    "    coefs = np.asarray(l[1:], dtype='float32')\n",
    "    emb_index_glove[word] = coefs"
   ]
  },
  {
   "cell_type": "code",
   "execution_count": 82,
   "metadata": {},
   "outputs": [],
   "source": [
    "file_glove.close()"
   ]
  },
  {
   "cell_type": "code",
   "execution_count": 83,
   "metadata": {},
   "outputs": [
    {
     "data": {
      "text/plain": [
       "400000"
      ]
     },
     "execution_count": 83,
     "metadata": {},
     "output_type": "execute_result"
    }
   ],
   "source": [
    "len(emb_index_glove)"
   ]
  },
  {
   "cell_type": "code",
   "execution_count": 84,
   "metadata": {},
   "outputs": [
    {
     "name": "stderr",
     "output_type": "stream",
     "text": [
      "/home/chiarapower/anaconda3/envs/tensorflow_gpuenv/lib/python3.7/site-packages/IPython/core/interactiveshell.py:3254: FutureWarning: arrays to stack must be passed as a \"sequence\" type such as list or tuple. Support for non-sequence iterables such as generators is deprecated as of NumPy 1.16 and will raise an error in the future.\n",
      "  if (await self.run_code(code, result,  async_=asy)):\n"
     ]
    }
   ],
   "source": [
    "# for random initialization\n",
    "\n",
    "all_embs_glove = np.stack(emb_index_glove.values())\n",
    "emb_glove_mean, emb_glove_std = all_embs_glove.mean(), all_embs_glove.std()\n",
    "emb_matrix_glove = np.random.normal(emb_glove_mean, emb_glove_std, (max_features,max_len))"
   ]
  },
  {
   "cell_type": "code",
   "execution_count": 85,
   "metadata": {},
   "outputs": [],
   "source": [
    "for word, i in tokenizer.word_index.items():\n",
    "    \n",
    "    if i>=max_features: continue\n",
    "    \n",
    "    emb_vector = emb_index_glove.get(word)\n",
    "    \n",
    "    if emb_vector is not None:\n",
    "        \n",
    "        emb_matrix_glove[i] = emb_vector"
   ]
  },
  {
   "cell_type": "markdown",
   "metadata": {},
   "source": [
    "# FastText"
   ]
  },
  {
   "cell_type": "code",
   "execution_count": 86,
   "metadata": {},
   "outputs": [],
   "source": [
    "emb_index_ft = {}\n",
    "\n",
    "file_ft = open('dataft/fil9.vec')\n",
    "\n",
    "for line in file_ft:\n",
    "\n",
    "    l = line.split()\n",
    "    word = l[0]\n",
    "    coefs = np.asarray(l[1:], dtype='float32')\n",
    "    emb_index_ft[word] = coefs\n"
   ]
  },
  {
   "cell_type": "code",
   "execution_count": 87,
   "metadata": {},
   "outputs": [],
   "source": [
    "file_ft.close()"
   ]
  },
  {
   "cell_type": "code",
   "execution_count": 88,
   "metadata": {},
   "outputs": [
    {
     "data": {
      "text/plain": [
       "218316"
      ]
     },
     "execution_count": 88,
     "metadata": {},
     "output_type": "execute_result"
    }
   ],
   "source": [
    "len(emb_index_ft)"
   ]
  },
  {
   "cell_type": "code",
   "execution_count": 89,
   "metadata": {},
   "outputs": [],
   "source": [
    "# for random initialization\n",
    "\n",
    "all_embs_ft = np.stack(emb_index_ft.values())\n",
    "emb_ft_mean, emb_ft_std = all_embs_ft.mean(), all_embs_ft.std()\n",
    "emb_matrix_ft = np.random.normal(emb_ft_mean, emb_ft_std, (max_features,max_len))"
   ]
  },
  {
   "cell_type": "code",
   "execution_count": 90,
   "metadata": {},
   "outputs": [],
   "source": [
    "for word, i in tokenizer.word_index.items():\n",
    "    \n",
    "    if i >= max_features: continue\n",
    "    \n",
    "    emb_vector = emb_index_ft.get(word)\n",
    "    \n",
    "    if emb_vector is not None:\n",
    "        \n",
    "        emb_matrix_ft[i] = emb_vector"
   ]
  },
  {
   "cell_type": "code",
   "execution_count": 91,
   "metadata": {},
   "outputs": [
    {
     "data": {
      "text/plain": [
       "(30000, 200)"
      ]
     },
     "execution_count": 91,
     "metadata": {},
     "output_type": "execute_result"
    }
   ],
   "source": [
    "emb_matrix_glove.shape"
   ]
  },
  {
   "cell_type": "code",
   "execution_count": 92,
   "metadata": {},
   "outputs": [
    {
     "data": {
      "text/plain": [
       "(30000, 200)"
      ]
     },
     "execution_count": 92,
     "metadata": {},
     "output_type": "execute_result"
    }
   ],
   "source": [
    "emb_matrix_ft.shape"
   ]
  },
  {
   "cell_type": "markdown",
   "metadata": {},
   "source": [
    "# Save in files"
   ]
  },
  {
   "cell_type": "code",
   "execution_count": 93,
   "metadata": {},
   "outputs": [
    {
     "data": {
      "text/plain": [
       "159571"
      ]
     },
     "execution_count": 93,
     "metadata": {},
     "output_type": "execute_result"
    }
   ],
   "source": [
    "len(X_tr_1)"
   ]
  },
  {
   "cell_type": "code",
   "execution_count": 94,
   "metadata": {},
   "outputs": [
    {
     "data": {
      "text/plain": [
       "159571"
      ]
     },
     "execution_count": 94,
     "metadata": {},
     "output_type": "execute_result"
    }
   ],
   "source": [
    "len(X_tr_2)"
   ]
  },
  {
   "cell_type": "code",
   "execution_count": 95,
   "metadata": {},
   "outputs": [
    {
     "data": {
      "text/plain": [
       "159571"
      ]
     },
     "execution_count": 95,
     "metadata": {},
     "output_type": "execute_result"
    }
   ],
   "source": [
    "len(X_tr_3)"
   ]
  },
  {
   "cell_type": "code",
   "execution_count": 96,
   "metadata": {},
   "outputs": [
    {
     "data": {
      "text/plain": [
       "159571"
      ]
     },
     "execution_count": 96,
     "metadata": {},
     "output_type": "execute_result"
    }
   ],
   "source": [
    "len(X_tr_4)"
   ]
  },
  {
   "cell_type": "code",
   "execution_count": 97,
   "metadata": {},
   "outputs": [
    {
     "data": {
      "text/plain": [
       "153164"
      ]
     },
     "execution_count": 97,
     "metadata": {},
     "output_type": "execute_result"
    }
   ],
   "source": [
    "len(X_ts_1)"
   ]
  },
  {
   "cell_type": "code",
   "execution_count": 98,
   "metadata": {},
   "outputs": [
    {
     "data": {
      "text/plain": [
       "153164"
      ]
     },
     "execution_count": 98,
     "metadata": {},
     "output_type": "execute_result"
    }
   ],
   "source": [
    "len(X_ts_2)"
   ]
  },
  {
   "cell_type": "code",
   "execution_count": 99,
   "metadata": {},
   "outputs": [
    {
     "data": {
      "text/plain": [
       "153164"
      ]
     },
     "execution_count": 99,
     "metadata": {},
     "output_type": "execute_result"
    }
   ],
   "source": [
    "len(X_ts_3)"
   ]
  },
  {
   "cell_type": "code",
   "execution_count": 100,
   "metadata": {},
   "outputs": [
    {
     "data": {
      "text/plain": [
       "153164"
      ]
     },
     "execution_count": 100,
     "metadata": {},
     "output_type": "execute_result"
    }
   ],
   "source": [
    "len(X_ts_4)"
   ]
  },
  {
   "cell_type": "code",
   "execution_count": 47,
   "metadata": {},
   "outputs": [],
   "source": [
    "np.savetxt(\"x_tr_1.csv\", X_tr_1)"
   ]
  },
  {
   "cell_type": "code",
   "execution_count": 48,
   "metadata": {},
   "outputs": [],
   "source": [
    "np.savetxt(\"x_ts_1.csv\", X_ts_1)"
   ]
  },
  {
   "cell_type": "code",
   "execution_count": 103,
   "metadata": {},
   "outputs": [],
   "source": [
    "np.savetxt(\"x_tr_2.csv\", X_tr_2)"
   ]
  },
  {
   "cell_type": "code",
   "execution_count": 104,
   "metadata": {},
   "outputs": [],
   "source": [
    "np.savetxt(\"x_ts_2.csv\", X_ts_2)"
   ]
  },
  {
   "cell_type": "code",
   "execution_count": 105,
   "metadata": {},
   "outputs": [],
   "source": [
    "np.savetxt(\"x_tr_3.csv\", X_tr_3)"
   ]
  },
  {
   "cell_type": "code",
   "execution_count": 106,
   "metadata": {},
   "outputs": [],
   "source": [
    "np.savetxt(\"x_ts_3.csv\", X_ts_3)"
   ]
  },
  {
   "cell_type": "code",
   "execution_count": 107,
   "metadata": {},
   "outputs": [],
   "source": [
    "np.savetxt(\"x_tr_4.csv\", X_tr_4)"
   ]
  },
  {
   "cell_type": "code",
   "execution_count": 108,
   "metadata": {},
   "outputs": [],
   "source": [
    "np.savetxt(\"x_ts_4.csv\", X_ts_4)"
   ]
  },
  {
   "cell_type": "code",
   "execution_count": 109,
   "metadata": {},
   "outputs": [],
   "source": [
    "np.savetxt(\"emb_matr_glove.csv\", emb_matrix_glove)"
   ]
  },
  {
   "cell_type": "code",
   "execution_count": 110,
   "metadata": {},
   "outputs": [],
   "source": [
    "np.savetxt(\"emb_matr_ft.csv\", emb_matrix_ft)"
   ]
  },
  {
   "cell_type": "code",
   "execution_count": null,
   "metadata": {},
   "outputs": [],
   "source": []
  },
  {
   "cell_type": "code",
   "execution_count": null,
   "metadata": {},
   "outputs": [],
   "source": []
  }
 ],
 "metadata": {
  "kernelspec": {
   "display_name": "Python [conda env:tensorflow_gpuenv] *",
   "language": "python",
   "name": "conda-env-tensorflow_gpuenv-py"
  },
  "language_info": {
   "codemirror_mode": {
    "name": "ipython",
    "version": 3
   },
   "file_extension": ".py",
   "mimetype": "text/x-python",
   "name": "python",
   "nbconvert_exporter": "python",
   "pygments_lexer": "ipython3",
   "version": "3.7.7"
  }
 },
 "nbformat": 4,
 "nbformat_minor": 4
}
