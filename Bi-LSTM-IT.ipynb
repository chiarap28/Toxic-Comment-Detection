{
 "cells": [
  {
   "cell_type": "code",
   "execution_count": 1,
   "metadata": {},
   "outputs": [
    {
     "name": "stderr",
     "output_type": "stream",
     "text": [
      "Using TensorFlow backend.\n"
     ]
    }
   ],
   "source": [
    "import os, re\n",
    "import pandas as pd\n",
    "\n",
    "import numpy as np\n",
    "import tensorflow as tf\n",
    "import matplotlib.pyplot as plt\n",
    "import torch\n",
    "\n",
    "from keras.layers import Dense, Input, LSTM, Embedding, Dropout, Bidirectional\n",
    "from keras.layers import GlobalMaxPool1D, Conv1D, MaxPooling1D, Flatten\n",
    "from keras.models import Model, Sequential\n",
    "from keras import initializers, regularizers, constraints, optimizers, layers\n",
    "from keras.callbacks.callbacks import EarlyStopping, ModelCheckpoint\n",
    "from keras.models import load_model"
   ]
  },
  {
   "cell_type": "markdown",
   "metadata": {},
   "source": [
    "# Open and save data and weights"
   ]
  },
  {
   "cell_type": "code",
   "execution_count": 2,
   "metadata": {},
   "outputs": [],
   "source": [
    "x_tr_1 = np.genfromtxt('data_preproc/x_tr_1_it.csv')"
   ]
  },
  {
   "cell_type": "code",
   "execution_count": 3,
   "metadata": {},
   "outputs": [
    {
     "data": {
      "text/plain": [
       "(7410, 200)"
      ]
     },
     "execution_count": 3,
     "metadata": {},
     "output_type": "execute_result"
    }
   ],
   "source": [
    "x_tr_1.shape"
   ]
  },
  {
   "cell_type": "code",
   "execution_count": 4,
   "metadata": {},
   "outputs": [],
   "source": [
    "x_ts_1 = np.genfromtxt('data_preproc/x_ts_1_it.csv')"
   ]
  },
  {
   "cell_type": "code",
   "execution_count": 5,
   "metadata": {},
   "outputs": [
    {
     "data": {
      "text/plain": [
       "(1998, 200)"
      ]
     },
     "execution_count": 5,
     "metadata": {},
     "output_type": "execute_result"
    }
   ],
   "source": [
    "x_ts_1.shape"
   ]
  },
  {
   "cell_type": "code",
   "execution_count": 6,
   "metadata": {},
   "outputs": [],
   "source": [
    "x_tr_2 = np.genfromtxt('data_preproc/x_tr_2_it.csv')"
   ]
  },
  {
   "cell_type": "code",
   "execution_count": 7,
   "metadata": {},
   "outputs": [
    {
     "data": {
      "text/plain": [
       "(7410, 200)"
      ]
     },
     "execution_count": 7,
     "metadata": {},
     "output_type": "execute_result"
    }
   ],
   "source": [
    "x_tr_2.shape"
   ]
  },
  {
   "cell_type": "code",
   "execution_count": 8,
   "metadata": {},
   "outputs": [],
   "source": [
    "x_ts_2 = np.genfromtxt('data_preproc/x_ts_2_it.csv')"
   ]
  },
  {
   "cell_type": "code",
   "execution_count": 9,
   "metadata": {},
   "outputs": [
    {
     "data": {
      "text/plain": [
       "(1998, 200)"
      ]
     },
     "execution_count": 9,
     "metadata": {},
     "output_type": "execute_result"
    }
   ],
   "source": [
    "x_ts_2.shape"
   ]
  },
  {
   "cell_type": "code",
   "execution_count": 10,
   "metadata": {},
   "outputs": [],
   "source": [
    "x_tr_3 = np.genfromtxt('data_preproc/x_tr_3_it.csv')"
   ]
  },
  {
   "cell_type": "code",
   "execution_count": 11,
   "metadata": {},
   "outputs": [
    {
     "data": {
      "text/plain": [
       "(7410, 200)"
      ]
     },
     "execution_count": 11,
     "metadata": {},
     "output_type": "execute_result"
    }
   ],
   "source": [
    "x_tr_3.shape"
   ]
  },
  {
   "cell_type": "code",
   "execution_count": 12,
   "metadata": {},
   "outputs": [],
   "source": [
    "x_ts_3 = np.genfromtxt('data_preproc/x_ts_3_it.csv')"
   ]
  },
  {
   "cell_type": "code",
   "execution_count": 13,
   "metadata": {},
   "outputs": [
    {
     "data": {
      "text/plain": [
       "(1998, 200)"
      ]
     },
     "execution_count": 13,
     "metadata": {},
     "output_type": "execute_result"
    }
   ],
   "source": [
    "x_ts_3.shape"
   ]
  },
  {
   "cell_type": "code",
   "execution_count": 14,
   "metadata": {},
   "outputs": [],
   "source": [
    "x_tr_4 = np.genfromtxt('data_preproc/x_tr_4_it.csv')"
   ]
  },
  {
   "cell_type": "code",
   "execution_count": 15,
   "metadata": {},
   "outputs": [
    {
     "data": {
      "text/plain": [
       "(7410, 200)"
      ]
     },
     "execution_count": 15,
     "metadata": {},
     "output_type": "execute_result"
    }
   ],
   "source": [
    "x_tr_4.shape"
   ]
  },
  {
   "cell_type": "code",
   "execution_count": 16,
   "metadata": {},
   "outputs": [],
   "source": [
    "x_ts_4 = np.genfromtxt('data_preproc/x_ts_4_it.csv')"
   ]
  },
  {
   "cell_type": "code",
   "execution_count": 17,
   "metadata": {},
   "outputs": [
    {
     "data": {
      "text/plain": [
       "(1998, 200)"
      ]
     },
     "execution_count": 17,
     "metadata": {},
     "output_type": "execute_result"
    }
   ],
   "source": [
    "x_ts_4.shape"
   ]
  },
  {
   "cell_type": "code",
   "execution_count": 18,
   "metadata": {},
   "outputs": [],
   "source": [
    "emb_matrix_ft = np.genfromtxt('data_preproc/emb_matr_ft_it.csv')"
   ]
  },
  {
   "cell_type": "code",
   "execution_count": 19,
   "metadata": {},
   "outputs": [
    {
     "data": {
      "text/plain": [
       "(30000, 200)"
      ]
     },
     "execution_count": 19,
     "metadata": {},
     "output_type": "execute_result"
    }
   ],
   "source": [
    "emb_matrix_ft.shape"
   ]
  },
  {
   "cell_type": "code",
   "execution_count": 23,
   "metadata": {},
   "outputs": [],
   "source": [
    "train = pd.read_csv('data_it/training_set_sentipolc16.csv/training_set_sentipolc16.csv')\n",
    "col = ['opos', 'oneg']\n",
    "y_tr = train[col].values"
   ]
  },
  {
   "cell_type": "markdown",
   "metadata": {},
   "source": [
    "# Build the model"
   ]
  },
  {
   "cell_type": "code",
   "execution_count": 24,
   "metadata": {},
   "outputs": [],
   "source": [
    "MAX_LEN = 200\n",
    "MAX_FEATURE = 30000"
   ]
  },
  {
   "cell_type": "code",
   "execution_count": 25,
   "metadata": {},
   "outputs": [],
   "source": [
    "def build_model():\n",
    "    model = Sequential()\n",
    "    model.add(Embedding(MAX_FEATURE, 200, input_length=MAX_LEN, weights=[emb_matrix_ft]))\n",
    "    model.add(Bidirectional(LSTM(units=64, dropout=0.3, recurrent_dropout=0.3, return_sequences=True)))\n",
    "    model.add(Flatten())\n",
    "    model.add(Dense(100, activation='relu'))\n",
    "    model.add(Dropout(rate=0.1))\n",
    "    model.add(Dense(2, activation='sigmoid'))\n",
    "    model.compile(optimizer='adam', loss='binary_crossentropy', metrics=['accuracy'])\n",
    "    \n",
    "    return model"
   ]
  },
  {
   "cell_type": "code",
   "execution_count": 26,
   "metadata": {},
   "outputs": [],
   "source": [
    "cp = ModelCheckpoint('models_it/best_bi-lstm_IT_pos.h5', monitor='val_accuracy', verbose=1, save_best_only=True)\n",
    "es = EarlyStopping(patience=10, verbose=1)\n",
    "callbacks = [cp, es]"
   ]
  },
  {
   "cell_type": "code",
   "execution_count": 27,
   "metadata": {},
   "outputs": [
    {
     "name": "stderr",
     "output_type": "stream",
     "text": [
      "/home/chiarapower/anaconda3/envs/tensorflow_gpuenv/lib/python3.7/site-packages/tensorflow_core/python/framework/indexed_slices.py:433: UserWarning: Converting sparse IndexedSlices to a dense Tensor of unknown shape. This may consume a large amount of memory.\n",
      "  \"Converting sparse IndexedSlices to a dense Tensor of unknown shape. \"\n"
     ]
    },
    {
     "name": "stdout",
     "output_type": "stream",
     "text": [
      "Train on 6669 samples, validate on 741 samples\n",
      "Epoch 1/50\n",
      "6669/6669 [==============================] - 17s 3ms/step - loss: 0.6292 - accuracy: 0.6534 - val_loss: 0.5280 - val_accuracy: 0.7760\n",
      "\n",
      "Epoch 00001: val_accuracy improved from -inf to 0.77598, saving model to models_it//best_bi-lstm_IT_pos.h5\n",
      "Epoch 2/50\n",
      "6669/6669 [==============================] - 19s 3ms/step - loss: 0.5442 - accuracy: 0.7246 - val_loss: 0.5628 - val_accuracy: 0.7206\n",
      "\n",
      "Epoch 00002: val_accuracy did not improve from 0.77598\n",
      "Epoch 3/50\n",
      "6669/6669 [==============================] - 19s 3ms/step - loss: 0.3519 - accuracy: 0.8466 - val_loss: 0.7314 - val_accuracy: 0.6343\n",
      "\n",
      "Epoch 00003: val_accuracy did not improve from 0.77598\n",
      "Epoch 4/50\n",
      "6669/6669 [==============================] - 19s 3ms/step - loss: 0.1940 - accuracy: 0.9250 - val_loss: 0.6367 - val_accuracy: 0.7470\n",
      "\n",
      "Epoch 00004: val_accuracy did not improve from 0.77598\n",
      "Epoch 5/50\n",
      "6669/6669 [==============================] - 19s 3ms/step - loss: 0.1023 - accuracy: 0.9621 - val_loss: 0.8416 - val_accuracy: 0.7139\n",
      "\n",
      "Epoch 00005: val_accuracy did not improve from 0.77598\n",
      "Epoch 6/50\n",
      "6669/6669 [==============================] - 19s 3ms/step - loss: 0.0499 - accuracy: 0.9828 - val_loss: 1.1511 - val_accuracy: 0.6991\n",
      "\n",
      "Epoch 00006: val_accuracy did not improve from 0.77598\n",
      "Epoch 7/50\n",
      "6669/6669 [==============================] - 20s 3ms/step - loss: 0.0283 - accuracy: 0.9902 - val_loss: 1.2605 - val_accuracy: 0.7146\n",
      "\n",
      "Epoch 00007: val_accuracy did not improve from 0.77598\n",
      "Epoch 8/50\n",
      "6669/6669 [==============================] - 19s 3ms/step - loss: 0.0197 - accuracy: 0.9931 - val_loss: 1.5239 - val_accuracy: 0.6748\n",
      "\n",
      "Epoch 00008: val_accuracy did not improve from 0.77598\n",
      "Epoch 9/50\n",
      "6669/6669 [==============================] - 19s 3ms/step - loss: 0.0148 - accuracy: 0.9946 - val_loss: 1.6397 - val_accuracy: 0.6646\n",
      "\n",
      "Epoch 00009: val_accuracy did not improve from 0.77598\n",
      "Epoch 10/50\n",
      "6669/6669 [==============================] - 20s 3ms/step - loss: 0.0135 - accuracy: 0.9950 - val_loss: 1.5652 - val_accuracy: 0.7004\n",
      "\n",
      "Epoch 00010: val_accuracy did not improve from 0.77598\n",
      "Epoch 11/50\n",
      "6669/6669 [==============================] - 18s 3ms/step - loss: 0.0107 - accuracy: 0.9963 - val_loss: 1.6850 - val_accuracy: 0.6808\n",
      "\n",
      "Epoch 00011: val_accuracy did not improve from 0.77598\n",
      "Epoch 00011: early stopping\n"
     ]
    }
   ],
   "source": [
    "model1 = build_model()\n",
    "\n",
    "history1_1 = model1.fit(x_tr_1, y_tr, batch_size=128, epochs=50, validation_split=0.1, callbacks=callbacks)"
   ]
  },
  {
   "cell_type": "code",
   "execution_count": 28,
   "metadata": {},
   "outputs": [
    {
     "name": "stderr",
     "output_type": "stream",
     "text": [
      "/home/chiarapower/anaconda3/envs/tensorflow_gpuenv/lib/python3.7/site-packages/tensorflow_core/python/framework/indexed_slices.py:433: UserWarning: Converting sparse IndexedSlices to a dense Tensor of unknown shape. This may consume a large amount of memory.\n",
      "  \"Converting sparse IndexedSlices to a dense Tensor of unknown shape. \"\n"
     ]
    },
    {
     "name": "stdout",
     "output_type": "stream",
     "text": [
      "Train on 6669 samples, validate on 741 samples\n",
      "Epoch 1/50\n",
      "6669/6669 [==============================] - 19s 3ms/step - loss: 0.6389 - accuracy: 0.6478 - val_loss: 0.5515 - val_accuracy: 0.8124\n",
      "\n",
      "Epoch 00001: val_accuracy improved from 0.77598 to 0.81242, saving model to models_it//best_bi-lstm_IT_pos.h5\n",
      "Epoch 2/50\n",
      "6669/6669 [==============================] - 20s 3ms/step - loss: 0.5151 - accuracy: 0.7525 - val_loss: 0.5236 - val_accuracy: 0.7355\n",
      "\n",
      "Epoch 00002: val_accuracy did not improve from 0.81242\n",
      "Epoch 3/50\n",
      "6669/6669 [==============================] - 18s 3ms/step - loss: 0.3074 - accuracy: 0.8722 - val_loss: 0.5951 - val_accuracy: 0.7456\n",
      "\n",
      "Epoch 00003: val_accuracy did not improve from 0.81242\n",
      "Epoch 4/50\n",
      "6669/6669 [==============================] - 18s 3ms/step - loss: 0.1492 - accuracy: 0.9435 - val_loss: 0.6383 - val_accuracy: 0.7557\n",
      "\n",
      "Epoch 00004: val_accuracy did not improve from 0.81242\n",
      "Epoch 5/50\n",
      "6669/6669 [==============================] - 19s 3ms/step - loss: 0.0752 - accuracy: 0.9728 - val_loss: 1.1768 - val_accuracy: 0.6835\n",
      "\n",
      "Epoch 00005: val_accuracy did not improve from 0.81242\n",
      "Epoch 6/50\n",
      "6669/6669 [==============================] - 18s 3ms/step - loss: 0.0441 - accuracy: 0.9845 - val_loss: 1.2116 - val_accuracy: 0.7058\n",
      "\n",
      "Epoch 00006: val_accuracy did not improve from 0.81242\n",
      "Epoch 7/50\n",
      "6669/6669 [==============================] - 20s 3ms/step - loss: 0.0293 - accuracy: 0.9894 - val_loss: 1.2675 - val_accuracy: 0.7159\n",
      "\n",
      "Epoch 00007: val_accuracy did not improve from 0.81242\n",
      "Epoch 8/50\n",
      "6669/6669 [==============================] - 19s 3ms/step - loss: 0.0213 - accuracy: 0.9934 - val_loss: 1.4966 - val_accuracy: 0.6964\n",
      "\n",
      "Epoch 00008: val_accuracy did not improve from 0.81242\n",
      "Epoch 9/50\n",
      "6669/6669 [==============================] - 19s 3ms/step - loss: 0.0142 - accuracy: 0.9950 - val_loss: 1.6308 - val_accuracy: 0.6896\n",
      "\n",
      "Epoch 00009: val_accuracy did not improve from 0.81242\n",
      "Epoch 10/50\n",
      "6669/6669 [==============================] - 18s 3ms/step - loss: 0.0119 - accuracy: 0.9966 - val_loss: 1.7061 - val_accuracy: 0.6822\n",
      "\n",
      "Epoch 00010: val_accuracy did not improve from 0.81242\n",
      "Epoch 11/50\n",
      "6669/6669 [==============================] - 20s 3ms/step - loss: 0.0103 - accuracy: 0.9972 - val_loss: 1.6942 - val_accuracy: 0.6856\n",
      "\n",
      "Epoch 00011: val_accuracy did not improve from 0.81242\n",
      "Epoch 12/50\n",
      "6669/6669 [==============================] - 20s 3ms/step - loss: 0.0099 - accuracy: 0.9972 - val_loss: 1.8512 - val_accuracy: 0.6862\n",
      "\n",
      "Epoch 00012: val_accuracy did not improve from 0.81242\n",
      "Epoch 00012: early stopping\n"
     ]
    }
   ],
   "source": [
    "model2 = build_model()\n",
    "\n",
    "history1_2 = model2.fit(x_tr_2, y_tr, batch_size=128, epochs=50, validation_split=0.1, callbacks=callbacks)"
   ]
  },
  {
   "cell_type": "code",
   "execution_count": 29,
   "metadata": {},
   "outputs": [
    {
     "name": "stderr",
     "output_type": "stream",
     "text": [
      "/home/chiarapower/anaconda3/envs/tensorflow_gpuenv/lib/python3.7/site-packages/tensorflow_core/python/framework/indexed_slices.py:433: UserWarning: Converting sparse IndexedSlices to a dense Tensor of unknown shape. This may consume a large amount of memory.\n",
      "  \"Converting sparse IndexedSlices to a dense Tensor of unknown shape. \"\n"
     ]
    },
    {
     "name": "stdout",
     "output_type": "stream",
     "text": [
      "Train on 6669 samples, validate on 741 samples\n",
      "Epoch 1/50\n",
      "6669/6669 [==============================] - 22s 3ms/step - loss: 0.6543 - accuracy: 0.6323 - val_loss: 0.5637 - val_accuracy: 0.7834\n",
      "\n",
      "Epoch 00001: val_accuracy did not improve from 0.81242\n",
      "Epoch 2/50\n",
      "6669/6669 [==============================] - 20s 3ms/step - loss: 0.5789 - accuracy: 0.7003 - val_loss: 0.4827 - val_accuracy: 0.7760\n",
      "\n",
      "Epoch 00002: val_accuracy did not improve from 0.81242\n",
      "Epoch 3/50\n",
      "6669/6669 [==============================] - 21s 3ms/step - loss: 0.4510 - accuracy: 0.7947 - val_loss: 0.5283 - val_accuracy: 0.7368\n",
      "\n",
      "Epoch 00003: val_accuracy did not improve from 0.81242\n",
      "Epoch 4/50\n",
      "6669/6669 [==============================] - 21s 3ms/step - loss: 0.3350 - accuracy: 0.8595 - val_loss: 0.6347 - val_accuracy: 0.7072\n",
      "\n",
      "Epoch 00004: val_accuracy did not improve from 0.81242\n",
      "Epoch 5/50\n",
      "6669/6669 [==============================] - 20s 3ms/step - loss: 0.2412 - accuracy: 0.9034 - val_loss: 0.6385 - val_accuracy: 0.7200\n",
      "\n",
      "Epoch 00005: val_accuracy did not improve from 0.81242\n",
      "Epoch 6/50\n",
      "6669/6669 [==============================] - 19s 3ms/step - loss: 0.1927 - accuracy: 0.9248 - val_loss: 0.6849 - val_accuracy: 0.7375\n",
      "\n",
      "Epoch 00006: val_accuracy did not improve from 0.81242\n",
      "Epoch 7/50\n",
      "6669/6669 [==============================] - 19s 3ms/step - loss: 0.1499 - accuracy: 0.9447 - val_loss: 0.8794 - val_accuracy: 0.6997\n",
      "\n",
      "Epoch 00007: val_accuracy did not improve from 0.81242\n",
      "Epoch 8/50\n",
      "6669/6669 [==============================] - 19s 3ms/step - loss: 0.1268 - accuracy: 0.9551 - val_loss: 0.9396 - val_accuracy: 0.6997\n",
      "\n",
      "Epoch 00008: val_accuracy did not improve from 0.81242\n",
      "Epoch 9/50\n",
      "6669/6669 [==============================] - 20s 3ms/step - loss: 0.1046 - accuracy: 0.9618 - val_loss: 1.0166 - val_accuracy: 0.6957\n",
      "\n",
      "Epoch 00009: val_accuracy did not improve from 0.81242\n",
      "Epoch 10/50\n",
      "6669/6669 [==============================] - 19s 3ms/step - loss: 0.0906 - accuracy: 0.9663 - val_loss: 1.1509 - val_accuracy: 0.6910\n",
      "\n",
      "Epoch 00010: val_accuracy did not improve from 0.81242\n",
      "Epoch 11/50\n",
      "6669/6669 [==============================] - 19s 3ms/step - loss: 0.0871 - accuracy: 0.9671 - val_loss: 1.0336 - val_accuracy: 0.7139\n",
      "\n",
      "Epoch 00011: val_accuracy did not improve from 0.81242\n",
      "Epoch 12/50\n",
      "6669/6669 [==============================] - 20s 3ms/step - loss: 0.0729 - accuracy: 0.9720 - val_loss: 1.3286 - val_accuracy: 0.6673\n",
      "\n",
      "Epoch 00012: val_accuracy did not improve from 0.81242\n",
      "Epoch 00012: early stopping\n"
     ]
    }
   ],
   "source": [
    "model3 = build_model()\n",
    "\n",
    "history1_3 = model3.fit(x_tr_3, y_tr, batch_size=128, epochs=50, validation_split=0.1, callbacks=callbacks)"
   ]
  },
  {
   "cell_type": "code",
   "execution_count": 30,
   "metadata": {},
   "outputs": [
    {
     "name": "stderr",
     "output_type": "stream",
     "text": [
      "/home/chiarapower/anaconda3/envs/tensorflow_gpuenv/lib/python3.7/site-packages/tensorflow_core/python/framework/indexed_slices.py:433: UserWarning: Converting sparse IndexedSlices to a dense Tensor of unknown shape. This may consume a large amount of memory.\n",
      "  \"Converting sparse IndexedSlices to a dense Tensor of unknown shape. \"\n"
     ]
    },
    {
     "name": "stdout",
     "output_type": "stream",
     "text": [
      "Train on 6669 samples, validate on 741 samples\n",
      "Epoch 1/50\n",
      "6669/6669 [==============================] - 19s 3ms/step - loss: 0.6709 - accuracy: 0.6131 - val_loss: 0.5720 - val_accuracy: 0.8286\n",
      "\n",
      "Epoch 00001: val_accuracy improved from 0.81242 to 0.82861, saving model to models_it//best_bi-lstm_IT_pos.h5\n",
      "Epoch 2/50\n",
      "6669/6669 [==============================] - 18s 3ms/step - loss: 0.6399 - accuracy: 0.6404 - val_loss: 0.5249 - val_accuracy: 0.8286\n",
      "\n",
      "Epoch 00002: val_accuracy did not improve from 0.82861\n",
      "Epoch 3/50\n",
      "6669/6669 [==============================] - 20s 3ms/step - loss: 0.6155 - accuracy: 0.6715 - val_loss: 0.5374 - val_accuracy: 0.7557\n",
      "\n",
      "Epoch 00003: val_accuracy did not improve from 0.82861\n",
      "Epoch 4/50\n",
      "6669/6669 [==============================] - 18s 3ms/step - loss: 0.5787 - accuracy: 0.7043 - val_loss: 0.5368 - val_accuracy: 0.7409\n",
      "\n",
      "Epoch 00004: val_accuracy did not improve from 0.82861\n",
      "Epoch 5/50\n",
      "6669/6669 [==============================] - 18s 3ms/step - loss: 0.5529 - accuracy: 0.7197 - val_loss: 0.5310 - val_accuracy: 0.7375\n",
      "\n",
      "Epoch 00005: val_accuracy did not improve from 0.82861\n",
      "Epoch 6/50\n",
      "6669/6669 [==============================] - 18s 3ms/step - loss: 0.5246 - accuracy: 0.7416 - val_loss: 0.5711 - val_accuracy: 0.7132\n",
      "\n",
      "Epoch 00006: val_accuracy did not improve from 0.82861\n",
      "Epoch 7/50\n",
      "6669/6669 [==============================] - 18s 3ms/step - loss: 0.5062 - accuracy: 0.7515 - val_loss: 0.5675 - val_accuracy: 0.7240\n",
      "\n",
      "Epoch 00007: val_accuracy did not improve from 0.82861\n",
      "Epoch 8/50\n",
      "6669/6669 [==============================] - 18s 3ms/step - loss: 0.4848 - accuracy: 0.7649 - val_loss: 0.5955 - val_accuracy: 0.7092\n",
      "\n",
      "Epoch 00008: val_accuracy did not improve from 0.82861\n",
      "Epoch 9/50\n",
      "6669/6669 [==============================] - 18s 3ms/step - loss: 0.4698 - accuracy: 0.7690 - val_loss: 0.6057 - val_accuracy: 0.7072\n",
      "\n",
      "Epoch 00009: val_accuracy did not improve from 0.82861\n",
      "Epoch 10/50\n",
      "6669/6669 [==============================] - 20s 3ms/step - loss: 0.4561 - accuracy: 0.7764 - val_loss: 0.6630 - val_accuracy: 0.6937\n",
      "\n",
      "Epoch 00010: val_accuracy did not improve from 0.82861\n",
      "Epoch 11/50\n",
      "6669/6669 [==============================] - 20s 3ms/step - loss: 0.4492 - accuracy: 0.7792 - val_loss: 0.6520 - val_accuracy: 0.7051\n",
      "\n",
      "Epoch 00011: val_accuracy did not improve from 0.82861\n",
      "Epoch 12/50\n",
      "6669/6669 [==============================] - 19s 3ms/step - loss: 0.4358 - accuracy: 0.7837 - val_loss: 0.6851 - val_accuracy: 0.6984\n",
      "\n",
      "Epoch 00012: val_accuracy did not improve from 0.82861\n",
      "Epoch 00012: early stopping\n"
     ]
    }
   ],
   "source": [
    "model4 = build_model()\n",
    "\n",
    "history1_4 = model4.fit(x_tr_4, y_tr, batch_size=128, epochs=50, validation_split=0.1, callbacks=callbacks)"
   ]
  },
  {
   "cell_type": "code",
   "execution_count": null,
   "metadata": {},
   "outputs": [],
   "source": []
  }
 ],
 "metadata": {
  "kernelspec": {
   "display_name": "Python [conda env:tensorflow_gpuenv] *",
   "language": "python",
   "name": "conda-env-tensorflow_gpuenv-py"
  },
  "language_info": {
   "codemirror_mode": {
    "name": "ipython",
    "version": 3
   },
   "file_extension": ".py",
   "mimetype": "text/x-python",
   "name": "python",
   "nbconvert_exporter": "python",
   "pygments_lexer": "ipython3",
   "version": "3.7.7"
  }
 },
 "nbformat": 4,
 "nbformat_minor": 4
}
